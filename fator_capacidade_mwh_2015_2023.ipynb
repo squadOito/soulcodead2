{
  "nbformat": 4,
  "nbformat_minor": 0,
  "metadata": {
    "colab": {
      "provenance": [],
      "include_colab_link": true
    },
    "kernelspec": {
      "name": "python3",
      "display_name": "Python 3"
    },
    "language_info": {
      "name": "python"
    }
  },
  "cells": [
    {
      "cell_type": "markdown",
      "metadata": {
        "id": "view-in-github",
        "colab_type": "text"
      },
      "source": [
        "<a href=\"https://colab.research.google.com/github/squadOito/soulcodead2/blob/wesley%2Fnotebook/fator_capacidade_mwh_2015_2023.ipynb\" target=\"_parent\"><img src=\"https://colab.research.google.com/assets/colab-badge.svg\" alt=\"Open In Colab\"/></a>"
      ]
    },
    {
      "cell_type": "markdown",
      "source": [
        "## **Projeto Final**\n",
        "Escola: SoulCode Academy\n",
        "\n",
        "Curso: Bootcamp Analista de Dados - Martech - AD2\n",
        "\n",
        "**Alunos: Adriano Kim, José Aurelio, Marcos Paulo, Paulo Vitorino e Renato Costa e Wesley Luiz**\n",
        "\n",
        "Professores: Douglas Ribeiro, Franciane Rodrigues e Jonathas Carneiro"
      ],
      "metadata": {
        "id": "e6xr26o5ii1L"
      }
    },
    {
      "cell_type": "markdown",
      "source": [
        "#**Perguntas de negócio**:\n",
        "\n",
        "1) Qual o quadro atual de geração de energia elétrica no Brasil (disponibilidade por região)?\n",
        "\n",
        "2) Diante do panorama atual, quais fontes apresentam maiores taxas de crescimento?\n",
        "\n",
        "3) Quais as regiões que apresentam maior potencial de exploração de fontes de energia?\n",
        "\n",
        "---\n",
        "\n"
      ],
      "metadata": {
        "id": "BYEQz24KPKYi"
      }
    },
    {
      "cell_type": "markdown",
      "source": [
        "# Base de Dados Informações gerais\n",
        "\n",
        "<br>O Operador Nacional do Sistema Elétrico (ONS) é o órgão responsável pela coordenação e controle da operação das instalações de geração e transmissão de energia elétrica no Sistema Interligado Nacional (SIN) e pelo planejamento da operação dos sistemas isolados do país, sob a fiscalização e regulação da Agência Nacional de Energia Elétrica (Aneel).\n",
        "\n",
        "Fator de capacidade de usinas e conjuntos de usinas eólicos e solares despachados pelo ONS em base horária. O fator de capacidade é obtido pela relação entre a geração e a capacidade instalada das usinas.\n",
        "\n",
        "Os dados presentes são dos anos de 01/01/2015 a 01/08/2023\n",
        "\n",
        "********* REVISAR Obs.: descrever o PORQUE nao alteramos tanto o dicionario!!!\n",
        "\n",
        "\n",
        "<br> Fontes:\n",
        "\n",
        "https://dados.ons.org.br/dataset/fator-capacidade-2\n",
        "\n",
        "https://www.ons.org.br/paginas/sobre-o-ons/o-que-e-ons\n"
      ],
      "metadata": {
        "id": "ELp0xHUwTO0T"
      }
    },
    {
      "cell_type": "markdown",
      "source": [
        "## **Dicionário de dados**\n",
        "\n",
        "Obs.: descrever o PORQUE nao alteramos tanto o dicionario!!!"
      ],
      "metadata": {
        "id": "-KiI5to9Uj6i"
      }
    },
    {
      "cell_type": "markdown",
      "source": [
        "* id_subsistema - Identificador do subsistema\n",
        "* nom_subsistema - Nome do subsistema\n",
        "* id_estado - Sigla do Estado\n",
        "* nom_estado - Nome do Estado\n",
        "* nom_pontoconexao - Nome do ponto de conexão da\n",
        "usina/conjunto\n",
        "* nom_localizacao - Localização da usina/conjunto;\n",
        "O conteúdo está disponível apenas\n",
        "para Usinas da região Nordeste\n",
        "* val_latitudesecoletora  - Latitude da usina/conjunto\n",
        "* val_longitudesecoletora - Longitude da usina/conjunto\n",
        "* val_latitudepontoconexao - Latitude do Ponto de Conexão\n",
        "* val_longitudepontoconexao - Longitude do Ponto de Conexão\n",
        "* nom_modalidadeoperacao - Modalidade de operação\n",
        "* nom_tipousina - Tipo da usina\n",
        "* nom_usina_conjunto - Nome da usina/conjunto\n",
        "* din_instante  - Data e hora\n",
        "* id_ons - Identificador da usina ou conjunto no\n",
        "ONS\n",
        "* ceg - Código Único do Empreendimento de\n",
        "Geração (CEG), estabelecido pela\n",
        "ANEEL\n",
        "* val_geracaoprogramada - Geração Programada, em MWmed(relação entre a eletricidade gerada em MWh e o tempo de funcionamento das instalações).\n",
        "* val_geracaoverificada - Geração Verificada, em MWmed(relação entre a eletricidade gerada em MWh e o tempo de funcionamento das instalações).\n",
        "* val_capacidadeinstalada - Capacidade instalada, em MW(MegaWatts)\n",
        "* val_fatorcapacidade - Fator de capacidade, obtida pela\n",
        "relação entre a geração e a capacidade\n",
        "instalada\n",
        "\n",
        "\n",
        "> fonte:\n",
        "*  https://dados.ons.org.br/dataset/fator-capacidade-2/resource/142f9c3b-4feb-492e-a0b4-bce97f059fca"
      ],
      "metadata": {
        "id": "SYdPRuwh2PEe"
      }
    },
    {
      "cell_type": "markdown",
      "source": [
        "# Extração\n",
        "A primeira etapa da ETL é a extração dos dados de sua fonte original. Dependendo do tipo de dados e da fonte, você pode precisar de diferentes ferramentas e técnicas para extrair os dados."
      ],
      "metadata": {
        "id": "0dZJqZvm1DES"
      }
    },
    {
      "cell_type": "markdown",
      "source": [
        "## Instalações de Bibliotecas\n",
        "Instalações e importações das bibliotecas necessárias para o processo de ETL."
      ],
      "metadata": {
        "id": "L7abbfpEBjvV"
      }
    },
    {
      "cell_type": "code",
      "execution_count": 1,
      "metadata": {
        "id": "cGTV4K2w0xhZ"
      },
      "outputs": [],
      "source": [
        "!pip install gcsfs"
      ]
    },
    {
      "cell_type": "code",
      "source": [
        "!pip install pandera"
      ],
      "metadata": {
        "id": "jnnF93Nv9L64"
      },
      "execution_count": null,
      "outputs": []
    },
    {
      "cell_type": "code",
      "source": [
        "# Importando Bibliotecas pré instaladas\n",
        "import os\n",
        "import pandas as pd\n",
        "import numpy as np\n",
        "import pandera as pa\n",
        "from google.cloud import storage\n",
        "from google.colab import drive"
      ],
      "metadata": {
        "id": "9PyA1knO9Wau"
      },
      "execution_count": 3,
      "outputs": []
    },
    {
      "cell_type": "code",
      "source": [
        "# Ignorando alguns alertas desnecessários\n",
        "import warnings\n",
        "warnings.filterwarnings(\"ignore\")"
      ],
      "metadata": {
        "id": "um2OUpf69mnW"
      },
      "execution_count": 4,
      "outputs": []
    },
    {
      "cell_type": "code",
      "source": [
        "# Configuração da quantidade de colunas para aparecer em um DataFrame\n",
        "pd.set_option('display.max_columns',100)"
      ],
      "metadata": {
        "id": "AeslQXYjNiEy"
      },
      "execution_count": 5,
      "outputs": []
    },
    {
      "cell_type": "code",
      "source": [
        "# Conexão com a conta do Google Cloud\n",
        "serviceAccount = '/content/projeto-final-ad2-e8-ae566c3a2c2b.json'\n",
        "os.environ['GOOGLE_APPLICATION_CREDENTIALS'] = serviceAccount"
      ],
      "metadata": {
        "id": "CyymFDdQ2akm"
      },
      "execution_count": 6,
      "outputs": []
    },
    {
      "cell_type": "code",
      "source": [
        "# Conexão com a bucket do Google Cloud\n",
        "\n",
        "client = storage.Client()\n",
        "bucket = client.get_bucket('projeto-final-ad2-e8')\n",
        "bucket.blob('FATOR_CAPACIDADE_2015a2023_bruto.csv')\n",
        "path = 'gs://projeto-final-ad2-e8/dados/brutos/csv/FATOR_CAPACIDADE_2015a2023_bruto.csv'\n"
      ],
      "metadata": {
        "id": "TV-rH7EWbVpm"
      },
      "execution_count": 7,
      "outputs": []
    },
    {
      "cell_type": "code",
      "source": [
        "# Leitura e configuração dos arquivos extraidos\n",
        "df_fator_cap = pd.read_csv(path,\n",
        "                 sep=';',\n",
        "                 encoding='UTF-8')"
      ],
      "metadata": {
        "id": "5RA70GsGesUH"
      },
      "execution_count": 9,
      "outputs": []
    },
    {
      "cell_type": "markdown",
      "source": [
        "## Pré Análise"
      ],
      "metadata": {
        "id": "V1UNCIESAaZN"
      }
    },
    {
      "cell_type": "code",
      "source": [
        "# Visualização geral\n",
        "df_fator_cap"
      ],
      "metadata": {
        "id": "ji1Xb8ccfuyt"
      },
      "execution_count": null,
      "outputs": []
    },
    {
      "cell_type": "code",
      "source": [
        "# Visualização de forma aleatoria\n",
        "df_fator_cap.sample(3)"
      ],
      "metadata": {
        "id": "7VOwplWAj1qP",
        "colab": {
          "base_uri": "https://localhost:8080/",
          "height": 294
        },
        "outputId": "e49fbb71-103f-4365-f8bd-2fd9017d661c"
      },
      "execution_count": 11,
      "outputs": [
        {
          "output_type": "execute_result",
          "data": {
            "text/plain": [
              "        id_subsistema nom_subsistema id_estado           nom_estado  \\\n",
              "635567             NE       Nordeste        BA                BAHIA   \n",
              "5678896            NE       Nordeste        RN  RIO GRANDE DO NORTE   \n",
              "1526345            NE       Nordeste        RN  RIO GRANDE DO NORTE   \n",
              "\n",
              "                  nom_pontoconexao nom_localizacao  val_latitudesecoletora  \\\n",
              "635567   U.SOBRADINHO - 230 kV (A)        Interior               -9.856667   \n",
              "5678896  LAGOA NOVA II - 69 kV (A)        Interior               -6.039104   \n",
              "1526345  LAGOA NOVA II - 69 kV (A)        Interior               -6.039539   \n",
              "\n",
              "         val_longitudesecoletora  val_latitudepontoconexao  \\\n",
              "635567                -41.090000                 -9.436083   \n",
              "5678896               -36.489338                 -6.060491   \n",
              "1526345               -36.489331                 -6.060491   \n",
              "\n",
              "         val_longitudepontoconexao nom_modalidadeoperacao nom_tipousina  \\\n",
              "635567                  -40.829167     Conjunto de Usinas        Eólica   \n",
              "5678896                 -36.524827     Conjunto de Usinas        Eólica   \n",
              "1526345                 -36.524827     Conjunto de Usinas        Eólica   \n",
              "\n",
              "         nom_usina_conjunto     id_ons ceg         din_instante  \\\n",
              "635567   Conj. Pedra Branca  CJU_BAPBR   -  2016-07-16 02:00:00   \n",
              "5678896     Conj. Calango 2  CJU_RNCA2   -  2021-09-09 19:00:00   \n",
              "1526345     Conj. Calango 3  CJU_RNCA3   -  2017-11-03 05:00:00   \n",
              "\n",
              "         val_geracaoprogramada  val_geracaoverificada  \\\n",
              "635567                   180.0                 50.211   \n",
              "5678896                   68.5                 70.000   \n",
              "1526345                   73.5                 57.691   \n",
              "\n",
              "         val_capacidadeinstalada  val_fatorcapacidade  \n",
              "635567                   248.915             0.201719  \n",
              "5678896                   90.000             0.777778  \n",
              "1526345                   84.000             0.686798  "
            ],
            "text/html": [
              "\n",
              "\n",
              "  <div id=\"df-9fbc5f1c-8172-4aa9-bb3e-5b569786809d\">\n",
              "    <div class=\"colab-df-container\">\n",
              "      <div>\n",
              "<style scoped>\n",
              "    .dataframe tbody tr th:only-of-type {\n",
              "        vertical-align: middle;\n",
              "    }\n",
              "\n",
              "    .dataframe tbody tr th {\n",
              "        vertical-align: top;\n",
              "    }\n",
              "\n",
              "    .dataframe thead th {\n",
              "        text-align: right;\n",
              "    }\n",
              "</style>\n",
              "<table border=\"1\" class=\"dataframe\">\n",
              "  <thead>\n",
              "    <tr style=\"text-align: right;\">\n",
              "      <th></th>\n",
              "      <th>id_subsistema</th>\n",
              "      <th>nom_subsistema</th>\n",
              "      <th>id_estado</th>\n",
              "      <th>nom_estado</th>\n",
              "      <th>nom_pontoconexao</th>\n",
              "      <th>nom_localizacao</th>\n",
              "      <th>val_latitudesecoletora</th>\n",
              "      <th>val_longitudesecoletora</th>\n",
              "      <th>val_latitudepontoconexao</th>\n",
              "      <th>val_longitudepontoconexao</th>\n",
              "      <th>nom_modalidadeoperacao</th>\n",
              "      <th>nom_tipousina</th>\n",
              "      <th>nom_usina_conjunto</th>\n",
              "      <th>id_ons</th>\n",
              "      <th>ceg</th>\n",
              "      <th>din_instante</th>\n",
              "      <th>val_geracaoprogramada</th>\n",
              "      <th>val_geracaoverificada</th>\n",
              "      <th>val_capacidadeinstalada</th>\n",
              "      <th>val_fatorcapacidade</th>\n",
              "    </tr>\n",
              "  </thead>\n",
              "  <tbody>\n",
              "    <tr>\n",
              "      <th>635567</th>\n",
              "      <td>NE</td>\n",
              "      <td>Nordeste</td>\n",
              "      <td>BA</td>\n",
              "      <td>BAHIA</td>\n",
              "      <td>U.SOBRADINHO - 230 kV (A)</td>\n",
              "      <td>Interior</td>\n",
              "      <td>-9.856667</td>\n",
              "      <td>-41.090000</td>\n",
              "      <td>-9.436083</td>\n",
              "      <td>-40.829167</td>\n",
              "      <td>Conjunto de Usinas</td>\n",
              "      <td>Eólica</td>\n",
              "      <td>Conj. Pedra Branca</td>\n",
              "      <td>CJU_BAPBR</td>\n",
              "      <td>-</td>\n",
              "      <td>2016-07-16 02:00:00</td>\n",
              "      <td>180.0</td>\n",
              "      <td>50.211</td>\n",
              "      <td>248.915</td>\n",
              "      <td>0.201719</td>\n",
              "    </tr>\n",
              "    <tr>\n",
              "      <th>5678896</th>\n",
              "      <td>NE</td>\n",
              "      <td>Nordeste</td>\n",
              "      <td>RN</td>\n",
              "      <td>RIO GRANDE DO NORTE</td>\n",
              "      <td>LAGOA NOVA II - 69 kV (A)</td>\n",
              "      <td>Interior</td>\n",
              "      <td>-6.039104</td>\n",
              "      <td>-36.489338</td>\n",
              "      <td>-6.060491</td>\n",
              "      <td>-36.524827</td>\n",
              "      <td>Conjunto de Usinas</td>\n",
              "      <td>Eólica</td>\n",
              "      <td>Conj. Calango 2</td>\n",
              "      <td>CJU_RNCA2</td>\n",
              "      <td>-</td>\n",
              "      <td>2021-09-09 19:00:00</td>\n",
              "      <td>68.5</td>\n",
              "      <td>70.000</td>\n",
              "      <td>90.000</td>\n",
              "      <td>0.777778</td>\n",
              "    </tr>\n",
              "    <tr>\n",
              "      <th>1526345</th>\n",
              "      <td>NE</td>\n",
              "      <td>Nordeste</td>\n",
              "      <td>RN</td>\n",
              "      <td>RIO GRANDE DO NORTE</td>\n",
              "      <td>LAGOA NOVA II - 69 kV (A)</td>\n",
              "      <td>Interior</td>\n",
              "      <td>-6.039539</td>\n",
              "      <td>-36.489331</td>\n",
              "      <td>-6.060491</td>\n",
              "      <td>-36.524827</td>\n",
              "      <td>Conjunto de Usinas</td>\n",
              "      <td>Eólica</td>\n",
              "      <td>Conj. Calango 3</td>\n",
              "      <td>CJU_RNCA3</td>\n",
              "      <td>-</td>\n",
              "      <td>2017-11-03 05:00:00</td>\n",
              "      <td>73.5</td>\n",
              "      <td>57.691</td>\n",
              "      <td>84.000</td>\n",
              "      <td>0.686798</td>\n",
              "    </tr>\n",
              "  </tbody>\n",
              "</table>\n",
              "</div>\n",
              "      <button class=\"colab-df-convert\" onclick=\"convertToInteractive('df-9fbc5f1c-8172-4aa9-bb3e-5b569786809d')\"\n",
              "              title=\"Convert this dataframe to an interactive table.\"\n",
              "              style=\"display:none;\">\n",
              "\n",
              "  <svg xmlns=\"http://www.w3.org/2000/svg\" height=\"24px\"viewBox=\"0 0 24 24\"\n",
              "       width=\"24px\">\n",
              "    <path d=\"M0 0h24v24H0V0z\" fill=\"none\"/>\n",
              "    <path d=\"M18.56 5.44l.94 2.06.94-2.06 2.06-.94-2.06-.94-.94-2.06-.94 2.06-2.06.94zm-11 1L8.5 8.5l.94-2.06 2.06-.94-2.06-.94L8.5 2.5l-.94 2.06-2.06.94zm10 10l.94 2.06.94-2.06 2.06-.94-2.06-.94-.94-2.06-.94 2.06-2.06.94z\"/><path d=\"M17.41 7.96l-1.37-1.37c-.4-.4-.92-.59-1.43-.59-.52 0-1.04.2-1.43.59L10.3 9.45l-7.72 7.72c-.78.78-.78 2.05 0 2.83L4 21.41c.39.39.9.59 1.41.59.51 0 1.02-.2 1.41-.59l7.78-7.78 2.81-2.81c.8-.78.8-2.07 0-2.86zM5.41 20L4 18.59l7.72-7.72 1.47 1.35L5.41 20z\"/>\n",
              "  </svg>\n",
              "      </button>\n",
              "\n",
              "\n",
              "\n",
              "    <div id=\"df-3c425612-c17b-41b2-98e9-53b2d78fdd46\">\n",
              "      <button class=\"colab-df-quickchart\" onclick=\"quickchart('df-3c425612-c17b-41b2-98e9-53b2d78fdd46')\"\n",
              "              title=\"Suggest charts.\"\n",
              "              style=\"display:none;\">\n",
              "\n",
              "<svg xmlns=\"http://www.w3.org/2000/svg\" height=\"24px\"viewBox=\"0 0 24 24\"\n",
              "     width=\"24px\">\n",
              "    <g>\n",
              "        <path d=\"M19 3H5c-1.1 0-2 .9-2 2v14c0 1.1.9 2 2 2h14c1.1 0 2-.9 2-2V5c0-1.1-.9-2-2-2zM9 17H7v-7h2v7zm4 0h-2V7h2v10zm4 0h-2v-4h2v4z\"/>\n",
              "    </g>\n",
              "</svg>\n",
              "      </button>\n",
              "    </div>\n",
              "\n",
              "<style>\n",
              "  .colab-df-quickchart {\n",
              "    background-color: #E8F0FE;\n",
              "    border: none;\n",
              "    border-radius: 50%;\n",
              "    cursor: pointer;\n",
              "    display: none;\n",
              "    fill: #1967D2;\n",
              "    height: 32px;\n",
              "    padding: 0 0 0 0;\n",
              "    width: 32px;\n",
              "  }\n",
              "\n",
              "  .colab-df-quickchart:hover {\n",
              "    background-color: #E2EBFA;\n",
              "    box-shadow: 0px 1px 2px rgba(60, 64, 67, 0.3), 0px 1px 3px 1px rgba(60, 64, 67, 0.15);\n",
              "    fill: #174EA6;\n",
              "  }\n",
              "\n",
              "  [theme=dark] .colab-df-quickchart {\n",
              "    background-color: #3B4455;\n",
              "    fill: #D2E3FC;\n",
              "  }\n",
              "\n",
              "  [theme=dark] .colab-df-quickchart:hover {\n",
              "    background-color: #434B5C;\n",
              "    box-shadow: 0px 1px 3px 1px rgba(0, 0, 0, 0.15);\n",
              "    filter: drop-shadow(0px 1px 2px rgba(0, 0, 0, 0.3));\n",
              "    fill: #FFFFFF;\n",
              "  }\n",
              "</style>\n",
              "\n",
              "    <script>\n",
              "      async function quickchart(key) {\n",
              "        const containerElement = document.querySelector('#' + key);\n",
              "        const charts = await google.colab.kernel.invokeFunction(\n",
              "            'suggestCharts', [key], {});\n",
              "      }\n",
              "    </script>\n",
              "\n",
              "      <script>\n",
              "\n",
              "function displayQuickchartButton(domScope) {\n",
              "  let quickchartButtonEl =\n",
              "    domScope.querySelector('#df-3c425612-c17b-41b2-98e9-53b2d78fdd46 button.colab-df-quickchart');\n",
              "  quickchartButtonEl.style.display =\n",
              "    google.colab.kernel.accessAllowed ? 'block' : 'none';\n",
              "}\n",
              "\n",
              "        displayQuickchartButton(document);\n",
              "      </script>\n",
              "      <style>\n",
              "    .colab-df-container {\n",
              "      display:flex;\n",
              "      flex-wrap:wrap;\n",
              "      gap: 12px;\n",
              "    }\n",
              "\n",
              "    .colab-df-convert {\n",
              "      background-color: #E8F0FE;\n",
              "      border: none;\n",
              "      border-radius: 50%;\n",
              "      cursor: pointer;\n",
              "      display: none;\n",
              "      fill: #1967D2;\n",
              "      height: 32px;\n",
              "      padding: 0 0 0 0;\n",
              "      width: 32px;\n",
              "    }\n",
              "\n",
              "    .colab-df-convert:hover {\n",
              "      background-color: #E2EBFA;\n",
              "      box-shadow: 0px 1px 2px rgba(60, 64, 67, 0.3), 0px 1px 3px 1px rgba(60, 64, 67, 0.15);\n",
              "      fill: #174EA6;\n",
              "    }\n",
              "\n",
              "    [theme=dark] .colab-df-convert {\n",
              "      background-color: #3B4455;\n",
              "      fill: #D2E3FC;\n",
              "    }\n",
              "\n",
              "    [theme=dark] .colab-df-convert:hover {\n",
              "      background-color: #434B5C;\n",
              "      box-shadow: 0px 1px 3px 1px rgba(0, 0, 0, 0.15);\n",
              "      filter: drop-shadow(0px 1px 2px rgba(0, 0, 0, 0.3));\n",
              "      fill: #FFFFFF;\n",
              "    }\n",
              "  </style>\n",
              "\n",
              "      <script>\n",
              "        const buttonEl =\n",
              "          document.querySelector('#df-9fbc5f1c-8172-4aa9-bb3e-5b569786809d button.colab-df-convert');\n",
              "        buttonEl.style.display =\n",
              "          google.colab.kernel.accessAllowed ? 'block' : 'none';\n",
              "\n",
              "        async function convertToInteractive(key) {\n",
              "          const element = document.querySelector('#df-9fbc5f1c-8172-4aa9-bb3e-5b569786809d');\n",
              "          const dataTable =\n",
              "            await google.colab.kernel.invokeFunction('convertToInteractive',\n",
              "                                                     [key], {});\n",
              "          if (!dataTable) return;\n",
              "\n",
              "          const docLinkHtml = 'Like what you see? Visit the ' +\n",
              "            '<a target=\"_blank\" href=https://colab.research.google.com/notebooks/data_table.ipynb>data table notebook</a>'\n",
              "            + ' to learn more about interactive tables.';\n",
              "          element.innerHTML = '';\n",
              "          dataTable['output_type'] = 'display_data';\n",
              "          await google.colab.output.renderOutput(dataTable, element);\n",
              "          const docLink = document.createElement('div');\n",
              "          docLink.innerHTML = docLinkHtml;\n",
              "          element.appendChild(docLink);\n",
              "        }\n",
              "      </script>\n",
              "    </div>\n",
              "  </div>\n"
            ]
          },
          "metadata": {},
          "execution_count": 11
        }
      ]
    },
    {
      "cell_type": "code",
      "source": [
        "# Tamanho total de (linhas , colunas)\n",
        "df_fator_cap.shape"
      ],
      "metadata": {
        "id": "Vk8p8Nd-kMWP",
        "colab": {
          "base_uri": "https://localhost:8080/"
        },
        "outputId": "2a59fab7-13d5-4a06-e7dc-9864b9911a9f"
      },
      "execution_count": 12,
      "outputs": [
        {
          "output_type": "execute_result",
          "data": {
            "text/plain": [
              "(8622780, 20)"
            ]
          },
          "metadata": {},
          "execution_count": 12
        }
      ]
    },
    {
      "cell_type": "code",
      "source": [
        "# Todos os tipos de dados presentes\n",
        "df_fator_cap.dtypes"
      ],
      "metadata": {
        "id": "fsZ6_xn6mGo3",
        "colab": {
          "base_uri": "https://localhost:8080/"
        },
        "outputId": "747086fb-4709-4511-daa3-cabc130d2dc9"
      },
      "execution_count": 13,
      "outputs": [
        {
          "output_type": "execute_result",
          "data": {
            "text/plain": [
              "id_subsistema                 object\n",
              "nom_subsistema                object\n",
              "id_estado                     object\n",
              "nom_estado                    object\n",
              "nom_pontoconexao              object\n",
              "nom_localizacao               object\n",
              "val_latitudesecoletora       float64\n",
              "val_longitudesecoletora      float64\n",
              "val_latitudepontoconexao     float64\n",
              "val_longitudepontoconexao    float64\n",
              "nom_modalidadeoperacao        object\n",
              "nom_tipousina                 object\n",
              "nom_usina_conjunto            object\n",
              "id_ons                        object\n",
              "ceg                           object\n",
              "din_instante                  object\n",
              "val_geracaoprogramada        float64\n",
              "val_geracaoverificada        float64\n",
              "val_capacidadeinstalada      float64\n",
              "val_fatorcapacidade          float64\n",
              "dtype: object"
            ]
          },
          "metadata": {},
          "execution_count": 13
        }
      ]
    },
    {
      "cell_type": "code",
      "source": [
        "# Contagem de observações para cada coluna\n",
        "df_fator_cap.count()"
      ],
      "metadata": {
        "id": "-mLulv3imH94",
        "colab": {
          "base_uri": "https://localhost:8080/"
        },
        "outputId": "aefb9e55-9ee9-4f40-e8c7-67a4ace603dd"
      },
      "execution_count": 14,
      "outputs": [
        {
          "output_type": "execute_result",
          "data": {
            "text/plain": [
              "id_subsistema                8622780\n",
              "nom_subsistema               8622780\n",
              "id_estado                    8622780\n",
              "nom_estado                   8622780\n",
              "nom_pontoconexao             8553255\n",
              "nom_localizacao              7420235\n",
              "val_latitudesecoletora       8610132\n",
              "val_longitudesecoletora      8610132\n",
              "val_latitudepontoconexao     8485411\n",
              "val_longitudepontoconexao    8485411\n",
              "nom_modalidadeoperacao       8622780\n",
              "nom_tipousina                8622780\n",
              "nom_usina_conjunto           8622780\n",
              "id_ons                       8622780\n",
              "ceg                          8622780\n",
              "din_instante                 8622780\n",
              "val_geracaoprogramada        8278267\n",
              "val_geracaoverificada        8622780\n",
              "val_capacidadeinstalada      8578982\n",
              "val_fatorcapacidade          8622780\n",
              "dtype: int64"
            ]
          },
          "metadata": {},
          "execution_count": 14
        }
      ]
    },
    {
      "cell_type": "code",
      "source": [
        "# Informações detalhadas\n",
        "df_fator_cap.info()"
      ],
      "metadata": {
        "id": "m6SgfErBpnz3"
      },
      "execution_count": null,
      "outputs": []
    },
    {
      "cell_type": "code",
      "source": [
        "# Fazendo um relatório para mostrar os valores únicos de cada atributo.\n",
        "# O for vai garantir que a atividade seja feita automaticamentepara todos os atributos\n",
        "\n",
        "for coluna in df_fator_cap:\n",
        "    valor = (df_fator_cap[coluna].unique())\n",
        "    print(\"-\"*70)\n",
        "    msg = f\"Valores únicos para o atributo {coluna}:\"\n",
        "    print(f\"{msg:^70}\")\n",
        "    print(\"-\"*70)\n",
        "    print(f\"\\n{valor}\\n\")\n",
        "    print(\"-\"*70)\n"
      ],
      "metadata": {
        "id": "KcNCjl87B9rk"
      },
      "execution_count": null,
      "outputs": []
    },
    {
      "cell_type": "markdown",
      "source": [
        "# Transformação\n",
        "Aqui os dados extraídos precisam ser transformados em um formato adequado para análise, e para isso deve seguir alguns passos, que podem precisar serem repetidos ao longo do processo de análise."
      ],
      "metadata": {
        "id": "VbLM1jZ51glR"
      }
    },
    {
      "cell_type": "markdown",
      "source": [
        "## Limpeza de Dados\n",
        "Remover dados duplicados, corrigir erros de digitação, tratar dados inconsistentes etc."
      ],
      "metadata": {
        "id": "2OIPr02e1w5B"
      }
    },
    {
      "cell_type": "code",
      "source": [
        "# Verificar se há valores duplicados\n",
        "df_fator_cap.duplicated()"
      ],
      "metadata": {
        "id": "Bbj-7zCn2Fee"
      },
      "execution_count": null,
      "outputs": []
    },
    {
      "cell_type": "code",
      "source": [
        "# Verificar se há valores nulos/ausentes\n",
        "df_fator_cap.isnull().sum()"
      ],
      "metadata": {
        "id": "ByCYsxjVrNy4"
      },
      "execution_count": null,
      "outputs": []
    },
    {
      "cell_type": "code",
      "source": [
        "# Descartando colunas\n",
        "# df.drop(['coluna1',], axis=1, inplace=True)"
      ],
      "metadata": {
        "id": "pc-JlvQ098n5"
      },
      "execution_count": null,
      "outputs": []
    },
    {
      "cell_type": "code",
      "source": [
        "df_fator_cap_backup = df_fator_cap.copy()"
      ],
      "metadata": {
        "id": "1aXYIUbW1gT0"
      },
      "execution_count": 58,
      "outputs": []
    },
    {
      "cell_type": "markdown",
      "source": [
        "## Normalização de Dados\n",
        "Colocar os dados em um formato padronizado para facilitar a análise."
      ],
      "metadata": {
        "id": "FG2L2jSi2Alp"
      }
    },
    {
      "cell_type": "markdown",
      "source": [
        "### Tipagem"
      ],
      "metadata": {
        "id": "wvAVi48v-O2s"
      }
    },
    {
      "cell_type": "code",
      "source": [
        "# criando um dataset para validar a tipagem\n",
        "df_data_alterada = df_fator_cap_backup.copy()"
      ],
      "metadata": {
        "id": "KCumKqZWwiQB"
      },
      "execution_count": 12,
      "outputs": []
    },
    {
      "cell_type": "code",
      "source": [
        "# Convertendo para data e hora, preservando as horas\n",
        "df_data_alterada['din_instante'] = pd.to_datetime(df_data_alterada['din_instante'], exact=False)"
      ],
      "metadata": {
        "id": "Z8j_KGtf05qN"
      },
      "execution_count": 13,
      "outputs": []
    },
    {
      "cell_type": "code",
      "source": [
        "# Verificando se foi efetivado a alteração\n",
        "df_data_alterada.info()"
      ],
      "metadata": {
        "id": "w9rl6m39wc8a"
      },
      "execution_count": null,
      "outputs": []
    },
    {
      "cell_type": "code",
      "source": [
        "# Garantindo que a tipagem não modificou a informação do registro\n",
        "df_fator_cap_backup.din_instante[10000]"
      ],
      "metadata": {
        "colab": {
          "base_uri": "https://localhost:8080/",
          "height": 35
        },
        "id": "G8OGHIFEwyqh",
        "outputId": "722d11ee-41a7-40d8-aece-9d2364c15f11"
      },
      "execution_count": 15,
      "outputs": [
        {
          "output_type": "execute_result",
          "data": {
            "text/plain": [
              "'2015-01-13 14:00:00'"
            ],
            "application/vnd.google.colaboratory.intrinsic+json": {
              "type": "string"
            }
          },
          "metadata": {},
          "execution_count": 15
        }
      ]
    },
    {
      "cell_type": "code",
      "source": [
        "# Garantindo que a tipagem não modificou a informação do registro\n",
        "df_data_alterada.din_instante[10000]"
      ],
      "metadata": {
        "colab": {
          "base_uri": "https://localhost:8080/"
        },
        "id": "3054EpmX6rG1",
        "outputId": "28d0016e-0088-43e6-c1f7-4ee59291f972"
      },
      "execution_count": 16,
      "outputs": [
        {
          "output_type": "execute_result",
          "data": {
            "text/plain": [
              "Timestamp('2015-01-13 14:00:00')"
            ]
          },
          "metadata": {},
          "execution_count": 16
        }
      ]
    },
    {
      "cell_type": "code",
      "source": [
        "# Convertendo para data e hora, preservando as horas. No dataframe de backup\n",
        "df_fator_cap_backup['din_instante'] = pd.to_datetime(df_fator_cap_backup['din_instante'], exact=False)"
      ],
      "metadata": {
        "id": "WJbnWHy8AYiP"
      },
      "execution_count": 59,
      "outputs": []
    },
    {
      "cell_type": "code",
      "source": [
        "# Verificando se foi efetivado a alteração\n",
        "df_fator_cap_backup.dtypes"
      ],
      "metadata": {
        "id": "4mFtQmFMgCP3"
      },
      "execution_count": null,
      "outputs": []
    },
    {
      "cell_type": "code",
      "source": [
        "# Realizando a tipagem das variaveis\n",
        "# df.coluna1 = df.coluna1.astype(int)"
      ],
      "metadata": {
        "id": "t0pQvuXU2I0x"
      },
      "execution_count": null,
      "outputs": []
    },
    {
      "cell_type": "markdown",
      "source": [
        "## Tradução"
      ],
      "metadata": {
        "id": "PlcatBQq-QkD"
      }
    },
    {
      "cell_type": "code",
      "source": [
        "# Renomeando/Traduzindo colunas\n",
        "# df.rename(columns={'coluna1':'traducao',}, inplace=True)\n",
        "df_fator_cap_backup.rename(columns={'din_instante':'data'}, inplace=True)"
      ],
      "metadata": {
        "id": "RnynpUhG1KZd"
      },
      "execution_count": 60,
      "outputs": []
    },
    {
      "cell_type": "code",
      "source": [
        "# Examinando alteração\n",
        "df_fator_cap_backup.dtypes"
      ],
      "metadata": {
        "id": "YSCe0djotK4u"
      },
      "execution_count": null,
      "outputs": []
    },
    {
      "cell_type": "code",
      "source": [
        "# Renomeando/Traduzindo registros\n",
        "# traducao = {\n",
        "#    'registro1': 'TRADUCAO',\n",
        "#    'registro2': 'TRADUCAO2',\n",
        "#}\n",
        "#df_2_2_backup.coluna1.replace(traducao,inplace=True)"
      ],
      "metadata": {
        "id": "PPPWrxZi7HFW"
      },
      "execution_count": null,
      "outputs": []
    },
    {
      "cell_type": "code",
      "source": [
        "# Examinando se os registros foram alterados\n",
        "# pd.unique(df.traducao)"
      ],
      "metadata": {
        "id": "cU-SFkb14MWN"
      },
      "execution_count": null,
      "outputs": []
    },
    {
      "cell_type": "markdown",
      "source": [
        "## **Qualidade e integridade dos dados**"
      ],
      "metadata": {
        "id": "j6krOtKKvkR-"
      }
    },
    {
      "cell_type": "markdown",
      "source": [
        "### **Validação da estrutura dos dados (schema)**"
      ],
      "metadata": {
        "id": "S03P8PdZwETm"
      }
    },
    {
      "cell_type": "code",
      "source": [
        "# Verifica se há qualquer valor nulo ou nao numerico(NaN)\n",
        "df_fator_cap_backup.isna().any()"
      ],
      "metadata": {
        "colab": {
          "base_uri": "https://localhost:8080/"
        },
        "id": "f3lvrPs9bujy",
        "outputId": "c61afddb-26a9-41c2-c267-9223e91da6a7"
      },
      "execution_count": 22,
      "outputs": [
        {
          "output_type": "execute_result",
          "data": {
            "text/plain": [
              "id_subsistema                False\n",
              "nom_subsistema               False\n",
              "id_estado                    False\n",
              "nom_estado                   False\n",
              "nom_pontoconexao              True\n",
              "nom_localizacao               True\n",
              "val_latitudesecoletora        True\n",
              "val_longitudesecoletora       True\n",
              "val_latitudepontoconexao      True\n",
              "val_longitudepontoconexao     True\n",
              "nom_modalidadeoperacao       False\n",
              "nom_tipousina                False\n",
              "nom_usina_conjunto           False\n",
              "id_ons                       False\n",
              "ceg                          False\n",
              "data                         False\n",
              "val_geracaoprogramada         True\n",
              "val_geracaoverificada        False\n",
              "val_capacidadeinstalada       True\n",
              "val_fatorcapacidade          False\n",
              "dtype: bool"
            ]
          },
          "metadata": {},
          "execution_count": 22
        }
      ]
    },
    {
      "cell_type": "code",
      "source": [
        "# Preenche os valores NaN na coluna por 'NA'\n",
        "df_fator_cap_backup['nom_pontoconexao'].fillna('NA', inplace=True)"
      ],
      "metadata": {
        "id": "VdMxo_JnmrDH"
      },
      "execution_count": 61,
      "outputs": []
    },
    {
      "cell_type": "code",
      "source": [
        "# Preenche os valores NaN na coluna por 'NA'\n",
        "df_fator_cap_backup['nom_localizacao'].fillna('NA', inplace=True)"
      ],
      "metadata": {
        "id": "opvpW11xVp43"
      },
      "execution_count": 64,
      "outputs": []
    },
    {
      "cell_type": "code",
      "source": [
        "# Preenche os valores NaN na coluna por '0'\n",
        "df_fator_cap_backup['val_latitudesecoletora'].fillna(0.0, inplace=True)"
      ],
      "metadata": {
        "id": "dPE6MTBzxHtD"
      },
      "execution_count": 65,
      "outputs": []
    },
    {
      "cell_type": "code",
      "source": [
        "# Preenche os valores NaN na coluna por '0'\n",
        "df_fator_cap_backup['val_longitudesecoletora'].fillna(0, inplace=True)"
      ],
      "metadata": {
        "id": "1ayZwBtUxJ17"
      },
      "execution_count": 66,
      "outputs": []
    },
    {
      "cell_type": "code",
      "source": [
        "# Preenche os valores NaN na coluna por '0'\n",
        "df_fator_cap_backup['val_latitudepontoconexao'].fillna(0, inplace=True)"
      ],
      "metadata": {
        "id": "lUeAzCGmxLOS"
      },
      "execution_count": 67,
      "outputs": []
    },
    {
      "cell_type": "code",
      "source": [
        "# Preenche os valores NaN na coluna por '0'\n",
        "df_fator_cap_backup['val_longitudepontoconexao'].fillna(0, inplace=True)"
      ],
      "metadata": {
        "id": "XuIvOJMuxNcj"
      },
      "execution_count": 68,
      "outputs": []
    },
    {
      "cell_type": "code",
      "source": [
        "# Preenche os valores NaN na coluna por '0'\n",
        "df_fator_cap_backup['val_geracaoprogramada'].fillna(0, inplace=True)"
      ],
      "metadata": {
        "id": "hiYkJjBd3rdV"
      },
      "execution_count": 69,
      "outputs": []
    },
    {
      "cell_type": "code",
      "source": [
        "# Interpola os valores na coluna e arredonda para duas casas decimais\n",
        "df_fator_cap_backup.val_capacidadeinstalada = df_fator_cap_backup.val_capacidadeinstalada.interpolate().round(2)"
      ],
      "metadata": {
        "id": "CvSIyBuX3zhN"
      },
      "execution_count": 70,
      "outputs": []
    },
    {
      "cell_type": "code",
      "source": [
        "df_fator_cap_backup.dtypes"
      ],
      "metadata": {
        "id": "7uef8qITLMMG"
      },
      "execution_count": null,
      "outputs": []
    },
    {
      "cell_type": "code",
      "source": [
        "df_fator_cap_backup.columns"
      ],
      "metadata": {
        "id": "s8Nd6NKvLGPr"
      },
      "execution_count": null,
      "outputs": []
    },
    {
      "cell_type": "code",
      "source": [
        "# Definindo o esquema de validação e o examinando\n",
        "schema = pa.DataFrameSchema({\n",
        "    'id_subsistema': pa.Column(pa.String),\n",
        "    'nom_subsistema': pa.Column(pa.String),\n",
        "    'id_estado': pa.Column(pa.String),\n",
        "    'nom_estado': pa.Column(pa.String),\n",
        "    'nom_pontoconexao': pa.Column(pa.String),\n",
        "    'nom_localizacao': pa.Column(pa.String),\n",
        "    'val_latitudesecoletora': pa.Column(pa.Float),\n",
        "    'val_longitudesecoletora': pa.Column(pa.Float),\n",
        "    'val_latitudepontoconexao': pa.Column(pa.Float),\n",
        "    'val_longitudepontoconexao': pa.Column(pa.Float),\n",
        "    'nom_modalidadeoperacao': pa.Column(pa.String),\n",
        "    'nom_tipousina': pa.Column(pa.String),\n",
        "    'nom_usina_conjunto': pa.Column(pa.String),\n",
        "    'id_ons': pa.Column(pa.String),\n",
        "    'ceg': pa.Column(pa.String),\n",
        "    'data': pa.Column(pa.DateTime),\n",
        "    'val_geracaoprogramada': pa.Column(pa.Float),\n",
        "    'val_geracaoverificada': pa.Column(pa.Float),\n",
        "    'val_capacidadeinstalada': pa.Column(pa.Float),\n",
        "    'val_fatorcapacidade': pa.Column(pa.Float)\n",
        "})\n",
        "\n",
        "schema.validate(df_fator_cap_backup)"
      ],
      "metadata": {
        "id": "pSPVby2swCzm"
      },
      "execution_count": null,
      "outputs": []
    },
    {
      "cell_type": "code",
      "source": [
        "df_fator_cap_backup.count()"
      ],
      "metadata": {
        "id": "E6AuHuOXJ9tV"
      },
      "execution_count": null,
      "outputs": []
    },
    {
      "cell_type": "markdown",
      "source": [
        "## **Colunas Persistidas**\n",
        "\n",
        "ATUALIZAR!!!!!!!!!!!!!!!!!!!!!!!!!!!\n"
      ],
      "metadata": {
        "id": "JqXejczoZybS"
      }
    },
    {
      "cell_type": "markdown",
      "source": [
        "* ATUALIZAR!!!!!!\n"
      ],
      "metadata": {
        "id": "mNOCmwZecd8v"
      }
    },
    {
      "cell_type": "markdown",
      "source": [
        "## Backup - Copia de segurança"
      ],
      "metadata": {
        "id": "59UEX6yQCrqX"
      }
    },
    {
      "cell_type": "code",
      "source": [
        "# Backup para analise\n",
        "df_fator_cap_tratado = df_fator_cap_backup.copy()"
      ],
      "metadata": {
        "id": "kPn9PJEFvtWW"
      },
      "execution_count": 75,
      "outputs": []
    },
    {
      "cell_type": "markdown",
      "source": [
        "# Carregamento\n",
        "Depois que os dados são extraídos e transformados adequadamente, eles estarão prontos para as análise, mas antes disso eles precisam ser carregados em um local de armazenamento adequado. Podendo ser um banco de dados SQL ou NoSQL, um sistema de armazenamento em nuvem, e para o caso de disponibilizar o projeto publicamente é ideal que ele seja colocar em uma pasta de datasets, diferenciando o arquivo bruto e o tratado."
      ],
      "metadata": {
        "id": "0hT5rrbf2Xrw"
      }
    },
    {
      "cell_type": "code",
      "source": [
        "# Upando para o Google Cloud\n",
        "\n",
        "df_fator_cap_tratado.to_csv('gs://projeto-final-ad2-e8/dados/tratados/fator_capacidade_mwh_2015_2023.csv', index=False)\n"
      ],
      "metadata": {
        "id": "ya7oNjhIlxeF"
      },
      "execution_count": 76,
      "outputs": []
    },
    {
      "cell_type": "markdown",
      "source": [
        "# Análise exploratória de dados.\n",
        "- Descrição de dados: identificação dos tipos de variáveis, dimensões dos dados, valores extremos e estatísticas descritivas.\n",
        "- Visualização dos dados: criação de gráficos, tabelas e outros tipos de visualização para entender a distribuição e a relação entre as variáveis.\n",
        "- Identificação de padrões: identificação de padrões, tendências, correlações e outras relações entre as variáveis.\n",
        "- Testes estatísticos: aplicação de testes estatísticos para confirmar ou refutar hipóteses sobre os dados."
      ],
      "metadata": {
        "id": "vWZSnA7a323p"
      }
    },
    {
      "cell_type": "markdown",
      "source": [
        "## Instalações de bibliotecas\n",
        "bibliotecas necessárias para a análise de dados que não haviam sido importadas anteriormente."
      ],
      "metadata": {
        "id": "61BpULdxB4eG"
      }
    },
    {
      "cell_type": "code",
      "source": [],
      "metadata": {
        "id": "qdgH_yzGCDQv"
      },
      "execution_count": null,
      "outputs": []
    },
    {
      "cell_type": "markdown",
      "source": [
        "## **Estatisticas**"
      ],
      "metadata": {
        "id": "deA1beF7EVJa"
      }
    },
    {
      "cell_type": "code",
      "source": [
        "# Resumo de estatisticas descritivas\n",
        "df_fator_cap_tratado.describe().round(2)"
      ],
      "metadata": {
        "id": "xt3WC7BzNrvJ",
        "colab": {
          "base_uri": "https://localhost:8080/",
          "height": 364
        },
        "outputId": "6a184792-80f3-4f08-c765-d08d2d1d99d2"
      },
      "execution_count": 77,
      "outputs": [
        {
          "output_type": "execute_result",
          "data": {
            "text/plain": [
              "       val_latitudesecoletora  val_longitudesecoletora  \\\n",
              "count              8622780.00               8622780.00   \n",
              "mean                   -10.51                   -40.78   \n",
              "std                      7.77                     4.99   \n",
              "min                    -33.47                   -55.71   \n",
              "25%                    -13.92                   -42.61   \n",
              "50%                     -7.96                   -40.64   \n",
              "75%                     -5.15                   -36.58   \n",
              "max                      0.00                     0.00   \n",
              "\n",
              "       val_latitudepontoconexao  val_longitudepontoconexao  \\\n",
              "count                8622780.00                 8622780.00   \n",
              "mean                     -10.48                     -40.26   \n",
              "std                        7.79                       6.96   \n",
              "min                      -33.47                     -55.71   \n",
              "25%                      -14.03                     -42.63   \n",
              "50%                       -8.03                     -40.48   \n",
              "75%                       -5.38                     -36.91   \n",
              "max                        0.00                       0.00   \n",
              "\n",
              "       val_geracaoprogramada  val_geracaoverificada  val_capacidadeinstalada  \\\n",
              "count             8622780.00             8622780.00               8622780.00   \n",
              "mean                   50.99                  54.25                   139.36   \n",
              "std                    59.41                  64.43                    99.71   \n",
              "min                     0.00                   0.00                     2.00   \n",
              "25%                    10.50                   9.67                    70.00   \n",
              "50%                    34.00                  35.06                   105.60   \n",
              "75%                    68.50                  73.98                   183.60   \n",
              "max                   759.50                2697.73                  1020.36   \n",
              "\n",
              "       val_fatorcapacidade  \n",
              "count           8622780.00  \n",
              "mean                  0.38  \n",
              "std                   0.31  \n",
              "min                   0.00  \n",
              "25%                   0.10  \n",
              "50%                   0.34  \n",
              "75%                   0.64  \n",
              "max                  12.19  "
            ],
            "text/html": [
              "\n",
              "\n",
              "  <div id=\"df-32ef49e6-9f74-4a39-9f74-9f57072f0d31\">\n",
              "    <div class=\"colab-df-container\">\n",
              "      <div>\n",
              "<style scoped>\n",
              "    .dataframe tbody tr th:only-of-type {\n",
              "        vertical-align: middle;\n",
              "    }\n",
              "\n",
              "    .dataframe tbody tr th {\n",
              "        vertical-align: top;\n",
              "    }\n",
              "\n",
              "    .dataframe thead th {\n",
              "        text-align: right;\n",
              "    }\n",
              "</style>\n",
              "<table border=\"1\" class=\"dataframe\">\n",
              "  <thead>\n",
              "    <tr style=\"text-align: right;\">\n",
              "      <th></th>\n",
              "      <th>val_latitudesecoletora</th>\n",
              "      <th>val_longitudesecoletora</th>\n",
              "      <th>val_latitudepontoconexao</th>\n",
              "      <th>val_longitudepontoconexao</th>\n",
              "      <th>val_geracaoprogramada</th>\n",
              "      <th>val_geracaoverificada</th>\n",
              "      <th>val_capacidadeinstalada</th>\n",
              "      <th>val_fatorcapacidade</th>\n",
              "    </tr>\n",
              "  </thead>\n",
              "  <tbody>\n",
              "    <tr>\n",
              "      <th>count</th>\n",
              "      <td>8622780.00</td>\n",
              "      <td>8622780.00</td>\n",
              "      <td>8622780.00</td>\n",
              "      <td>8622780.00</td>\n",
              "      <td>8622780.00</td>\n",
              "      <td>8622780.00</td>\n",
              "      <td>8622780.00</td>\n",
              "      <td>8622780.00</td>\n",
              "    </tr>\n",
              "    <tr>\n",
              "      <th>mean</th>\n",
              "      <td>-10.51</td>\n",
              "      <td>-40.78</td>\n",
              "      <td>-10.48</td>\n",
              "      <td>-40.26</td>\n",
              "      <td>50.99</td>\n",
              "      <td>54.25</td>\n",
              "      <td>139.36</td>\n",
              "      <td>0.38</td>\n",
              "    </tr>\n",
              "    <tr>\n",
              "      <th>std</th>\n",
              "      <td>7.77</td>\n",
              "      <td>4.99</td>\n",
              "      <td>7.79</td>\n",
              "      <td>6.96</td>\n",
              "      <td>59.41</td>\n",
              "      <td>64.43</td>\n",
              "      <td>99.71</td>\n",
              "      <td>0.31</td>\n",
              "    </tr>\n",
              "    <tr>\n",
              "      <th>min</th>\n",
              "      <td>-33.47</td>\n",
              "      <td>-55.71</td>\n",
              "      <td>-33.47</td>\n",
              "      <td>-55.71</td>\n",
              "      <td>0.00</td>\n",
              "      <td>0.00</td>\n",
              "      <td>2.00</td>\n",
              "      <td>0.00</td>\n",
              "    </tr>\n",
              "    <tr>\n",
              "      <th>25%</th>\n",
              "      <td>-13.92</td>\n",
              "      <td>-42.61</td>\n",
              "      <td>-14.03</td>\n",
              "      <td>-42.63</td>\n",
              "      <td>10.50</td>\n",
              "      <td>9.67</td>\n",
              "      <td>70.00</td>\n",
              "      <td>0.10</td>\n",
              "    </tr>\n",
              "    <tr>\n",
              "      <th>50%</th>\n",
              "      <td>-7.96</td>\n",
              "      <td>-40.64</td>\n",
              "      <td>-8.03</td>\n",
              "      <td>-40.48</td>\n",
              "      <td>34.00</td>\n",
              "      <td>35.06</td>\n",
              "      <td>105.60</td>\n",
              "      <td>0.34</td>\n",
              "    </tr>\n",
              "    <tr>\n",
              "      <th>75%</th>\n",
              "      <td>-5.15</td>\n",
              "      <td>-36.58</td>\n",
              "      <td>-5.38</td>\n",
              "      <td>-36.91</td>\n",
              "      <td>68.50</td>\n",
              "      <td>73.98</td>\n",
              "      <td>183.60</td>\n",
              "      <td>0.64</td>\n",
              "    </tr>\n",
              "    <tr>\n",
              "      <th>max</th>\n",
              "      <td>0.00</td>\n",
              "      <td>0.00</td>\n",
              "      <td>0.00</td>\n",
              "      <td>0.00</td>\n",
              "      <td>759.50</td>\n",
              "      <td>2697.73</td>\n",
              "      <td>1020.36</td>\n",
              "      <td>12.19</td>\n",
              "    </tr>\n",
              "  </tbody>\n",
              "</table>\n",
              "</div>\n",
              "      <button class=\"colab-df-convert\" onclick=\"convertToInteractive('df-32ef49e6-9f74-4a39-9f74-9f57072f0d31')\"\n",
              "              title=\"Convert this dataframe to an interactive table.\"\n",
              "              style=\"display:none;\">\n",
              "\n",
              "  <svg xmlns=\"http://www.w3.org/2000/svg\" height=\"24px\"viewBox=\"0 0 24 24\"\n",
              "       width=\"24px\">\n",
              "    <path d=\"M0 0h24v24H0V0z\" fill=\"none\"/>\n",
              "    <path d=\"M18.56 5.44l.94 2.06.94-2.06 2.06-.94-2.06-.94-.94-2.06-.94 2.06-2.06.94zm-11 1L8.5 8.5l.94-2.06 2.06-.94-2.06-.94L8.5 2.5l-.94 2.06-2.06.94zm10 10l.94 2.06.94-2.06 2.06-.94-2.06-.94-.94-2.06-.94 2.06-2.06.94z\"/><path d=\"M17.41 7.96l-1.37-1.37c-.4-.4-.92-.59-1.43-.59-.52 0-1.04.2-1.43.59L10.3 9.45l-7.72 7.72c-.78.78-.78 2.05 0 2.83L4 21.41c.39.39.9.59 1.41.59.51 0 1.02-.2 1.41-.59l7.78-7.78 2.81-2.81c.8-.78.8-2.07 0-2.86zM5.41 20L4 18.59l7.72-7.72 1.47 1.35L5.41 20z\"/>\n",
              "  </svg>\n",
              "      </button>\n",
              "\n",
              "\n",
              "\n",
              "    <div id=\"df-d2c6bc2e-2c5b-4958-9b59-e68bc31880e3\">\n",
              "      <button class=\"colab-df-quickchart\" onclick=\"quickchart('df-d2c6bc2e-2c5b-4958-9b59-e68bc31880e3')\"\n",
              "              title=\"Suggest charts.\"\n",
              "              style=\"display:none;\">\n",
              "\n",
              "<svg xmlns=\"http://www.w3.org/2000/svg\" height=\"24px\"viewBox=\"0 0 24 24\"\n",
              "     width=\"24px\">\n",
              "    <g>\n",
              "        <path d=\"M19 3H5c-1.1 0-2 .9-2 2v14c0 1.1.9 2 2 2h14c1.1 0 2-.9 2-2V5c0-1.1-.9-2-2-2zM9 17H7v-7h2v7zm4 0h-2V7h2v10zm4 0h-2v-4h2v4z\"/>\n",
              "    </g>\n",
              "</svg>\n",
              "      </button>\n",
              "    </div>\n",
              "\n",
              "<style>\n",
              "  .colab-df-quickchart {\n",
              "    background-color: #E8F0FE;\n",
              "    border: none;\n",
              "    border-radius: 50%;\n",
              "    cursor: pointer;\n",
              "    display: none;\n",
              "    fill: #1967D2;\n",
              "    height: 32px;\n",
              "    padding: 0 0 0 0;\n",
              "    width: 32px;\n",
              "  }\n",
              "\n",
              "  .colab-df-quickchart:hover {\n",
              "    background-color: #E2EBFA;\n",
              "    box-shadow: 0px 1px 2px rgba(60, 64, 67, 0.3), 0px 1px 3px 1px rgba(60, 64, 67, 0.15);\n",
              "    fill: #174EA6;\n",
              "  }\n",
              "\n",
              "  [theme=dark] .colab-df-quickchart {\n",
              "    background-color: #3B4455;\n",
              "    fill: #D2E3FC;\n",
              "  }\n",
              "\n",
              "  [theme=dark] .colab-df-quickchart:hover {\n",
              "    background-color: #434B5C;\n",
              "    box-shadow: 0px 1px 3px 1px rgba(0, 0, 0, 0.15);\n",
              "    filter: drop-shadow(0px 1px 2px rgba(0, 0, 0, 0.3));\n",
              "    fill: #FFFFFF;\n",
              "  }\n",
              "</style>\n",
              "\n",
              "    <script>\n",
              "      async function quickchart(key) {\n",
              "        const containerElement = document.querySelector('#' + key);\n",
              "        const charts = await google.colab.kernel.invokeFunction(\n",
              "            'suggestCharts', [key], {});\n",
              "      }\n",
              "    </script>\n",
              "\n",
              "      <script>\n",
              "\n",
              "function displayQuickchartButton(domScope) {\n",
              "  let quickchartButtonEl =\n",
              "    domScope.querySelector('#df-d2c6bc2e-2c5b-4958-9b59-e68bc31880e3 button.colab-df-quickchart');\n",
              "  quickchartButtonEl.style.display =\n",
              "    google.colab.kernel.accessAllowed ? 'block' : 'none';\n",
              "}\n",
              "\n",
              "        displayQuickchartButton(document);\n",
              "      </script>\n",
              "      <style>\n",
              "    .colab-df-container {\n",
              "      display:flex;\n",
              "      flex-wrap:wrap;\n",
              "      gap: 12px;\n",
              "    }\n",
              "\n",
              "    .colab-df-convert {\n",
              "      background-color: #E8F0FE;\n",
              "      border: none;\n",
              "      border-radius: 50%;\n",
              "      cursor: pointer;\n",
              "      display: none;\n",
              "      fill: #1967D2;\n",
              "      height: 32px;\n",
              "      padding: 0 0 0 0;\n",
              "      width: 32px;\n",
              "    }\n",
              "\n",
              "    .colab-df-convert:hover {\n",
              "      background-color: #E2EBFA;\n",
              "      box-shadow: 0px 1px 2px rgba(60, 64, 67, 0.3), 0px 1px 3px 1px rgba(60, 64, 67, 0.15);\n",
              "      fill: #174EA6;\n",
              "    }\n",
              "\n",
              "    [theme=dark] .colab-df-convert {\n",
              "      background-color: #3B4455;\n",
              "      fill: #D2E3FC;\n",
              "    }\n",
              "\n",
              "    [theme=dark] .colab-df-convert:hover {\n",
              "      background-color: #434B5C;\n",
              "      box-shadow: 0px 1px 3px 1px rgba(0, 0, 0, 0.15);\n",
              "      filter: drop-shadow(0px 1px 2px rgba(0, 0, 0, 0.3));\n",
              "      fill: #FFFFFF;\n",
              "    }\n",
              "  </style>\n",
              "\n",
              "      <script>\n",
              "        const buttonEl =\n",
              "          document.querySelector('#df-32ef49e6-9f74-4a39-9f74-9f57072f0d31 button.colab-df-convert');\n",
              "        buttonEl.style.display =\n",
              "          google.colab.kernel.accessAllowed ? 'block' : 'none';\n",
              "\n",
              "        async function convertToInteractive(key) {\n",
              "          const element = document.querySelector('#df-32ef49e6-9f74-4a39-9f74-9f57072f0d31');\n",
              "          const dataTable =\n",
              "            await google.colab.kernel.invokeFunction('convertToInteractive',\n",
              "                                                     [key], {});\n",
              "          if (!dataTable) return;\n",
              "\n",
              "          const docLinkHtml = 'Like what you see? Visit the ' +\n",
              "            '<a target=\"_blank\" href=https://colab.research.google.com/notebooks/data_table.ipynb>data table notebook</a>'\n",
              "            + ' to learn more about interactive tables.';\n",
              "          element.innerHTML = '';\n",
              "          dataTable['output_type'] = 'display_data';\n",
              "          await google.colab.output.renderOutput(dataTable, element);\n",
              "          const docLink = document.createElement('div');\n",
              "          docLink.innerHTML = docLinkHtml;\n",
              "          element.appendChild(docLink);\n",
              "        }\n",
              "      </script>\n",
              "    </div>\n",
              "  </div>\n"
            ]
          },
          "metadata": {},
          "execution_count": 77
        }
      ]
    },
    {
      "cell_type": "code",
      "source": [
        "# Correlações de todas colunas quantitativas\n",
        "df_fator_cap_tratado.corr()"
      ],
      "metadata": {
        "id": "vIN71lGPNwzz"
      },
      "execution_count": null,
      "outputs": []
    },
    {
      "cell_type": "code",
      "source": [
        "# Distribuição de frequencia\n",
        "def distfreq(dados, classes=None):\n",
        "    # Verifica se o número de classes foi fornecido como parâmetro, caso\n",
        "    # contrário, determina automaticamente. Se o número de dados for menor\n",
        "    # ou igual a 25, define 5 classes, caso contrário, a quantidade de classes\n",
        "    # será a raiz quadrada do número de de dados\n",
        "    if classes is None:\n",
        "        if len(dados) <= 25:\n",
        "            classes = 5\n",
        "        else:\n",
        "            classes = round(len(dados) ** 0.5 + 0.5)\n",
        "    else:\n",
        "        pass\n",
        "\n",
        "    # Ordena os dados em ordem crescente\n",
        "    dados = sorted(dados)\n",
        "    # Calcula a amplitude (diferença entre o maior e o menor valor)\n",
        "    amplitude = max(dados) - min(dados)\n",
        "    # Calcula o intervalo entre as classes\n",
        "    intervalo = amplitude / classes\n",
        "    # Cria uma lista para armazenar os limites dos intervalos\n",
        "    intervalos = [dados[0]]\n",
        "    for i in range(classes):\n",
        "        intervalos.append((intervalos[i] + intervalo))\n",
        "\n",
        "    # Imprime o cabeçalho da tabela\n",
        "    print(\"-\" * 100)\n",
        "    print(f'{\"Valores\":^19}|{\"Frequência\":^19}|{\"Freq. Acumulada\":^19}|'\n",
        "        + f'{\"Frequência %\":^19}|{\"Freq. Acumulada %\":^19}')\n",
        "    print(\"-\" * 100)\n",
        "\n",
        "    a = 0\n",
        "    b = 0\n",
        "\n",
        "    # Laço para calcular as frequências para cada classe\n",
        "    for i in range(classes):\n",
        "        a = 0\n",
        "        teste = f'{intervalos[i]:.2f} ---- {intervalos[i+1]:.2f}'\n",
        "\n",
        "        # Laço para contar quantos valores estão dentro do intervalo atual\n",
        "        for j in range(len(dados)):\n",
        "            if dados[j] < intervalos[i + 1] + 0.000001:\n",
        "                a = a + 1\n",
        "            else:\n",
        "                pass\n",
        "\n",
        "        # Imprime os valores da classe atual e suas frequências\n",
        "        print(f'{teste:^19}|{a - b:^19}|{a:^19}|{((a - b) / len(dados)):^19.2%}|{((a) / len(dados)):^19.2%}')\n",
        "\n",
        "        # Atualiza o valor de b para a próxima iteração\n",
        "        b = a\n",
        "\n",
        "        # Imprime uma linha separadora\n",
        "        print(\"-\" * 100)\n",
        "\n",
        "    # Imprime o final da tabela discriminando o total geral\n",
        "    print(f'{\"Total Geral\":^19}|{a:^19}|{\"\":^19}|{\"100,00%\":^19}|{\"\":^19}')\n",
        "    print(\"-\"*100)\n",
        "    return"
      ],
      "metadata": {
        "id": "WOlYb1l4CbPO"
      },
      "execution_count": null,
      "outputs": []
    },
    {
      "cell_type": "code",
      "source": [
        "# distfreq(df.loc[df.cidade == 'Londres']['preco_total'],154)"
      ],
      "metadata": {
        "id": "qUOgo6LObFbj"
      },
      "execution_count": null,
      "outputs": []
    },
    {
      "cell_type": "markdown",
      "source": [
        "### Filtros e agrupamentos\n",
        "Criar novas variáveis com base nos dados originais para permitir uma análise mais detalhada e avançada."
      ],
      "metadata": {
        "id": "-bEZz8EE2JGS"
      }
    },
    {
      "cell_type": "code",
      "source": [
        "# Filtros, agrupamentos"
      ],
      "metadata": {
        "id": "ZSGN7scp2XZ5"
      },
      "execution_count": null,
      "outputs": []
    },
    {
      "cell_type": "code",
      "source": [
        "filtro_2_2_Total = df_fator_cap_tratado.loc[df_fator_cap_tratado.grupo == 'Total']\n",
        "filtro_2_2_Total"
      ],
      "metadata": {
        "id": "_a4jYL7ngy6X"
      },
      "execution_count": null,
      "outputs": []
    },
    {
      "cell_type": "code",
      "source": [
        "filtro_2_2_sem_total = df_fator_cap_tratado.loc[df_fator_cap_tratado.grupo != 'Total']\n",
        "filtro_2_2_sem_total"
      ],
      "metadata": {
        "id": "mGUMVkxoiFh_"
      },
      "execution_count": null,
      "outputs": []
    },
    {
      "cell_type": "code",
      "source": [
        "filtro_2_2_sem_total[['grupo', 'total']]"
      ],
      "metadata": {
        "id": "kqprBqU3roBz"
      },
      "execution_count": null,
      "outputs": []
    },
    {
      "cell_type": "code",
      "source": [
        "filtro_2_2_sem_total.loc[:,['ano', 'grupo']]"
      ],
      "metadata": {
        "id": "FJokYNjnjR75"
      },
      "execution_count": null,
      "outputs": []
    },
    {
      "cell_type": "code",
      "source": [
        "# Quantidade de registros para cada grupo\n",
        "df_2_2_backup.groupby('grupo')['total'].mean().sort_values(ascending=False)"
      ],
      "metadata": {
        "colab": {
          "base_uri": "https://localhost:8080/"
        },
        "id": "HCM7PgstPeR6",
        "outputId": "703ca090-5ba6-4bd3-cb54-d39056eb90f8"
      },
      "execution_count": null,
      "outputs": [
        {
          "output_type": "execute_result",
          "data": {
            "text/plain": [
              "grupo\n",
              "Total                    158739.461997\n",
              "Usinas Hidrelétricas      94826.566534\n",
              "Biomassa                  14101.295956\n",
              "Gás Natural               13855.010616\n",
              "Usinas Eólicas            12854.442838\n",
              "Derivados de Petróleo      7963.079034\n",
              "PCH                        5130.946094\n",
              "Carvão                     3257.530000\n",
              "Outras                     2100.204987\n",
              "Solar                      2057.791581\n",
              "Usinas Nucleares           1990.000000\n",
              "CGH                         602.594357\n",
              "Name: total, dtype: float64"
            ]
          },
          "metadata": {},
          "execution_count": 73
        }
      ]
    },
    {
      "cell_type": "code",
      "source": [
        "# Examinando a comparação de algumas estatisticas\n",
        "estatisticas_usinas = df_fator_cap_tratado.groupby(['grupo']).agg({'total': ['mean', 'median', 'count', 'sum']})\n",
        "estatisticas_usinas.round(2)"
      ],
      "metadata": {
        "colab": {
          "base_uri": "https://localhost:8080/",
          "height": 488
        },
        "id": "1AnaDZerQS8M",
        "outputId": "e733c881-06f9-46c2-8766-ab4fa045f1e2"
      },
      "execution_count": null,
      "outputs": [
        {
          "output_type": "execute_result",
          "data": {
            "text/plain": [
              "                           total                             \n",
              "                            mean     median count         sum\n",
              "grupo                                                        \n",
              "Biomassa                14101.30   14428.67    10   141012.96\n",
              "CGH                       602.59     644.48    10     6025.94\n",
              "Carvão                   3257.53    3275.74    10    32575.30\n",
              "Derivados de Petróleo    7963.08    7682.69    10    79630.79\n",
              "Gás Natural             13855.01   13169.81    10   138550.11\n",
              "Outras                   2100.20    2193.56    10    21002.05\n",
              "PCH                      5130.95    5088.48    10    51309.46\n",
              "Solar                    2057.79    1366.45    10    20577.92\n",
              "Total                  158739.46  159976.13    10  1587394.62\n",
              "Usinas Eólicas          12854.44   13336.77    10   128544.43\n",
              "Usinas Hidrelétricas    94826.57   96474.43    10   948265.67\n",
              "Usinas Nucleares         1990.00    1990.00    10    19900.00"
            ],
            "text/html": [
              "\n",
              "\n",
              "  <div id=\"df-304764a3-84af-45cc-b868-3747dfff84d1\">\n",
              "    <div class=\"colab-df-container\">\n",
              "      <div>\n",
              "<style scoped>\n",
              "    .dataframe tbody tr th:only-of-type {\n",
              "        vertical-align: middle;\n",
              "    }\n",
              "\n",
              "    .dataframe tbody tr th {\n",
              "        vertical-align: top;\n",
              "    }\n",
              "\n",
              "    .dataframe thead tr th {\n",
              "        text-align: left;\n",
              "    }\n",
              "\n",
              "    .dataframe thead tr:last-of-type th {\n",
              "        text-align: right;\n",
              "    }\n",
              "</style>\n",
              "<table border=\"1\" class=\"dataframe\">\n",
              "  <thead>\n",
              "    <tr>\n",
              "      <th></th>\n",
              "      <th colspan=\"4\" halign=\"left\">total</th>\n",
              "    </tr>\n",
              "    <tr>\n",
              "      <th></th>\n",
              "      <th>mean</th>\n",
              "      <th>median</th>\n",
              "      <th>count</th>\n",
              "      <th>sum</th>\n",
              "    </tr>\n",
              "    <tr>\n",
              "      <th>grupo</th>\n",
              "      <th></th>\n",
              "      <th></th>\n",
              "      <th></th>\n",
              "      <th></th>\n",
              "    </tr>\n",
              "  </thead>\n",
              "  <tbody>\n",
              "    <tr>\n",
              "      <th>Biomassa</th>\n",
              "      <td>14101.30</td>\n",
              "      <td>14428.67</td>\n",
              "      <td>10</td>\n",
              "      <td>141012.96</td>\n",
              "    </tr>\n",
              "    <tr>\n",
              "      <th>CGH</th>\n",
              "      <td>602.59</td>\n",
              "      <td>644.48</td>\n",
              "      <td>10</td>\n",
              "      <td>6025.94</td>\n",
              "    </tr>\n",
              "    <tr>\n",
              "      <th>Carvão</th>\n",
              "      <td>3257.53</td>\n",
              "      <td>3275.74</td>\n",
              "      <td>10</td>\n",
              "      <td>32575.30</td>\n",
              "    </tr>\n",
              "    <tr>\n",
              "      <th>Derivados de Petróleo</th>\n",
              "      <td>7963.08</td>\n",
              "      <td>7682.69</td>\n",
              "      <td>10</td>\n",
              "      <td>79630.79</td>\n",
              "    </tr>\n",
              "    <tr>\n",
              "      <th>Gás Natural</th>\n",
              "      <td>13855.01</td>\n",
              "      <td>13169.81</td>\n",
              "      <td>10</td>\n",
              "      <td>138550.11</td>\n",
              "    </tr>\n",
              "    <tr>\n",
              "      <th>Outras</th>\n",
              "      <td>2100.20</td>\n",
              "      <td>2193.56</td>\n",
              "      <td>10</td>\n",
              "      <td>21002.05</td>\n",
              "    </tr>\n",
              "    <tr>\n",
              "      <th>PCH</th>\n",
              "      <td>5130.95</td>\n",
              "      <td>5088.48</td>\n",
              "      <td>10</td>\n",
              "      <td>51309.46</td>\n",
              "    </tr>\n",
              "    <tr>\n",
              "      <th>Solar</th>\n",
              "      <td>2057.79</td>\n",
              "      <td>1366.45</td>\n",
              "      <td>10</td>\n",
              "      <td>20577.92</td>\n",
              "    </tr>\n",
              "    <tr>\n",
              "      <th>Total</th>\n",
              "      <td>158739.46</td>\n",
              "      <td>159976.13</td>\n",
              "      <td>10</td>\n",
              "      <td>1587394.62</td>\n",
              "    </tr>\n",
              "    <tr>\n",
              "      <th>Usinas Eólicas</th>\n",
              "      <td>12854.44</td>\n",
              "      <td>13336.77</td>\n",
              "      <td>10</td>\n",
              "      <td>128544.43</td>\n",
              "    </tr>\n",
              "    <tr>\n",
              "      <th>Usinas Hidrelétricas</th>\n",
              "      <td>94826.57</td>\n",
              "      <td>96474.43</td>\n",
              "      <td>10</td>\n",
              "      <td>948265.67</td>\n",
              "    </tr>\n",
              "    <tr>\n",
              "      <th>Usinas Nucleares</th>\n",
              "      <td>1990.00</td>\n",
              "      <td>1990.00</td>\n",
              "      <td>10</td>\n",
              "      <td>19900.00</td>\n",
              "    </tr>\n",
              "  </tbody>\n",
              "</table>\n",
              "</div>\n",
              "      <button class=\"colab-df-convert\" onclick=\"convertToInteractive('df-304764a3-84af-45cc-b868-3747dfff84d1')\"\n",
              "              title=\"Convert this dataframe to an interactive table.\"\n",
              "              style=\"display:none;\">\n",
              "\n",
              "  <svg xmlns=\"http://www.w3.org/2000/svg\" height=\"24px\"viewBox=\"0 0 24 24\"\n",
              "       width=\"24px\">\n",
              "    <path d=\"M0 0h24v24H0V0z\" fill=\"none\"/>\n",
              "    <path d=\"M18.56 5.44l.94 2.06.94-2.06 2.06-.94-2.06-.94-.94-2.06-.94 2.06-2.06.94zm-11 1L8.5 8.5l.94-2.06 2.06-.94-2.06-.94L8.5 2.5l-.94 2.06-2.06.94zm10 10l.94 2.06.94-2.06 2.06-.94-2.06-.94-.94-2.06-.94 2.06-2.06.94z\"/><path d=\"M17.41 7.96l-1.37-1.37c-.4-.4-.92-.59-1.43-.59-.52 0-1.04.2-1.43.59L10.3 9.45l-7.72 7.72c-.78.78-.78 2.05 0 2.83L4 21.41c.39.39.9.59 1.41.59.51 0 1.02-.2 1.41-.59l7.78-7.78 2.81-2.81c.8-.78.8-2.07 0-2.86zM5.41 20L4 18.59l7.72-7.72 1.47 1.35L5.41 20z\"/>\n",
              "  </svg>\n",
              "      </button>\n",
              "\n",
              "\n",
              "\n",
              "    <div id=\"df-79a3ff41-a81f-495c-ad1c-efca1a426c57\">\n",
              "      <button class=\"colab-df-quickchart\" onclick=\"quickchart('df-79a3ff41-a81f-495c-ad1c-efca1a426c57')\"\n",
              "              title=\"Suggest charts.\"\n",
              "              style=\"display:none;\">\n",
              "\n",
              "<svg xmlns=\"http://www.w3.org/2000/svg\" height=\"24px\"viewBox=\"0 0 24 24\"\n",
              "     width=\"24px\">\n",
              "    <g>\n",
              "        <path d=\"M19 3H5c-1.1 0-2 .9-2 2v14c0 1.1.9 2 2 2h14c1.1 0 2-.9 2-2V5c0-1.1-.9-2-2-2zM9 17H7v-7h2v7zm4 0h-2V7h2v10zm4 0h-2v-4h2v4z\"/>\n",
              "    </g>\n",
              "</svg>\n",
              "      </button>\n",
              "    </div>\n",
              "\n",
              "<style>\n",
              "  .colab-df-quickchart {\n",
              "    background-color: #E8F0FE;\n",
              "    border: none;\n",
              "    border-radius: 50%;\n",
              "    cursor: pointer;\n",
              "    display: none;\n",
              "    fill: #1967D2;\n",
              "    height: 32px;\n",
              "    padding: 0 0 0 0;\n",
              "    width: 32px;\n",
              "  }\n",
              "\n",
              "  .colab-df-quickchart:hover {\n",
              "    background-color: #E2EBFA;\n",
              "    box-shadow: 0px 1px 2px rgba(60, 64, 67, 0.3), 0px 1px 3px 1px rgba(60, 64, 67, 0.15);\n",
              "    fill: #174EA6;\n",
              "  }\n",
              "\n",
              "  [theme=dark] .colab-df-quickchart {\n",
              "    background-color: #3B4455;\n",
              "    fill: #D2E3FC;\n",
              "  }\n",
              "\n",
              "  [theme=dark] .colab-df-quickchart:hover {\n",
              "    background-color: #434B5C;\n",
              "    box-shadow: 0px 1px 3px 1px rgba(0, 0, 0, 0.15);\n",
              "    filter: drop-shadow(0px 1px 2px rgba(0, 0, 0, 0.3));\n",
              "    fill: #FFFFFF;\n",
              "  }\n",
              "</style>\n",
              "\n",
              "    <script>\n",
              "      async function quickchart(key) {\n",
              "        const containerElement = document.querySelector('#' + key);\n",
              "        const charts = await google.colab.kernel.invokeFunction(\n",
              "            'suggestCharts', [key], {});\n",
              "      }\n",
              "    </script>\n",
              "\n",
              "      <script>\n",
              "\n",
              "function displayQuickchartButton(domScope) {\n",
              "  let quickchartButtonEl =\n",
              "    domScope.querySelector('#df-79a3ff41-a81f-495c-ad1c-efca1a426c57 button.colab-df-quickchart');\n",
              "  quickchartButtonEl.style.display =\n",
              "    google.colab.kernel.accessAllowed ? 'block' : 'none';\n",
              "}\n",
              "\n",
              "        displayQuickchartButton(document);\n",
              "      </script>\n",
              "      <style>\n",
              "    .colab-df-container {\n",
              "      display:flex;\n",
              "      flex-wrap:wrap;\n",
              "      gap: 12px;\n",
              "    }\n",
              "\n",
              "    .colab-df-convert {\n",
              "      background-color: #E8F0FE;\n",
              "      border: none;\n",
              "      border-radius: 50%;\n",
              "      cursor: pointer;\n",
              "      display: none;\n",
              "      fill: #1967D2;\n",
              "      height: 32px;\n",
              "      padding: 0 0 0 0;\n",
              "      width: 32px;\n",
              "    }\n",
              "\n",
              "    .colab-df-convert:hover {\n",
              "      background-color: #E2EBFA;\n",
              "      box-shadow: 0px 1px 2px rgba(60, 64, 67, 0.3), 0px 1px 3px 1px rgba(60, 64, 67, 0.15);\n",
              "      fill: #174EA6;\n",
              "    }\n",
              "\n",
              "    [theme=dark] .colab-df-convert {\n",
              "      background-color: #3B4455;\n",
              "      fill: #D2E3FC;\n",
              "    }\n",
              "\n",
              "    [theme=dark] .colab-df-convert:hover {\n",
              "      background-color: #434B5C;\n",
              "      box-shadow: 0px 1px 3px 1px rgba(0, 0, 0, 0.15);\n",
              "      filter: drop-shadow(0px 1px 2px rgba(0, 0, 0, 0.3));\n",
              "      fill: #FFFFFF;\n",
              "    }\n",
              "  </style>\n",
              "\n",
              "      <script>\n",
              "        const buttonEl =\n",
              "          document.querySelector('#df-304764a3-84af-45cc-b868-3747dfff84d1 button.colab-df-convert');\n",
              "        buttonEl.style.display =\n",
              "          google.colab.kernel.accessAllowed ? 'block' : 'none';\n",
              "\n",
              "        async function convertToInteractive(key) {\n",
              "          const element = document.querySelector('#df-304764a3-84af-45cc-b868-3747dfff84d1');\n",
              "          const dataTable =\n",
              "            await google.colab.kernel.invokeFunction('convertToInteractive',\n",
              "                                                     [key], {});\n",
              "          if (!dataTable) return;\n",
              "\n",
              "          const docLinkHtml = 'Like what you see? Visit the ' +\n",
              "            '<a target=\"_blank\" href=https://colab.research.google.com/notebooks/data_table.ipynb>data table notebook</a>'\n",
              "            + ' to learn more about interactive tables.';\n",
              "          element.innerHTML = '';\n",
              "          dataTable['output_type'] = 'display_data';\n",
              "          await google.colab.output.renderOutput(dataTable, element);\n",
              "          const docLink = document.createElement('div');\n",
              "          docLink.innerHTML = docLinkHtml;\n",
              "          element.appendChild(docLink);\n",
              "        }\n",
              "      </script>\n",
              "    </div>\n",
              "  </div>\n"
            ]
          },
          "metadata": {},
          "execution_count": 77
        }
      ]
    },
    {
      "cell_type": "markdown",
      "source": [
        "# Visualização"
      ],
      "metadata": {
        "id": "_IRmFDtibEJ5"
      }
    },
    {
      "cell_type": "code",
      "source": [
        "!pip install matplotlib"
      ],
      "metadata": {
        "id": "G4uqRpaj4fXm"
      },
      "execution_count": null,
      "outputs": []
    },
    {
      "cell_type": "code",
      "source": [
        "import matplotlib.pyplot as plt"
      ],
      "metadata": {
        "id": "rpR_TSoZ4jkO"
      },
      "execution_count": null,
      "outputs": []
    },
    {
      "cell_type": "code",
      "source": [
        "# Grafico que visualiza qual 'tipo de quarto' esta incluido em listagens com preços altos\n",
        "df_2_2_backup.groupby('grupo').plot.barh()\n",
        "plt.xlabel('ano')\n",
        "plt.ylabel('total')\n",
        "plt.title('Teste')\n",
        "plt.show()"
      ],
      "metadata": {
        "id": "7ekIeOw65qzv"
      },
      "execution_count": null,
      "outputs": []
    },
    {
      "cell_type": "markdown",
      "source": [
        "# Conclusão\n",
        "Resumo das principais conclusões e insights obtidos a partir da análise exploratória, sugestões para próximos passos da análise ou possíveis ações a serem tomadas."
      ],
      "metadata": {
        "id": "mGQ05qUq6O-Q"
      }
    },
    {
      "cell_type": "code",
      "source": [],
      "metadata": {
        "id": "BtkBYIPIbS0s"
      },
      "execution_count": null,
      "outputs": []
    }
  ]
}
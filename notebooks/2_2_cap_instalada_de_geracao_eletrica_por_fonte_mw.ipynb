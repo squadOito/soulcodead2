{
  "nbformat": 4,
  "nbformat_minor": 0,
  "metadata": {
    "colab": {
      "provenance": [],
      "authorship_tag": "ABX9TyPuQnAuUEec0SlYAzAIcIwh",
      "include_colab_link": true
    },
    "kernelspec": {
      "name": "python3",
      "display_name": "Python 3"
    },
    "language_info": {
      "name": "python"
    }
  },
  "cells": [
    {
      "cell_type": "markdown",
      "metadata": {
        "id": "view-in-github",
        "colab_type": "text"
      },
      "source": [
        "<a href=\"https://colab.research.google.com/github/squadOito/soulcodead2/blob/wesley%2Fnotebook/notebooks/2_2_cap_instalada_de_geracao_eletrica_por_fonte_mw.ipynb\" target=\"_parent\"><img src=\"https://colab.research.google.com/assets/colab-badge.svg\" alt=\"Open In Colab\"/></a>"
      ]
    },
    {
      "cell_type": "markdown",
      "source": [
        "## **Projeto Final**\n",
        "Escola: SoulCode Academy\n",
        "\n",
        "Curso: Bootcamp Analista de Dados - Martech - AD2\n",
        "\n",
        "**Alunos: Adriano Kim, José Aurelio, Marcos Paulo, Paulo Vitorino e Renato Costa e Wesley Luiz**\n",
        "\n",
        "Professores: Douglas Ribeiro, Franciane Rodrigues e Jonathas Carneiro"
      ],
      "metadata": {
        "id": "e6xr26o5ii1L"
      }
    },
    {
      "cell_type": "markdown",
      "source": [
        "#**Perguntas de negócio**:\n",
        "\n",
        "1) Qual o quadro atual de geração de energia elétrica no Brasil (disponibilidade por região)?\n",
        "\n",
        "2) Diante do panorama atual, quais fontes apresentam maiores taxas de crescimento?\n",
        "\n",
        "3) Quais as regiões que apresentam maior potencial de exploração de fontes de energia?\n",
        "\n",
        "---\n",
        "\n"
      ],
      "metadata": {
        "id": "BYEQz24KPKYi"
      }
    },
    {
      "cell_type": "markdown",
      "source": [
        "# Base de Dados Informações gerais\n",
        "A Empresa de Pesquisa Energética (EPE) apresenta o Anuário Estatístico de Energia Elétrica, que traz as informações relativas à cadeia de energia elétrica do Brasil, bem como informações regionais e das unidades federativas.\n",
        "\n",
        "Este Anuário resulta da compilação de dados dos anos de 2013 a 2022, coletados e consolidados pela EPE ao longo de 2023. Cumpre ressaltar que os dados apresentados não contemplam a parcela consumida em unidades autoprodutoras de energia elétrica.Realizado no âmbito da Comissão Permanente de Análise e Acompanhamento do Mercado de Energia Elétrica (COPAM), sob a coordenação da EPE.\n",
        "\n",
        "Os dados relativos à capacidade instalada e geração de energia elétrica são obtidos pelo sistema de informações de geração da Associação Nacional de Energia Elétrica(ANEEL) e pelo Balanço Energético Nacional (BEN).\n",
        "\n",
        "Fonte: https://dashboard.epe.gov.br/apps/anuario-livro/\n"
      ],
      "metadata": {
        "id": "ELp0xHUwTO0T"
      }
    },
    {
      "cell_type": "markdown",
      "source": [
        "## **Dicionário de dados**"
      ],
      "metadata": {
        "id": "-KiI5to9Uj6i"
      }
    },
    {
      "cell_type": "markdown",
      "source": [
        "* ano - Ano referente a coleta dos registros\n",
        "* grupo - Cada fonte de energia presente na pesquisa e o total de capacidade de todas fontes ao ano\n",
        "* total - Total de capacidade instalada de cada fonte energetica em MW(Megawatt)\n",
        "\n",
        "> fonte:\n",
        "*   links"
      ],
      "metadata": {
        "id": "SYdPRuwh2PEe"
      }
    },
    {
      "cell_type": "markdown",
      "source": [
        "# Extração\n",
        "A primeira etapa da ETL é a extração dos dados de sua fonte original. Dependendo do tipo de dados e da fonte, você pode precisar de diferentes ferramentas e técnicas para extrair os dados."
      ],
      "metadata": {
        "id": "0dZJqZvm1DES"
      }
    },
    {
      "cell_type": "markdown",
      "source": [
        "## Instalações de Bibliotecas\n",
        "Instalações e importações das bibliotecas necessárias para o processo de ETL."
      ],
      "metadata": {
        "id": "L7abbfpEBjvV"
      }
    },
    {
      "cell_type": "code",
      "execution_count": null,
      "metadata": {
        "id": "cGTV4K2w0xhZ"
      },
      "outputs": [],
      "source": [
        "!pip install gcsfs"
      ]
    },
    {
      "cell_type": "code",
      "source": [
        "!pip install pandera"
      ],
      "metadata": {
        "id": "jnnF93Nv9L64"
      },
      "execution_count": null,
      "outputs": []
    },
    {
      "cell_type": "code",
      "source": [
        "# Importando Bibliotecas pré instaladas\n",
        "import os\n",
        "import pandas as pd\n",
        "import numpy as np\n",
        "import pandera as pa\n",
        "from google.cloud import storage\n",
        "from google.colab import drive"
      ],
      "metadata": {
        "id": "9PyA1knO9Wau"
      },
      "execution_count": 3,
      "outputs": []
    },
    {
      "cell_type": "code",
      "source": [
        "# Ignorando alguns alertas desnecessários\n",
        "import warnings\n",
        "warnings.filterwarnings(\"ignore\")"
      ],
      "metadata": {
        "id": "um2OUpf69mnW"
      },
      "execution_count": 4,
      "outputs": []
    },
    {
      "cell_type": "code",
      "source": [
        "# Configuração da quantidade de colunas para aparecer em um DataFrame\n",
        "pd.set_option('display.max_columns',100)"
      ],
      "metadata": {
        "id": "AeslQXYjNiEy"
      },
      "execution_count": 5,
      "outputs": []
    },
    {
      "cell_type": "code",
      "source": [
        "# Conexão com a conta do Google Cloud\n",
        "serviceAccount = '/content/projeto-final-ad2-e8-ae566c3a2c2b.json'\n",
        "os.environ['GOOGLE_APPLICATION_CREDENTIALS'] = serviceAccount"
      ],
      "metadata": {
        "id": "CyymFDdQ2akm"
      },
      "execution_count": 6,
      "outputs": []
    },
    {
      "cell_type": "code",
      "source": [
        "# Conexão com a bucket do Google Cloud\n",
        "\n",
        "client = storage.Client()\n",
        "bucket = client.get_bucket('projeto-final-ad2-e8')\n",
        "bucket.blob('2_2_cap_instalada_de_geracao_eletrica_por_fonte_mw.xlsx')\n",
        "path = 'gs://projeto-final-ad2-e8/dados/brutos/excel/2_2_cap_instalada_de_geracao_eletrica_por_fonte_mw.xlsx'\n"
      ],
      "metadata": {
        "id": "TV-rH7EWbVpm"
      },
      "execution_count": 7,
      "outputs": []
    },
    {
      "cell_type": "code",
      "source": [
        "# Leitura e configuração dos arquivos extraidos\n",
        "df_2_2 = pd.read_excel(path)"
      ],
      "metadata": {
        "id": "5RA70GsGesUH"
      },
      "execution_count": 18,
      "outputs": []
    },
    {
      "cell_type": "markdown",
      "source": [
        "## Pré Análise"
      ],
      "metadata": {
        "id": "V1UNCIESAaZN"
      }
    },
    {
      "cell_type": "code",
      "source": [
        "# Visualização geral\n",
        "df_2_2"
      ],
      "metadata": {
        "id": "ji1Xb8ccfuyt"
      },
      "execution_count": null,
      "outputs": []
    },
    {
      "cell_type": "code",
      "source": [
        "# Visualização de forma aleatoria\n",
        "df_2_2.sample(3)"
      ],
      "metadata": {
        "id": "7VOwplWAj1qP"
      },
      "execution_count": null,
      "outputs": []
    },
    {
      "cell_type": "code",
      "source": [
        "# Tamanho total de (linhas , colunas)\n",
        "df_2_2.shape"
      ],
      "metadata": {
        "id": "Vk8p8Nd-kMWP"
      },
      "execution_count": null,
      "outputs": []
    },
    {
      "cell_type": "code",
      "source": [
        "# Todos os tipos de dados presentes\n",
        "df_2_2.dtypes"
      ],
      "metadata": {
        "id": "fsZ6_xn6mGo3"
      },
      "execution_count": null,
      "outputs": []
    },
    {
      "cell_type": "code",
      "source": [
        "# Contagem de observações para cada coluna\n",
        "df_2_2.count()"
      ],
      "metadata": {
        "id": "-mLulv3imH94"
      },
      "execution_count": null,
      "outputs": []
    },
    {
      "cell_type": "code",
      "source": [
        "# Informações detalhadas\n",
        "df_2_2.info()"
      ],
      "metadata": {
        "id": "m6SgfErBpnz3"
      },
      "execution_count": null,
      "outputs": []
    },
    {
      "cell_type": "code",
      "source": [
        "# Backup local\n",
        "df_2_2 = df_2_2.copy()"
      ],
      "metadata": {
        "id": "HhW4D4A9qTwe"
      },
      "execution_count": 25,
      "outputs": []
    },
    {
      "cell_type": "code",
      "source": [
        "# Fazendo um relatório para mostrar os valores únicos de cada atributo.\n",
        "# O for vai garantir que a atividade seja feita automaticamentepara todos os atributos\n",
        "\n",
        "for coluna in df_2_2:\n",
        "    valor = (df_2_2[coluna].unique())\n",
        "    print(\"-\"*70)\n",
        "    msg = f\"Valores únicos para o atributo {coluna}:\"\n",
        "    print(f\"{msg:^70}\")\n",
        "    print(\"-\"*70)\n",
        "    print(f\"\\n{valor}\\n\")\n",
        "    print(\"-\"*70)\n"
      ],
      "metadata": {
        "id": "KcNCjl87B9rk"
      },
      "execution_count": null,
      "outputs": []
    },
    {
      "cell_type": "code",
      "source": [
        "df_2_2.ano"
      ],
      "metadata": {
        "id": "d-pzEniI28Ft"
      },
      "execution_count": null,
      "outputs": []
    },
    {
      "cell_type": "markdown",
      "source": [
        "# Transformação\n",
        "Aqui os dados extraídos precisam ser transformados em um formato adequado para análise, e para isso deve seguir alguns passos, que podem precisar serem repetidos ao longo do processo de análise."
      ],
      "metadata": {
        "id": "VbLM1jZ51glR"
      }
    },
    {
      "cell_type": "markdown",
      "source": [
        "## Limpeza de Dados\n",
        "Remover dados duplicados, corrigir erros de digitação, tratar dados inconsistentes etc."
      ],
      "metadata": {
        "id": "2OIPr02e1w5B"
      }
    },
    {
      "cell_type": "code",
      "source": [
        "# Verificar se há valores duplicados\n",
        "df_2_2.duplicated()"
      ],
      "metadata": {
        "id": "Bbj-7zCn2Fee"
      },
      "execution_count": null,
      "outputs": []
    },
    {
      "cell_type": "code",
      "source": [
        "# Verificar se há valores nulos/ausentes\n",
        "df_2_2.isnull().sum()"
      ],
      "metadata": {
        "id": "ByCYsxjVrNy4",
        "colab": {
          "base_uri": "https://localhost:8080/"
        },
        "outputId": "47a945c0-f5d7-4e35-c97f-3afc6fed2f97"
      },
      "execution_count": 29,
      "outputs": [
        {
          "output_type": "execute_result",
          "data": {
            "text/plain": [
              "ano      0\n",
              "grupo    0\n",
              "total    0\n",
              "dtype: int64"
            ]
          },
          "metadata": {},
          "execution_count": 29
        }
      ]
    },
    {
      "cell_type": "code",
      "source": [
        "# Verificando os valores presentes na coluna para identificar inconsistencias\n",
        "# print(f'Valores presentes em coluna1: {pd.unique(df.coluna1)}')"
      ],
      "metadata": {
        "id": "VbHkWtWwZpg-"
      },
      "execution_count": null,
      "outputs": []
    },
    {
      "cell_type": "code",
      "source": [
        "# Descartando colunas\n",
        "# df.drop(['coluna1',], axis=1, inplace=True)"
      ],
      "metadata": {
        "id": "pc-JlvQ098n5"
      },
      "execution_count": null,
      "outputs": []
    },
    {
      "cell_type": "code",
      "source": [
        "df_2_2_backup = df_2_2.copy()"
      ],
      "metadata": {
        "id": "1aXYIUbW1gT0"
      },
      "execution_count": 31,
      "outputs": []
    },
    {
      "cell_type": "markdown",
      "source": [
        "## Normalização de Dados\n",
        "Colocar os dados em um formato padronizado para facilitar a análise."
      ],
      "metadata": {
        "id": "FG2L2jSi2Alp"
      }
    },
    {
      "cell_type": "markdown",
      "source": [
        "### Tipagem"
      ],
      "metadata": {
        "id": "wvAVi48v-O2s"
      }
    },
    {
      "cell_type": "code",
      "source": [
        "# Como alterar data ano\n",
        "df_2_2_backup['ano'] = pd.to_datetime(df_2_2_backup['ano'], format='%Y')"
      ],
      "metadata": {
        "id": "Z8j_KGtf05qN"
      },
      "execution_count": 32,
      "outputs": []
    },
    {
      "cell_type": "code",
      "source": [
        "df_2_2_backup.ano"
      ],
      "metadata": {
        "id": "SqUYEkNKf5XN"
      },
      "execution_count": null,
      "outputs": []
    },
    {
      "cell_type": "code",
      "source": [
        "df_2_2_backup.dtypes"
      ],
      "metadata": {
        "colab": {
          "base_uri": "https://localhost:8080/"
        },
        "id": "4mFtQmFMgCP3",
        "outputId": "5af51ea1-f748-4679-be39-485167d9cb55"
      },
      "execution_count": 35,
      "outputs": [
        {
          "output_type": "execute_result",
          "data": {
            "text/plain": [
              "ano      datetime64[ns]\n",
              "grupo            object\n",
              "total           float64\n",
              "dtype: object"
            ]
          },
          "metadata": {},
          "execution_count": 35
        }
      ]
    },
    {
      "cell_type": "code",
      "source": [
        "# Como tipar qualquer valor\n",
        "# df['Idade'] = df['Idade'].astype(tipo)"
      ],
      "metadata": {
        "id": "ujtP9QYBO_A7"
      },
      "execution_count": null,
      "outputs": []
    },
    {
      "cell_type": "code",
      "source": [
        "# Realizando a tipagem das variaveis\n",
        "# df.coluna1 = df.coluna1.astype(int)"
      ],
      "metadata": {
        "id": "t0pQvuXU2I0x"
      },
      "execution_count": null,
      "outputs": []
    },
    {
      "cell_type": "markdown",
      "source": [
        "## Tradução"
      ],
      "metadata": {
        "id": "PlcatBQq-QkD"
      }
    },
    {
      "cell_type": "code",
      "source": [
        "# Renomeando/Traduzindo colunas\n",
        "# df.rename(columns={'coluna1':'traducao',}, inplace=True)"
      ],
      "metadata": {
        "id": "RnynpUhG1KZd"
      },
      "execution_count": null,
      "outputs": []
    },
    {
      "cell_type": "code",
      "source": [
        "# Examinando alteração\n",
        "df_2_2_backup.dtypes"
      ],
      "metadata": {
        "id": "YSCe0djotK4u",
        "colab": {
          "base_uri": "https://localhost:8080/"
        },
        "outputId": "1f8ee049-50c6-4aff-90cf-d6e28774e461"
      },
      "execution_count": 56,
      "outputs": [
        {
          "output_type": "execute_result",
          "data": {
            "text/plain": [
              "ano      datetime64[ns]\n",
              "grupo            object\n",
              "total           float64\n",
              "dtype: object"
            ]
          },
          "metadata": {},
          "execution_count": 56
        }
      ]
    },
    {
      "cell_type": "code",
      "source": [
        "# Renomeando/Traduzindo registros\n",
        "# traducao = {\n",
        "#    'registro1': 'TRADUCAO',\n",
        "#    'registro2': 'TRADUCAO2',\n",
        "#}\n",
        "#df_2_2_backup.coluna1.replace(traducao,inplace=True)"
      ],
      "metadata": {
        "id": "PPPWrxZi7HFW"
      },
      "execution_count": null,
      "outputs": []
    },
    {
      "cell_type": "code",
      "source": [
        "# Examinando se os registros foram alterados\n",
        "# pd.unique(df.traducao)"
      ],
      "metadata": {
        "id": "cU-SFkb14MWN"
      },
      "execution_count": null,
      "outputs": []
    },
    {
      "cell_type": "markdown",
      "source": [
        "## **Qualidade e integridade dos dados**"
      ],
      "metadata": {
        "id": "j6krOtKKvkR-"
      }
    },
    {
      "cell_type": "markdown",
      "source": [
        "### **Validação da estrutura dos dados (schema)**"
      ],
      "metadata": {
        "id": "S03P8PdZwETm"
      }
    },
    {
      "cell_type": "code",
      "source": [
        "df_2_2.count()"
      ],
      "metadata": {
        "id": "P7pwu5CMNB6q"
      },
      "execution_count": null,
      "outputs": []
    },
    {
      "cell_type": "code",
      "source": [
        "df_2_2_backup.info()"
      ],
      "metadata": {
        "id": "y3PyHGx48r6z"
      },
      "execution_count": null,
      "outputs": []
    },
    {
      "cell_type": "code",
      "source": [
        "# Definindo o esquema de validação e o examinando\n",
        "schema = pa.DataFrameSchema({\n",
        "    'ano': pa.Column(pa.DateTime),\n",
        "    'grupo': pa.Column(pa.String),\n",
        "    'total': pa.Column(pa.Float)\n",
        "})\n",
        "\n",
        "schema.validate(df_2_2_backup)"
      ],
      "metadata": {
        "id": "pSPVby2swCzm",
        "colab": {
          "base_uri": "https://localhost:8080/",
          "height": 424
        },
        "outputId": "95264eba-6140-4a88-9e33-bd51d50679c8"
      },
      "execution_count": 61,
      "outputs": [
        {
          "output_type": "execute_result",
          "data": {
            "text/plain": [
              "           ano                  grupo          total\n",
              "0   2013-01-01               Biomassa   11449.195087\n",
              "1   2013-01-01                    CGH     266.387413\n",
              "2   2013-01-01                 Carvão    3389.465000\n",
              "3   2013-01-01  Derivados de Petróleo    7515.175863\n",
              "4   2013-01-01            Gás Natural   12300.288650\n",
              "..         ...                    ...            ...\n",
              "115 2018-01-01                  Total  162840.079840\n",
              "116 2019-01-01                  Total  170118.022150\n",
              "117 2020-01-01                  Total  174736.512910\n",
              "118 2021-01-01                  Total  181609.727950\n",
              "119 2022-01-01                  Total  189126.593530\n",
              "\n",
              "[120 rows x 3 columns]"
            ],
            "text/html": [
              "\n",
              "\n",
              "  <div id=\"df-b9b68406-ef43-455f-9c96-1fd2848fed60\">\n",
              "    <div class=\"colab-df-container\">\n",
              "      <div>\n",
              "<style scoped>\n",
              "    .dataframe tbody tr th:only-of-type {\n",
              "        vertical-align: middle;\n",
              "    }\n",
              "\n",
              "    .dataframe tbody tr th {\n",
              "        vertical-align: top;\n",
              "    }\n",
              "\n",
              "    .dataframe thead th {\n",
              "        text-align: right;\n",
              "    }\n",
              "</style>\n",
              "<table border=\"1\" class=\"dataframe\">\n",
              "  <thead>\n",
              "    <tr style=\"text-align: right;\">\n",
              "      <th></th>\n",
              "      <th>ano</th>\n",
              "      <th>grupo</th>\n",
              "      <th>total</th>\n",
              "    </tr>\n",
              "  </thead>\n",
              "  <tbody>\n",
              "    <tr>\n",
              "      <th>0</th>\n",
              "      <td>2013-01-01</td>\n",
              "      <td>Biomassa</td>\n",
              "      <td>11449.195087</td>\n",
              "    </tr>\n",
              "    <tr>\n",
              "      <th>1</th>\n",
              "      <td>2013-01-01</td>\n",
              "      <td>CGH</td>\n",
              "      <td>266.387413</td>\n",
              "    </tr>\n",
              "    <tr>\n",
              "      <th>2</th>\n",
              "      <td>2013-01-01</td>\n",
              "      <td>Carvão</td>\n",
              "      <td>3389.465000</td>\n",
              "    </tr>\n",
              "    <tr>\n",
              "      <th>3</th>\n",
              "      <td>2013-01-01</td>\n",
              "      <td>Derivados de Petróleo</td>\n",
              "      <td>7515.175863</td>\n",
              "    </tr>\n",
              "    <tr>\n",
              "      <th>4</th>\n",
              "      <td>2013-01-01</td>\n",
              "      <td>Gás Natural</td>\n",
              "      <td>12300.288650</td>\n",
              "    </tr>\n",
              "    <tr>\n",
              "      <th>...</th>\n",
              "      <td>...</td>\n",
              "      <td>...</td>\n",
              "      <td>...</td>\n",
              "    </tr>\n",
              "    <tr>\n",
              "      <th>115</th>\n",
              "      <td>2018-01-01</td>\n",
              "      <td>Total</td>\n",
              "      <td>162840.079840</td>\n",
              "    </tr>\n",
              "    <tr>\n",
              "      <th>116</th>\n",
              "      <td>2019-01-01</td>\n",
              "      <td>Total</td>\n",
              "      <td>170118.022150</td>\n",
              "    </tr>\n",
              "    <tr>\n",
              "      <th>117</th>\n",
              "      <td>2020-01-01</td>\n",
              "      <td>Total</td>\n",
              "      <td>174736.512910</td>\n",
              "    </tr>\n",
              "    <tr>\n",
              "      <th>118</th>\n",
              "      <td>2021-01-01</td>\n",
              "      <td>Total</td>\n",
              "      <td>181609.727950</td>\n",
              "    </tr>\n",
              "    <tr>\n",
              "      <th>119</th>\n",
              "      <td>2022-01-01</td>\n",
              "      <td>Total</td>\n",
              "      <td>189126.593530</td>\n",
              "    </tr>\n",
              "  </tbody>\n",
              "</table>\n",
              "<p>120 rows × 3 columns</p>\n",
              "</div>\n",
              "      <button class=\"colab-df-convert\" onclick=\"convertToInteractive('df-b9b68406-ef43-455f-9c96-1fd2848fed60')\"\n",
              "              title=\"Convert this dataframe to an interactive table.\"\n",
              "              style=\"display:none;\">\n",
              "\n",
              "  <svg xmlns=\"http://www.w3.org/2000/svg\" height=\"24px\"viewBox=\"0 0 24 24\"\n",
              "       width=\"24px\">\n",
              "    <path d=\"M0 0h24v24H0V0z\" fill=\"none\"/>\n",
              "    <path d=\"M18.56 5.44l.94 2.06.94-2.06 2.06-.94-2.06-.94-.94-2.06-.94 2.06-2.06.94zm-11 1L8.5 8.5l.94-2.06 2.06-.94-2.06-.94L8.5 2.5l-.94 2.06-2.06.94zm10 10l.94 2.06.94-2.06 2.06-.94-2.06-.94-.94-2.06-.94 2.06-2.06.94z\"/><path d=\"M17.41 7.96l-1.37-1.37c-.4-.4-.92-.59-1.43-.59-.52 0-1.04.2-1.43.59L10.3 9.45l-7.72 7.72c-.78.78-.78 2.05 0 2.83L4 21.41c.39.39.9.59 1.41.59.51 0 1.02-.2 1.41-.59l7.78-7.78 2.81-2.81c.8-.78.8-2.07 0-2.86zM5.41 20L4 18.59l7.72-7.72 1.47 1.35L5.41 20z\"/>\n",
              "  </svg>\n",
              "      </button>\n",
              "\n",
              "\n",
              "\n",
              "    <div id=\"df-169bda8a-c334-417e-973c-1a589363cfa7\">\n",
              "      <button class=\"colab-df-quickchart\" onclick=\"quickchart('df-169bda8a-c334-417e-973c-1a589363cfa7')\"\n",
              "              title=\"Suggest charts.\"\n",
              "              style=\"display:none;\">\n",
              "\n",
              "<svg xmlns=\"http://www.w3.org/2000/svg\" height=\"24px\"viewBox=\"0 0 24 24\"\n",
              "     width=\"24px\">\n",
              "    <g>\n",
              "        <path d=\"M19 3H5c-1.1 0-2 .9-2 2v14c0 1.1.9 2 2 2h14c1.1 0 2-.9 2-2V5c0-1.1-.9-2-2-2zM9 17H7v-7h2v7zm4 0h-2V7h2v10zm4 0h-2v-4h2v4z\"/>\n",
              "    </g>\n",
              "</svg>\n",
              "      </button>\n",
              "    </div>\n",
              "\n",
              "<style>\n",
              "  .colab-df-quickchart {\n",
              "    background-color: #E8F0FE;\n",
              "    border: none;\n",
              "    border-radius: 50%;\n",
              "    cursor: pointer;\n",
              "    display: none;\n",
              "    fill: #1967D2;\n",
              "    height: 32px;\n",
              "    padding: 0 0 0 0;\n",
              "    width: 32px;\n",
              "  }\n",
              "\n",
              "  .colab-df-quickchart:hover {\n",
              "    background-color: #E2EBFA;\n",
              "    box-shadow: 0px 1px 2px rgba(60, 64, 67, 0.3), 0px 1px 3px 1px rgba(60, 64, 67, 0.15);\n",
              "    fill: #174EA6;\n",
              "  }\n",
              "\n",
              "  [theme=dark] .colab-df-quickchart {\n",
              "    background-color: #3B4455;\n",
              "    fill: #D2E3FC;\n",
              "  }\n",
              "\n",
              "  [theme=dark] .colab-df-quickchart:hover {\n",
              "    background-color: #434B5C;\n",
              "    box-shadow: 0px 1px 3px 1px rgba(0, 0, 0, 0.15);\n",
              "    filter: drop-shadow(0px 1px 2px rgba(0, 0, 0, 0.3));\n",
              "    fill: #FFFFFF;\n",
              "  }\n",
              "</style>\n",
              "\n",
              "    <script>\n",
              "      async function quickchart(key) {\n",
              "        const containerElement = document.querySelector('#' + key);\n",
              "        const charts = await google.colab.kernel.invokeFunction(\n",
              "            'suggestCharts', [key], {});\n",
              "      }\n",
              "    </script>\n",
              "\n",
              "      <script>\n",
              "\n",
              "function displayQuickchartButton(domScope) {\n",
              "  let quickchartButtonEl =\n",
              "    domScope.querySelector('#df-169bda8a-c334-417e-973c-1a589363cfa7 button.colab-df-quickchart');\n",
              "  quickchartButtonEl.style.display =\n",
              "    google.colab.kernel.accessAllowed ? 'block' : 'none';\n",
              "}\n",
              "\n",
              "        displayQuickchartButton(document);\n",
              "      </script>\n",
              "      <style>\n",
              "    .colab-df-container {\n",
              "      display:flex;\n",
              "      flex-wrap:wrap;\n",
              "      gap: 12px;\n",
              "    }\n",
              "\n",
              "    .colab-df-convert {\n",
              "      background-color: #E8F0FE;\n",
              "      border: none;\n",
              "      border-radius: 50%;\n",
              "      cursor: pointer;\n",
              "      display: none;\n",
              "      fill: #1967D2;\n",
              "      height: 32px;\n",
              "      padding: 0 0 0 0;\n",
              "      width: 32px;\n",
              "    }\n",
              "\n",
              "    .colab-df-convert:hover {\n",
              "      background-color: #E2EBFA;\n",
              "      box-shadow: 0px 1px 2px rgba(60, 64, 67, 0.3), 0px 1px 3px 1px rgba(60, 64, 67, 0.15);\n",
              "      fill: #174EA6;\n",
              "    }\n",
              "\n",
              "    [theme=dark] .colab-df-convert {\n",
              "      background-color: #3B4455;\n",
              "      fill: #D2E3FC;\n",
              "    }\n",
              "\n",
              "    [theme=dark] .colab-df-convert:hover {\n",
              "      background-color: #434B5C;\n",
              "      box-shadow: 0px 1px 3px 1px rgba(0, 0, 0, 0.15);\n",
              "      filter: drop-shadow(0px 1px 2px rgba(0, 0, 0, 0.3));\n",
              "      fill: #FFFFFF;\n",
              "    }\n",
              "  </style>\n",
              "\n",
              "      <script>\n",
              "        const buttonEl =\n",
              "          document.querySelector('#df-b9b68406-ef43-455f-9c96-1fd2848fed60 button.colab-df-convert');\n",
              "        buttonEl.style.display =\n",
              "          google.colab.kernel.accessAllowed ? 'block' : 'none';\n",
              "\n",
              "        async function convertToInteractive(key) {\n",
              "          const element = document.querySelector('#df-b9b68406-ef43-455f-9c96-1fd2848fed60');\n",
              "          const dataTable =\n",
              "            await google.colab.kernel.invokeFunction('convertToInteractive',\n",
              "                                                     [key], {});\n",
              "          if (!dataTable) return;\n",
              "\n",
              "          const docLinkHtml = 'Like what you see? Visit the ' +\n",
              "            '<a target=\"_blank\" href=https://colab.research.google.com/notebooks/data_table.ipynb>data table notebook</a>'\n",
              "            + ' to learn more about interactive tables.';\n",
              "          element.innerHTML = '';\n",
              "          dataTable['output_type'] = 'display_data';\n",
              "          await google.colab.output.renderOutput(dataTable, element);\n",
              "          const docLink = document.createElement('div');\n",
              "          docLink.innerHTML = docLinkHtml;\n",
              "          element.appendChild(docLink);\n",
              "        }\n",
              "      </script>\n",
              "    </div>\n",
              "  </div>\n"
            ]
          },
          "metadata": {},
          "execution_count": 61
        }
      ]
    },
    {
      "cell_type": "markdown",
      "source": [
        "## **Colunas Persistidas**"
      ],
      "metadata": {
        "id": "JqXejczoZybS"
      }
    },
    {
      "cell_type": "markdown",
      "source": [
        "* ano\n",
        "* grupo\n",
        "* total"
      ],
      "metadata": {
        "id": "mNOCmwZecd8v"
      }
    },
    {
      "cell_type": "markdown",
      "source": [
        "## Backup - Copia de segurança"
      ],
      "metadata": {
        "id": "59UEX6yQCrqX"
      }
    },
    {
      "cell_type": "code",
      "source": [
        "# Backup para analise\n",
        "df_2_2_tratado = df_2_2_backup.copy()"
      ],
      "metadata": {
        "id": "kPn9PJEFvtWW"
      },
      "execution_count": 63,
      "outputs": []
    },
    {
      "cell_type": "markdown",
      "source": [
        "# Carregamento\n",
        "Depois que os dados são extraídos e transformados adequadamente, eles estarão prontos para as análise, mas antes disso eles precisam ser carregados em um local de armazenamento adequado. Podendo ser um banco de dados SQL ou NoSQL, um sistema de armazenamento em nuvem, e para o caso de disponibilizar o projeto publicamente é ideal que ele seja colocar em uma pasta de datasets, diferenciando o arquivo bruto e o tratado."
      ],
      "metadata": {
        "id": "0hT5rrbf2Xrw"
      }
    },
    {
      "cell_type": "code",
      "source": [
        "# Upando para o Google Cloud\n",
        "\n",
        "df_2_2_tratado.to_excel('gs://projeto-final-ad2-e8/dados/tratados/dataset_tratados_xlsx/2_2_cap_instalada_de_geracao_eletrica_por_fonte_mw.xlsx', index=False)\n"
      ],
      "metadata": {
        "id": "ya7oNjhIlxeF"
      },
      "execution_count": 66,
      "outputs": []
    },
    {
      "cell_type": "markdown",
      "source": [
        "# Análise exploratória de dados.\n",
        "- Descrição de dados: identificação dos tipos de variáveis, dimensões dos dados, valores extremos e estatísticas descritivas.\n",
        "- Visualização dos dados: criação de gráficos, tabelas e outros tipos de visualização para entender a distribuição e a relação entre as variáveis.\n",
        "- Identificação de padrões: identificação de padrões, tendências, correlações e outras relações entre as variáveis.\n",
        "- Testes estatísticos: aplicação de testes estatísticos para confirmar ou refutar hipóteses sobre os dados."
      ],
      "metadata": {
        "id": "vWZSnA7a323p"
      }
    },
    {
      "cell_type": "markdown",
      "source": [
        "## Instalações de bibliotecas\n",
        "bibliotecas necessárias para a análise de dados que não haviam sido importadas anteriormente."
      ],
      "metadata": {
        "id": "61BpULdxB4eG"
      }
    },
    {
      "cell_type": "code",
      "source": [],
      "metadata": {
        "id": "qdgH_yzGCDQv"
      },
      "execution_count": null,
      "outputs": []
    },
    {
      "cell_type": "markdown",
      "source": [
        "## **Estatisticas**"
      ],
      "metadata": {
        "id": "deA1beF7EVJa"
      }
    },
    {
      "cell_type": "code",
      "source": [
        "# Resumo de estatisticas descritivas\n",
        "df_2_2_backup.describe().round(2)"
      ],
      "metadata": {
        "id": "xt3WC7BzNrvJ",
        "colab": {
          "base_uri": "https://localhost:8080/",
          "height": 300
        },
        "outputId": "d5896d8b-fe9d-491e-c92c-8f56856af32b"
      },
      "execution_count": 67,
      "outputs": [
        {
          "output_type": "execute_result",
          "data": {
            "text/plain": [
              "           total\n",
              "count     120.00\n",
              "mean    26456.58\n",
              "std     47604.88\n",
              "min         5.00\n",
              "25%      2181.87\n",
              "50%      5587.53\n",
              "75%     14758.54\n",
              "max    189126.59"
            ],
            "text/html": [
              "\n",
              "\n",
              "  <div id=\"df-d57b2ced-177b-4c55-8498-fb41f2b6b56d\">\n",
              "    <div class=\"colab-df-container\">\n",
              "      <div>\n",
              "<style scoped>\n",
              "    .dataframe tbody tr th:only-of-type {\n",
              "        vertical-align: middle;\n",
              "    }\n",
              "\n",
              "    .dataframe tbody tr th {\n",
              "        vertical-align: top;\n",
              "    }\n",
              "\n",
              "    .dataframe thead th {\n",
              "        text-align: right;\n",
              "    }\n",
              "</style>\n",
              "<table border=\"1\" class=\"dataframe\">\n",
              "  <thead>\n",
              "    <tr style=\"text-align: right;\">\n",
              "      <th></th>\n",
              "      <th>total</th>\n",
              "    </tr>\n",
              "  </thead>\n",
              "  <tbody>\n",
              "    <tr>\n",
              "      <th>count</th>\n",
              "      <td>120.00</td>\n",
              "    </tr>\n",
              "    <tr>\n",
              "      <th>mean</th>\n",
              "      <td>26456.58</td>\n",
              "    </tr>\n",
              "    <tr>\n",
              "      <th>std</th>\n",
              "      <td>47604.88</td>\n",
              "    </tr>\n",
              "    <tr>\n",
              "      <th>min</th>\n",
              "      <td>5.00</td>\n",
              "    </tr>\n",
              "    <tr>\n",
              "      <th>25%</th>\n",
              "      <td>2181.87</td>\n",
              "    </tr>\n",
              "    <tr>\n",
              "      <th>50%</th>\n",
              "      <td>5587.53</td>\n",
              "    </tr>\n",
              "    <tr>\n",
              "      <th>75%</th>\n",
              "      <td>14758.54</td>\n",
              "    </tr>\n",
              "    <tr>\n",
              "      <th>max</th>\n",
              "      <td>189126.59</td>\n",
              "    </tr>\n",
              "  </tbody>\n",
              "</table>\n",
              "</div>\n",
              "      <button class=\"colab-df-convert\" onclick=\"convertToInteractive('df-d57b2ced-177b-4c55-8498-fb41f2b6b56d')\"\n",
              "              title=\"Convert this dataframe to an interactive table.\"\n",
              "              style=\"display:none;\">\n",
              "\n",
              "  <svg xmlns=\"http://www.w3.org/2000/svg\" height=\"24px\"viewBox=\"0 0 24 24\"\n",
              "       width=\"24px\">\n",
              "    <path d=\"M0 0h24v24H0V0z\" fill=\"none\"/>\n",
              "    <path d=\"M18.56 5.44l.94 2.06.94-2.06 2.06-.94-2.06-.94-.94-2.06-.94 2.06-2.06.94zm-11 1L8.5 8.5l.94-2.06 2.06-.94-2.06-.94L8.5 2.5l-.94 2.06-2.06.94zm10 10l.94 2.06.94-2.06 2.06-.94-2.06-.94-.94-2.06-.94 2.06-2.06.94z\"/><path d=\"M17.41 7.96l-1.37-1.37c-.4-.4-.92-.59-1.43-.59-.52 0-1.04.2-1.43.59L10.3 9.45l-7.72 7.72c-.78.78-.78 2.05 0 2.83L4 21.41c.39.39.9.59 1.41.59.51 0 1.02-.2 1.41-.59l7.78-7.78 2.81-2.81c.8-.78.8-2.07 0-2.86zM5.41 20L4 18.59l7.72-7.72 1.47 1.35L5.41 20z\"/>\n",
              "  </svg>\n",
              "      </button>\n",
              "\n",
              "\n",
              "\n",
              "    <div id=\"df-b9d4ea6c-66c0-4d5d-a054-7c694d8689a0\">\n",
              "      <button class=\"colab-df-quickchart\" onclick=\"quickchart('df-b9d4ea6c-66c0-4d5d-a054-7c694d8689a0')\"\n",
              "              title=\"Suggest charts.\"\n",
              "              style=\"display:none;\">\n",
              "\n",
              "<svg xmlns=\"http://www.w3.org/2000/svg\" height=\"24px\"viewBox=\"0 0 24 24\"\n",
              "     width=\"24px\">\n",
              "    <g>\n",
              "        <path d=\"M19 3H5c-1.1 0-2 .9-2 2v14c0 1.1.9 2 2 2h14c1.1 0 2-.9 2-2V5c0-1.1-.9-2-2-2zM9 17H7v-7h2v7zm4 0h-2V7h2v10zm4 0h-2v-4h2v4z\"/>\n",
              "    </g>\n",
              "</svg>\n",
              "      </button>\n",
              "    </div>\n",
              "\n",
              "<style>\n",
              "  .colab-df-quickchart {\n",
              "    background-color: #E8F0FE;\n",
              "    border: none;\n",
              "    border-radius: 50%;\n",
              "    cursor: pointer;\n",
              "    display: none;\n",
              "    fill: #1967D2;\n",
              "    height: 32px;\n",
              "    padding: 0 0 0 0;\n",
              "    width: 32px;\n",
              "  }\n",
              "\n",
              "  .colab-df-quickchart:hover {\n",
              "    background-color: #E2EBFA;\n",
              "    box-shadow: 0px 1px 2px rgba(60, 64, 67, 0.3), 0px 1px 3px 1px rgba(60, 64, 67, 0.15);\n",
              "    fill: #174EA6;\n",
              "  }\n",
              "\n",
              "  [theme=dark] .colab-df-quickchart {\n",
              "    background-color: #3B4455;\n",
              "    fill: #D2E3FC;\n",
              "  }\n",
              "\n",
              "  [theme=dark] .colab-df-quickchart:hover {\n",
              "    background-color: #434B5C;\n",
              "    box-shadow: 0px 1px 3px 1px rgba(0, 0, 0, 0.15);\n",
              "    filter: drop-shadow(0px 1px 2px rgba(0, 0, 0, 0.3));\n",
              "    fill: #FFFFFF;\n",
              "  }\n",
              "</style>\n",
              "\n",
              "    <script>\n",
              "      async function quickchart(key) {\n",
              "        const containerElement = document.querySelector('#' + key);\n",
              "        const charts = await google.colab.kernel.invokeFunction(\n",
              "            'suggestCharts', [key], {});\n",
              "      }\n",
              "    </script>\n",
              "\n",
              "      <script>\n",
              "\n",
              "function displayQuickchartButton(domScope) {\n",
              "  let quickchartButtonEl =\n",
              "    domScope.querySelector('#df-b9d4ea6c-66c0-4d5d-a054-7c694d8689a0 button.colab-df-quickchart');\n",
              "  quickchartButtonEl.style.display =\n",
              "    google.colab.kernel.accessAllowed ? 'block' : 'none';\n",
              "}\n",
              "\n",
              "        displayQuickchartButton(document);\n",
              "      </script>\n",
              "      <style>\n",
              "    .colab-df-container {\n",
              "      display:flex;\n",
              "      flex-wrap:wrap;\n",
              "      gap: 12px;\n",
              "    }\n",
              "\n",
              "    .colab-df-convert {\n",
              "      background-color: #E8F0FE;\n",
              "      border: none;\n",
              "      border-radius: 50%;\n",
              "      cursor: pointer;\n",
              "      display: none;\n",
              "      fill: #1967D2;\n",
              "      height: 32px;\n",
              "      padding: 0 0 0 0;\n",
              "      width: 32px;\n",
              "    }\n",
              "\n",
              "    .colab-df-convert:hover {\n",
              "      background-color: #E2EBFA;\n",
              "      box-shadow: 0px 1px 2px rgba(60, 64, 67, 0.3), 0px 1px 3px 1px rgba(60, 64, 67, 0.15);\n",
              "      fill: #174EA6;\n",
              "    }\n",
              "\n",
              "    [theme=dark] .colab-df-convert {\n",
              "      background-color: #3B4455;\n",
              "      fill: #D2E3FC;\n",
              "    }\n",
              "\n",
              "    [theme=dark] .colab-df-convert:hover {\n",
              "      background-color: #434B5C;\n",
              "      box-shadow: 0px 1px 3px 1px rgba(0, 0, 0, 0.15);\n",
              "      filter: drop-shadow(0px 1px 2px rgba(0, 0, 0, 0.3));\n",
              "      fill: #FFFFFF;\n",
              "    }\n",
              "  </style>\n",
              "\n",
              "      <script>\n",
              "        const buttonEl =\n",
              "          document.querySelector('#df-d57b2ced-177b-4c55-8498-fb41f2b6b56d button.colab-df-convert');\n",
              "        buttonEl.style.display =\n",
              "          google.colab.kernel.accessAllowed ? 'block' : 'none';\n",
              "\n",
              "        async function convertToInteractive(key) {\n",
              "          const element = document.querySelector('#df-d57b2ced-177b-4c55-8498-fb41f2b6b56d');\n",
              "          const dataTable =\n",
              "            await google.colab.kernel.invokeFunction('convertToInteractive',\n",
              "                                                     [key], {});\n",
              "          if (!dataTable) return;\n",
              "\n",
              "          const docLinkHtml = 'Like what you see? Visit the ' +\n",
              "            '<a target=\"_blank\" href=https://colab.research.google.com/notebooks/data_table.ipynb>data table notebook</a>'\n",
              "            + ' to learn more about interactive tables.';\n",
              "          element.innerHTML = '';\n",
              "          dataTable['output_type'] = 'display_data';\n",
              "          await google.colab.output.renderOutput(dataTable, element);\n",
              "          const docLink = document.createElement('div');\n",
              "          docLink.innerHTML = docLinkHtml;\n",
              "          element.appendChild(docLink);\n",
              "        }\n",
              "      </script>\n",
              "    </div>\n",
              "  </div>\n"
            ]
          },
          "metadata": {},
          "execution_count": 67
        }
      ]
    },
    {
      "cell_type": "code",
      "source": [
        "# Correlações de todas colunas quantitativas\n",
        "df_2_2_backup.corr()"
      ],
      "metadata": {
        "id": "vIN71lGPNwzz"
      },
      "execution_count": null,
      "outputs": []
    },
    {
      "cell_type": "code",
      "source": [
        "# Distribuição de frequencia\n",
        "def distfreq(dados, classes=None):\n",
        "    # Verifica se o número de classes foi fornecido como parâmetro, caso\n",
        "    # contrário, determina automaticamente. Se o número de dados for menor\n",
        "    # ou igual a 25, define 5 classes, caso contrário, a quantidade de classes\n",
        "    # será a raiz quadrada do número de de dados\n",
        "    if classes is None:\n",
        "        if len(dados) <= 25:\n",
        "            classes = 5\n",
        "        else:\n",
        "            classes = round(len(dados) ** 0.5 + 0.5)\n",
        "    else:\n",
        "        pass\n",
        "\n",
        "    # Ordena os dados em ordem crescente\n",
        "    dados = sorted(dados)\n",
        "    # Calcula a amplitude (diferença entre o maior e o menor valor)\n",
        "    amplitude = max(dados) - min(dados)\n",
        "    # Calcula o intervalo entre as classes\n",
        "    intervalo = amplitude / classes\n",
        "    # Cria uma lista para armazenar os limites dos intervalos\n",
        "    intervalos = [dados[0]]\n",
        "    for i in range(classes):\n",
        "        intervalos.append((intervalos[i] + intervalo))\n",
        "\n",
        "    # Imprime o cabeçalho da tabela\n",
        "    print(\"-\" * 100)\n",
        "    print(f'{\"Valores\":^19}|{\"Frequência\":^19}|{\"Freq. Acumulada\":^19}|'\n",
        "        + f'{\"Frequência %\":^19}|{\"Freq. Acumulada %\":^19}')\n",
        "    print(\"-\" * 100)\n",
        "\n",
        "    a = 0\n",
        "    b = 0\n",
        "\n",
        "    # Laço para calcular as frequências para cada classe\n",
        "    for i in range(classes):\n",
        "        a = 0\n",
        "        teste = f'{intervalos[i]:.2f} ---- {intervalos[i+1]:.2f}'\n",
        "\n",
        "        # Laço para contar quantos valores estão dentro do intervalo atual\n",
        "        for j in range(len(dados)):\n",
        "            if dados[j] < intervalos[i + 1] + 0.000001:\n",
        "                a = a + 1\n",
        "            else:\n",
        "                pass\n",
        "\n",
        "        # Imprime os valores da classe atual e suas frequências\n",
        "        print(f'{teste:^19}|{a - b:^19}|{a:^19}|{((a - b) / len(dados)):^19.2%}|{((a) / len(dados)):^19.2%}')\n",
        "\n",
        "        # Atualiza o valor de b para a próxima iteração\n",
        "        b = a\n",
        "\n",
        "        # Imprime uma linha separadora\n",
        "        print(\"-\" * 100)\n",
        "\n",
        "    # Imprime o final da tabela discriminando o total geral\n",
        "    print(f'{\"Total Geral\":^19}|{a:^19}|{\"\":^19}|{\"100,00%\":^19}|{\"\":^19}')\n",
        "    print(\"-\"*100)\n",
        "    return"
      ],
      "metadata": {
        "id": "WOlYb1l4CbPO"
      },
      "execution_count": null,
      "outputs": []
    },
    {
      "cell_type": "code",
      "source": [
        "# distfreq(df.loc[df.cidade == 'Londres']['preco_total'],154)"
      ],
      "metadata": {
        "id": "qUOgo6LObFbj"
      },
      "execution_count": null,
      "outputs": []
    },
    {
      "cell_type": "markdown",
      "source": [
        "### Filtros e agrupamentos\n",
        "Criar novas variáveis com base nos dados originais para permitir uma análise mais detalhada e avançada."
      ],
      "metadata": {
        "id": "-bEZz8EE2JGS"
      }
    },
    {
      "cell_type": "code",
      "source": [
        "# Filtros, agrupamentos"
      ],
      "metadata": {
        "id": "ZSGN7scp2XZ5"
      },
      "execution_count": null,
      "outputs": []
    },
    {
      "cell_type": "code",
      "source": [
        "filtro_2_2_Total = df_2_2_backup.loc[df_2_2_backup.grupo == 'Total']\n",
        "filtro_2_2_Total"
      ],
      "metadata": {
        "id": "_a4jYL7ngy6X"
      },
      "execution_count": null,
      "outputs": []
    },
    {
      "cell_type": "code",
      "source": [
        "filtro_2_2_sem_total = df_2_2_backup.loc[df_2_2_backup.grupo != 'Total']\n",
        "filtro_2_2_sem_total"
      ],
      "metadata": {
        "id": "mGUMVkxoiFh_"
      },
      "execution_count": null,
      "outputs": []
    },
    {
      "cell_type": "code",
      "source": [
        "filtro_2_2_sem_total[['grupo', 'total']]"
      ],
      "metadata": {
        "id": "kqprBqU3roBz"
      },
      "execution_count": null,
      "outputs": []
    },
    {
      "cell_type": "code",
      "source": [
        "filtro_2_2_sem_total.loc[:,['ano', 'grupo']]"
      ],
      "metadata": {
        "id": "FJokYNjnjR75"
      },
      "execution_count": null,
      "outputs": []
    },
    {
      "cell_type": "code",
      "source": [
        "# Quantidade de registros para cada grupo\n",
        "df_2_2_backup.groupby('grupo')['total'].mean().sort_values(ascending=False)"
      ],
      "metadata": {
        "colab": {
          "base_uri": "https://localhost:8080/"
        },
        "id": "HCM7PgstPeR6",
        "outputId": "703ca090-5ba6-4bd3-cb54-d39056eb90f8"
      },
      "execution_count": 73,
      "outputs": [
        {
          "output_type": "execute_result",
          "data": {
            "text/plain": [
              "grupo\n",
              "Total                    158739.461997\n",
              "Usinas Hidrelétricas      94826.566534\n",
              "Biomassa                  14101.295956\n",
              "Gás Natural               13855.010616\n",
              "Usinas Eólicas            12854.442838\n",
              "Derivados de Petróleo      7963.079034\n",
              "PCH                        5130.946094\n",
              "Carvão                     3257.530000\n",
              "Outras                     2100.204987\n",
              "Solar                      2057.791581\n",
              "Usinas Nucleares           1990.000000\n",
              "CGH                         602.594357\n",
              "Name: total, dtype: float64"
            ]
          },
          "metadata": {},
          "execution_count": 73
        }
      ]
    },
    {
      "cell_type": "code",
      "source": [
        "# Examinando a comparação de algumas estatisticas\n",
        "estatisticas_usinas = df_2_2_backup.groupby(['grupo']).agg({'total': ['mean', 'median', 'count', 'sum']})\n",
        "estatisticas_usinas.round(2)"
      ],
      "metadata": {
        "colab": {
          "base_uri": "https://localhost:8080/",
          "height": 488
        },
        "id": "1AnaDZerQS8M",
        "outputId": "e733c881-06f9-46c2-8766-ab4fa045f1e2"
      },
      "execution_count": 77,
      "outputs": [
        {
          "output_type": "execute_result",
          "data": {
            "text/plain": [
              "                           total                             \n",
              "                            mean     median count         sum\n",
              "grupo                                                        \n",
              "Biomassa                14101.30   14428.67    10   141012.96\n",
              "CGH                       602.59     644.48    10     6025.94\n",
              "Carvão                   3257.53    3275.74    10    32575.30\n",
              "Derivados de Petróleo    7963.08    7682.69    10    79630.79\n",
              "Gás Natural             13855.01   13169.81    10   138550.11\n",
              "Outras                   2100.20    2193.56    10    21002.05\n",
              "PCH                      5130.95    5088.48    10    51309.46\n",
              "Solar                    2057.79    1366.45    10    20577.92\n",
              "Total                  158739.46  159976.13    10  1587394.62\n",
              "Usinas Eólicas          12854.44   13336.77    10   128544.43\n",
              "Usinas Hidrelétricas    94826.57   96474.43    10   948265.67\n",
              "Usinas Nucleares         1990.00    1990.00    10    19900.00"
            ],
            "text/html": [
              "\n",
              "\n",
              "  <div id=\"df-304764a3-84af-45cc-b868-3747dfff84d1\">\n",
              "    <div class=\"colab-df-container\">\n",
              "      <div>\n",
              "<style scoped>\n",
              "    .dataframe tbody tr th:only-of-type {\n",
              "        vertical-align: middle;\n",
              "    }\n",
              "\n",
              "    .dataframe tbody tr th {\n",
              "        vertical-align: top;\n",
              "    }\n",
              "\n",
              "    .dataframe thead tr th {\n",
              "        text-align: left;\n",
              "    }\n",
              "\n",
              "    .dataframe thead tr:last-of-type th {\n",
              "        text-align: right;\n",
              "    }\n",
              "</style>\n",
              "<table border=\"1\" class=\"dataframe\">\n",
              "  <thead>\n",
              "    <tr>\n",
              "      <th></th>\n",
              "      <th colspan=\"4\" halign=\"left\">total</th>\n",
              "    </tr>\n",
              "    <tr>\n",
              "      <th></th>\n",
              "      <th>mean</th>\n",
              "      <th>median</th>\n",
              "      <th>count</th>\n",
              "      <th>sum</th>\n",
              "    </tr>\n",
              "    <tr>\n",
              "      <th>grupo</th>\n",
              "      <th></th>\n",
              "      <th></th>\n",
              "      <th></th>\n",
              "      <th></th>\n",
              "    </tr>\n",
              "  </thead>\n",
              "  <tbody>\n",
              "    <tr>\n",
              "      <th>Biomassa</th>\n",
              "      <td>14101.30</td>\n",
              "      <td>14428.67</td>\n",
              "      <td>10</td>\n",
              "      <td>141012.96</td>\n",
              "    </tr>\n",
              "    <tr>\n",
              "      <th>CGH</th>\n",
              "      <td>602.59</td>\n",
              "      <td>644.48</td>\n",
              "      <td>10</td>\n",
              "      <td>6025.94</td>\n",
              "    </tr>\n",
              "    <tr>\n",
              "      <th>Carvão</th>\n",
              "      <td>3257.53</td>\n",
              "      <td>3275.74</td>\n",
              "      <td>10</td>\n",
              "      <td>32575.30</td>\n",
              "    </tr>\n",
              "    <tr>\n",
              "      <th>Derivados de Petróleo</th>\n",
              "      <td>7963.08</td>\n",
              "      <td>7682.69</td>\n",
              "      <td>10</td>\n",
              "      <td>79630.79</td>\n",
              "    </tr>\n",
              "    <tr>\n",
              "      <th>Gás Natural</th>\n",
              "      <td>13855.01</td>\n",
              "      <td>13169.81</td>\n",
              "      <td>10</td>\n",
              "      <td>138550.11</td>\n",
              "    </tr>\n",
              "    <tr>\n",
              "      <th>Outras</th>\n",
              "      <td>2100.20</td>\n",
              "      <td>2193.56</td>\n",
              "      <td>10</td>\n",
              "      <td>21002.05</td>\n",
              "    </tr>\n",
              "    <tr>\n",
              "      <th>PCH</th>\n",
              "      <td>5130.95</td>\n",
              "      <td>5088.48</td>\n",
              "      <td>10</td>\n",
              "      <td>51309.46</td>\n",
              "    </tr>\n",
              "    <tr>\n",
              "      <th>Solar</th>\n",
              "      <td>2057.79</td>\n",
              "      <td>1366.45</td>\n",
              "      <td>10</td>\n",
              "      <td>20577.92</td>\n",
              "    </tr>\n",
              "    <tr>\n",
              "      <th>Total</th>\n",
              "      <td>158739.46</td>\n",
              "      <td>159976.13</td>\n",
              "      <td>10</td>\n",
              "      <td>1587394.62</td>\n",
              "    </tr>\n",
              "    <tr>\n",
              "      <th>Usinas Eólicas</th>\n",
              "      <td>12854.44</td>\n",
              "      <td>13336.77</td>\n",
              "      <td>10</td>\n",
              "      <td>128544.43</td>\n",
              "    </tr>\n",
              "    <tr>\n",
              "      <th>Usinas Hidrelétricas</th>\n",
              "      <td>94826.57</td>\n",
              "      <td>96474.43</td>\n",
              "      <td>10</td>\n",
              "      <td>948265.67</td>\n",
              "    </tr>\n",
              "    <tr>\n",
              "      <th>Usinas Nucleares</th>\n",
              "      <td>1990.00</td>\n",
              "      <td>1990.00</td>\n",
              "      <td>10</td>\n",
              "      <td>19900.00</td>\n",
              "    </tr>\n",
              "  </tbody>\n",
              "</table>\n",
              "</div>\n",
              "      <button class=\"colab-df-convert\" onclick=\"convertToInteractive('df-304764a3-84af-45cc-b868-3747dfff84d1')\"\n",
              "              title=\"Convert this dataframe to an interactive table.\"\n",
              "              style=\"display:none;\">\n",
              "\n",
              "  <svg xmlns=\"http://www.w3.org/2000/svg\" height=\"24px\"viewBox=\"0 0 24 24\"\n",
              "       width=\"24px\">\n",
              "    <path d=\"M0 0h24v24H0V0z\" fill=\"none\"/>\n",
              "    <path d=\"M18.56 5.44l.94 2.06.94-2.06 2.06-.94-2.06-.94-.94-2.06-.94 2.06-2.06.94zm-11 1L8.5 8.5l.94-2.06 2.06-.94-2.06-.94L8.5 2.5l-.94 2.06-2.06.94zm10 10l.94 2.06.94-2.06 2.06-.94-2.06-.94-.94-2.06-.94 2.06-2.06.94z\"/><path d=\"M17.41 7.96l-1.37-1.37c-.4-.4-.92-.59-1.43-.59-.52 0-1.04.2-1.43.59L10.3 9.45l-7.72 7.72c-.78.78-.78 2.05 0 2.83L4 21.41c.39.39.9.59 1.41.59.51 0 1.02-.2 1.41-.59l7.78-7.78 2.81-2.81c.8-.78.8-2.07 0-2.86zM5.41 20L4 18.59l7.72-7.72 1.47 1.35L5.41 20z\"/>\n",
              "  </svg>\n",
              "      </button>\n",
              "\n",
              "\n",
              "\n",
              "    <div id=\"df-79a3ff41-a81f-495c-ad1c-efca1a426c57\">\n",
              "      <button class=\"colab-df-quickchart\" onclick=\"quickchart('df-79a3ff41-a81f-495c-ad1c-efca1a426c57')\"\n",
              "              title=\"Suggest charts.\"\n",
              "              style=\"display:none;\">\n",
              "\n",
              "<svg xmlns=\"http://www.w3.org/2000/svg\" height=\"24px\"viewBox=\"0 0 24 24\"\n",
              "     width=\"24px\">\n",
              "    <g>\n",
              "        <path d=\"M19 3H5c-1.1 0-2 .9-2 2v14c0 1.1.9 2 2 2h14c1.1 0 2-.9 2-2V5c0-1.1-.9-2-2-2zM9 17H7v-7h2v7zm4 0h-2V7h2v10zm4 0h-2v-4h2v4z\"/>\n",
              "    </g>\n",
              "</svg>\n",
              "      </button>\n",
              "    </div>\n",
              "\n",
              "<style>\n",
              "  .colab-df-quickchart {\n",
              "    background-color: #E8F0FE;\n",
              "    border: none;\n",
              "    border-radius: 50%;\n",
              "    cursor: pointer;\n",
              "    display: none;\n",
              "    fill: #1967D2;\n",
              "    height: 32px;\n",
              "    padding: 0 0 0 0;\n",
              "    width: 32px;\n",
              "  }\n",
              "\n",
              "  .colab-df-quickchart:hover {\n",
              "    background-color: #E2EBFA;\n",
              "    box-shadow: 0px 1px 2px rgba(60, 64, 67, 0.3), 0px 1px 3px 1px rgba(60, 64, 67, 0.15);\n",
              "    fill: #174EA6;\n",
              "  }\n",
              "\n",
              "  [theme=dark] .colab-df-quickchart {\n",
              "    background-color: #3B4455;\n",
              "    fill: #D2E3FC;\n",
              "  }\n",
              "\n",
              "  [theme=dark] .colab-df-quickchart:hover {\n",
              "    background-color: #434B5C;\n",
              "    box-shadow: 0px 1px 3px 1px rgba(0, 0, 0, 0.15);\n",
              "    filter: drop-shadow(0px 1px 2px rgba(0, 0, 0, 0.3));\n",
              "    fill: #FFFFFF;\n",
              "  }\n",
              "</style>\n",
              "\n",
              "    <script>\n",
              "      async function quickchart(key) {\n",
              "        const containerElement = document.querySelector('#' + key);\n",
              "        const charts = await google.colab.kernel.invokeFunction(\n",
              "            'suggestCharts', [key], {});\n",
              "      }\n",
              "    </script>\n",
              "\n",
              "      <script>\n",
              "\n",
              "function displayQuickchartButton(domScope) {\n",
              "  let quickchartButtonEl =\n",
              "    domScope.querySelector('#df-79a3ff41-a81f-495c-ad1c-efca1a426c57 button.colab-df-quickchart');\n",
              "  quickchartButtonEl.style.display =\n",
              "    google.colab.kernel.accessAllowed ? 'block' : 'none';\n",
              "}\n",
              "\n",
              "        displayQuickchartButton(document);\n",
              "      </script>\n",
              "      <style>\n",
              "    .colab-df-container {\n",
              "      display:flex;\n",
              "      flex-wrap:wrap;\n",
              "      gap: 12px;\n",
              "    }\n",
              "\n",
              "    .colab-df-convert {\n",
              "      background-color: #E8F0FE;\n",
              "      border: none;\n",
              "      border-radius: 50%;\n",
              "      cursor: pointer;\n",
              "      display: none;\n",
              "      fill: #1967D2;\n",
              "      height: 32px;\n",
              "      padding: 0 0 0 0;\n",
              "      width: 32px;\n",
              "    }\n",
              "\n",
              "    .colab-df-convert:hover {\n",
              "      background-color: #E2EBFA;\n",
              "      box-shadow: 0px 1px 2px rgba(60, 64, 67, 0.3), 0px 1px 3px 1px rgba(60, 64, 67, 0.15);\n",
              "      fill: #174EA6;\n",
              "    }\n",
              "\n",
              "    [theme=dark] .colab-df-convert {\n",
              "      background-color: #3B4455;\n",
              "      fill: #D2E3FC;\n",
              "    }\n",
              "\n",
              "    [theme=dark] .colab-df-convert:hover {\n",
              "      background-color: #434B5C;\n",
              "      box-shadow: 0px 1px 3px 1px rgba(0, 0, 0, 0.15);\n",
              "      filter: drop-shadow(0px 1px 2px rgba(0, 0, 0, 0.3));\n",
              "      fill: #FFFFFF;\n",
              "    }\n",
              "  </style>\n",
              "\n",
              "      <script>\n",
              "        const buttonEl =\n",
              "          document.querySelector('#df-304764a3-84af-45cc-b868-3747dfff84d1 button.colab-df-convert');\n",
              "        buttonEl.style.display =\n",
              "          google.colab.kernel.accessAllowed ? 'block' : 'none';\n",
              "\n",
              "        async function convertToInteractive(key) {\n",
              "          const element = document.querySelector('#df-304764a3-84af-45cc-b868-3747dfff84d1');\n",
              "          const dataTable =\n",
              "            await google.colab.kernel.invokeFunction('convertToInteractive',\n",
              "                                                     [key], {});\n",
              "          if (!dataTable) return;\n",
              "\n",
              "          const docLinkHtml = 'Like what you see? Visit the ' +\n",
              "            '<a target=\"_blank\" href=https://colab.research.google.com/notebooks/data_table.ipynb>data table notebook</a>'\n",
              "            + ' to learn more about interactive tables.';\n",
              "          element.innerHTML = '';\n",
              "          dataTable['output_type'] = 'display_data';\n",
              "          await google.colab.output.renderOutput(dataTable, element);\n",
              "          const docLink = document.createElement('div');\n",
              "          docLink.innerHTML = docLinkHtml;\n",
              "          element.appendChild(docLink);\n",
              "        }\n",
              "      </script>\n",
              "    </div>\n",
              "  </div>\n"
            ]
          },
          "metadata": {},
          "execution_count": 77
        }
      ]
    },
    {
      "cell_type": "markdown",
      "source": [
        "# Visualização"
      ],
      "metadata": {
        "id": "_IRmFDtibEJ5"
      }
    },
    {
      "cell_type": "code",
      "source": [
        "!pip install matplotlib"
      ],
      "metadata": {
        "id": "G4uqRpaj4fXm"
      },
      "execution_count": 54,
      "outputs": []
    },
    {
      "cell_type": "code",
      "source": [
        "import matplotlib.pyplot as plt"
      ],
      "metadata": {
        "id": "rpR_TSoZ4jkO"
      },
      "execution_count": 55,
      "outputs": []
    },
    {
      "cell_type": "code",
      "source": [
        "# Grafico que visualiza qual 'tipo de quarto' esta incluido em listagens com preços altos\n",
        "df_2_2_backup.groupby('grupo').plot.barh()\n",
        "plt.xlabel('ano')\n",
        "plt.ylabel('total')\n",
        "plt.title('Teste')\n",
        "plt.show()"
      ],
      "metadata": {
        "id": "7ekIeOw65qzv"
      },
      "execution_count": null,
      "outputs": []
    },
    {
      "cell_type": "markdown",
      "source": [
        "# Conclusão\n",
        "Resumo das principais conclusões e insights obtidos a partir da análise exploratória, sugestões para próximos passos da análise ou possíveis ações a serem tomadas."
      ],
      "metadata": {
        "id": "mGQ05qUq6O-Q"
      }
    },
    {
      "cell_type": "code",
      "source": [],
      "metadata": {
        "id": "BtkBYIPIbS0s"
      },
      "execution_count": null,
      "outputs": []
    }
  ]
}
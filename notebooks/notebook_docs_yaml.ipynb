{
  "nbformat": 4,
  "nbformat_minor": 0,
  "metadata": {
    "colab": {
      "provenance": [],
      "toc_visible": true,
      "include_colab_link": true
    },
    "kernelspec": {
      "name": "python3",
      "display_name": "Python 3"
    },
    "language_info": {
      "name": "python"
    }
  },
  "cells": [
    {
      "cell_type": "markdown",
      "metadata": {
        "id": "view-in-github",
        "colab_type": "text"
      },
      "source": [
        "<a href=\"https://colab.research.google.com/github/squadOito/soulcodead2/blob/joseaureliok%2Fnotebook/notebooks/notebook_docs_yaml.ipynb\" target=\"_parent\"><img src=\"https://colab.research.google.com/assets/colab-badge.svg\" alt=\"Open In Colab\"/></a>"
      ]
    },
    {
      "cell_type": "markdown",
      "source": [
        "## **Projeto Final**\n",
        "Escola: SoulCode Academy\n",
        "\n",
        "Curso: Bootcamp Analista de Dados - Martech - AD2\n",
        "\n",
        "**Equipe 08**\n",
        "\n",
        "**Integrantes**: Wesley, Marcos Paulo, Adriano Kim, Paulo Vitorino, Renato e José Aurelio\n",
        "\n",
        "Professores: Douglas Ribeiro, Franciane Rodrigues e Jonathas Carneiro"
      ],
      "metadata": {
        "id": "8AvV2uVhNLpj"
      }
    },
    {
      "cell_type": "markdown",
      "source": [
        "## Preparação de Ambiente"
      ],
      "metadata": {
        "id": "L7abbfpEBjvV"
      }
    },
    {
      "cell_type": "code",
      "execution_count": 1,
      "metadata": {
        "id": "cGTV4K2w0xhZ"
      },
      "outputs": [],
      "source": [
        "# Instalaçao Bibliotecas\n",
        "!pip install gcsfs -q"
      ]
    },
    {
      "cell_type": "code",
      "source": [
        "# Importando Bibliotecas\n",
        "import os\n",
        "import pandas as pd\n",
        "\n",
        "from google.cloud import storage\n",
        "from google.colab import data_table\n",
        "from google.colab import drive\n",
        "from google.colab import auth\n",
        "from pydrive.auth import GoogleAuth\n",
        "from pydrive.drive import GoogleDrive\n",
        "from oauth2client.client import GoogleCredentials"
      ],
      "metadata": {
        "id": "9PyA1knO9Wau"
      },
      "execution_count": 12,
      "outputs": []
    },
    {
      "cell_type": "code",
      "source": [
        "# Ignorando alguns alertas desnecessários\n",
        "import warnings\n",
        "warnings.filterwarnings(\"ignore\")"
      ],
      "metadata": {
        "id": "um2OUpf69mnW"
      },
      "execution_count": 3,
      "outputs": []
    },
    {
      "cell_type": "markdown",
      "source": [
        "### Configuração PySpark"
      ],
      "metadata": {
        "id": "iw_HBWma1nHd"
      }
    },
    {
      "cell_type": "code",
      "source": [
        "!apt-get install openjdk-8-jdk-headless -qq > /dev/null\n",
        "!wget -N -q http://archive.apache.org/dist/spark/spark-3.1.1/spark-3.1.1-bin-hadoop3.2.tgz\n",
        "!tar xf spark-3.1.1-bin-hadoop3.2.tgz\n",
        "!pip install -q findspark"
      ],
      "metadata": {
        "id": "Zzgp2wP_J1zP"
      },
      "execution_count": 4,
      "outputs": []
    },
    {
      "cell_type": "code",
      "source": [
        "os.environ[\"JAVA_HOME\"] = \"/usr/lib/jvm/java-8-openjdk-amd64\"\n",
        "os.environ[\"SPARK_HOME\"] = \"/content/spark-3.1.1-bin-hadoop3.2\""
      ],
      "metadata": {
        "id": "WqPM27dsJ2jp"
      },
      "execution_count": 5,
      "outputs": []
    },
    {
      "cell_type": "code",
      "source": [
        "import findspark\n",
        "findspark.init()\n",
        "\n",
        "from pyspark.sql import SparkSession\n",
        "spark = SparkSession.builder.master(\"local[*]\").getOrCreate()\n",
        "\n",
        "from pyspark.sql.functions import regexp_replace\n",
        "spark.conf.set(\"spark.sql.repl.eagerEval.enabled\", True) # Para deixar a visualição das tabelas mais amigável\n",
        "\n",
        "import pyspark.sql.functions as F\n",
        "from pyspark.sql.types import *\n",
        "\n",
        "spark"
      ],
      "metadata": {
        "id": "1sAWAoufKBBb",
        "outputId": "1d31f764-46bf-4b38-db61-1f40c1620b30",
        "colab": {
          "base_uri": "https://localhost:8080/",
          "height": 219
        }
      },
      "execution_count": 6,
      "outputs": [
        {
          "output_type": "execute_result",
          "data": {
            "text/plain": [
              "<pyspark.sql.session.SparkSession at 0x7b76f1a95b70>"
            ],
            "text/html": [
              "\n",
              "            <div>\n",
              "                <p><b>SparkSession - in-memory</b></p>\n",
              "                \n",
              "        <div>\n",
              "            <p><b>SparkContext</b></p>\n",
              "\n",
              "            <p><a href=\"http://306625becd75:4040\">Spark UI</a></p>\n",
              "\n",
              "            <dl>\n",
              "              <dt>Version</dt>\n",
              "                <dd><code>v3.1.1</code></dd>\n",
              "              <dt>Master</dt>\n",
              "                <dd><code>local[*]</code></dd>\n",
              "              <dt>AppName</dt>\n",
              "                <dd><code>pyspark-shell</code></dd>\n",
              "            </dl>\n",
              "        </div>\n",
              "        \n",
              "            </div>\n",
              "        "
            ]
          },
          "metadata": {},
          "execution_count": 6
        }
      ]
    },
    {
      "cell_type": "markdown",
      "source": [
        "### Compartilhamento Chave GDrive"
      ],
      "metadata": {
        "id": "J5R3Nt3Q1er7"
      }
    },
    {
      "cell_type": "code",
      "source": [
        "# Cria compartilhamento com Google Drive\n",
        "drive.mount('/content/drive', force_remount=True)\n",
        "\n",
        "# Arquivo a ser acessado na pasta compartilhada\n",
        "\n",
        "target = 'projeto-final-ad2-e8-ae566c3a2c2b.json'\n",
        "\n",
        "# Caminho completo da pasta compartilhada\n",
        "folder = '/content/drive/MyDrive/Classroom/AD2 - Analista de Dados/ProjetoFinal'\n",
        "\n",
        "# Acesso ao arquivo no colab\n",
        "serviceAccount = os.path.join(folder, target)"
      ],
      "metadata": {
        "colab": {
          "base_uri": "https://localhost:8080/"
        },
        "id": "pSoSXbShcQVp",
        "outputId": "aedc0b02-12ec-450d-b8cd-9cb0937d2fc2"
      },
      "execution_count": 7,
      "outputs": [
        {
          "output_type": "stream",
          "name": "stdout",
          "text": [
            "Mounted at /content/drive\n"
          ]
        }
      ]
    },
    {
      "cell_type": "markdown",
      "source": [
        "### Configuração da bucket"
      ],
      "metadata": {
        "id": "0dZJqZvm1DES"
      }
    },
    {
      "cell_type": "code",
      "source": [
        "# Nome da bucket\n",
        "bucket_name = 'projeto-final-ad2-e8'\n",
        "\n",
        "# Delimitação de pasta\n",
        "prefix_name = 'dados/tratados/'"
      ],
      "metadata": {
        "id": "KH0J2FihwE7D"
      },
      "execution_count": 8,
      "outputs": []
    },
    {
      "cell_type": "code",
      "source": [
        "# Conexão com a conta do Google Cloud\n",
        "os.environ['GOOGLE_APPLICATION_CREDENTIALS'] = serviceAccount"
      ],
      "metadata": {
        "id": "CyymFDdQ2akm"
      },
      "execution_count": 9,
      "outputs": []
    },
    {
      "cell_type": "code",
      "source": [
        "# Conexão com a bucket do Google Cloud\n",
        "client = storage.Client()\n",
        "bucket = client.get_bucket(bucket_name)"
      ],
      "metadata": {
        "id": "TV-rH7EWbVpm"
      },
      "execution_count": 10,
      "outputs": []
    },
    {
      "cell_type": "markdown",
      "source": [
        "### Conjuntos de dados"
      ],
      "metadata": {
        "id": "Aa2mhAJnEEYp"
      }
    },
    {
      "cell_type": "code",
      "source": [
        "# Habilita formatação tabular\n",
        "data_table.enable_dataframe_formatter()"
      ],
      "metadata": {
        "id": "JQikL7QHwW4j"
      },
      "execution_count": 13,
      "outputs": []
    },
    {
      "cell_type": "code",
      "source": [
        "# Listando conjuntos de dados na bucket\n",
        "blobList = [x.name for x in bucket.list_blobs(prefix = prefix_name)]\n",
        "\n",
        "# dataframe lista blobs\n",
        "blobDf = pd.DataFrame(blobList)\n",
        "\n",
        "blobDf"
      ],
      "metadata": {
        "id": "Rha7mHJBwYaQ",
        "outputId": "d6540a30-f356-49d3-cd31-0bbbd85e4e26",
        "colab": {
          "base_uri": "https://localhost:8080/",
          "height": 337
        }
      },
      "execution_count": 14,
      "outputs": [
        {
          "output_type": "execute_result",
          "data": {
            "text/plain": [
              "                                                   0\n",
              "0                                    dados/tratados/\n",
              "1              dados/tratados/dataset_tratados_xlsx/\n",
              "2  dados/tratados/dataset_tratados_xlsx/2_1_cap_i...\n",
              "3  dados/tratados/dataset_tratados_xlsx/2_2_cap_i...\n",
              "4  dados/tratados/dataset_tratados_xlsx/2_2_cap_i...\n",
              "5  dados/tratados/dataset_tratados_xlsx/2_3_gerac...\n",
              "6  dados/tratados/fator_capacidade_mwh_2015_2023.csv\n",
              "7       dados/tratados/iea_ponto_recarga_tratado.csv\n",
              "8            dados/tratados/iea_veiculos_tratado.csv\n",
              "9     dados/tratados/tratado_geracao_distribuida.csv"
            ],
            "text/html": [
              "\n",
              "\n",
              "  <div id=\"df-f6c7bb1c-4984-4352-aede-476b3acee2e1\">\n",
              "    <div class=\"colab-df-container\">\n",
              "      <div>\n",
              "<style scoped>\n",
              "    .dataframe tbody tr th:only-of-type {\n",
              "        vertical-align: middle;\n",
              "    }\n",
              "\n",
              "    .dataframe tbody tr th {\n",
              "        vertical-align: top;\n",
              "    }\n",
              "\n",
              "    .dataframe thead th {\n",
              "        text-align: right;\n",
              "    }\n",
              "</style>\n",
              "<table border=\"1\" class=\"dataframe\">\n",
              "  <thead>\n",
              "    <tr style=\"text-align: right;\">\n",
              "      <th></th>\n",
              "      <th>0</th>\n",
              "    </tr>\n",
              "  </thead>\n",
              "  <tbody>\n",
              "    <tr>\n",
              "      <th>0</th>\n",
              "      <td>dados/tratados/</td>\n",
              "    </tr>\n",
              "    <tr>\n",
              "      <th>1</th>\n",
              "      <td>dados/tratados/dataset_tratados_xlsx/</td>\n",
              "    </tr>\n",
              "    <tr>\n",
              "      <th>2</th>\n",
              "      <td>dados/tratados/dataset_tratados_xlsx/2_1_cap_i...</td>\n",
              "    </tr>\n",
              "    <tr>\n",
              "      <th>3</th>\n",
              "      <td>dados/tratados/dataset_tratados_xlsx/2_2_cap_i...</td>\n",
              "    </tr>\n",
              "    <tr>\n",
              "      <th>4</th>\n",
              "      <td>dados/tratados/dataset_tratados_xlsx/2_2_cap_i...</td>\n",
              "    </tr>\n",
              "    <tr>\n",
              "      <th>5</th>\n",
              "      <td>dados/tratados/dataset_tratados_xlsx/2_3_gerac...</td>\n",
              "    </tr>\n",
              "    <tr>\n",
              "      <th>6</th>\n",
              "      <td>dados/tratados/fator_capacidade_mwh_2015_2023.csv</td>\n",
              "    </tr>\n",
              "    <tr>\n",
              "      <th>7</th>\n",
              "      <td>dados/tratados/iea_ponto_recarga_tratado.csv</td>\n",
              "    </tr>\n",
              "    <tr>\n",
              "      <th>8</th>\n",
              "      <td>dados/tratados/iea_veiculos_tratado.csv</td>\n",
              "    </tr>\n",
              "    <tr>\n",
              "      <th>9</th>\n",
              "      <td>dados/tratados/tratado_geracao_distribuida.csv</td>\n",
              "    </tr>\n",
              "  </tbody>\n",
              "</table>\n",
              "</div>\n",
              "      <button class=\"colab-df-convert\" onclick=\"convertToInteractive('df-f6c7bb1c-4984-4352-aede-476b3acee2e1')\"\n",
              "              title=\"Convert this dataframe to an interactive table.\"\n",
              "              style=\"display:none;\">\n",
              "\n",
              "  <svg xmlns=\"http://www.w3.org/2000/svg\" height=\"24px\"viewBox=\"0 0 24 24\"\n",
              "       width=\"24px\">\n",
              "    <path d=\"M0 0h24v24H0V0z\" fill=\"none\"/>\n",
              "    <path d=\"M18.56 5.44l.94 2.06.94-2.06 2.06-.94-2.06-.94-.94-2.06-.94 2.06-2.06.94zm-11 1L8.5 8.5l.94-2.06 2.06-.94-2.06-.94L8.5 2.5l-.94 2.06-2.06.94zm10 10l.94 2.06.94-2.06 2.06-.94-2.06-.94-.94-2.06-.94 2.06-2.06.94z\"/><path d=\"M17.41 7.96l-1.37-1.37c-.4-.4-.92-.59-1.43-.59-.52 0-1.04.2-1.43.59L10.3 9.45l-7.72 7.72c-.78.78-.78 2.05 0 2.83L4 21.41c.39.39.9.59 1.41.59.51 0 1.02-.2 1.41-.59l7.78-7.78 2.81-2.81c.8-.78.8-2.07 0-2.86zM5.41 20L4 18.59l7.72-7.72 1.47 1.35L5.41 20z\"/>\n",
              "  </svg>\n",
              "      </button>\n",
              "\n",
              "\n",
              "\n",
              "    <div id=\"df-a17f5950-f11a-4392-9106-e2f7e5aa3fc1\">\n",
              "      <button class=\"colab-df-quickchart\" onclick=\"quickchart('df-a17f5950-f11a-4392-9106-e2f7e5aa3fc1')\"\n",
              "              title=\"Suggest charts.\"\n",
              "              style=\"display:none;\">\n",
              "\n",
              "<svg xmlns=\"http://www.w3.org/2000/svg\" height=\"24px\"viewBox=\"0 0 24 24\"\n",
              "     width=\"24px\">\n",
              "    <g>\n",
              "        <path d=\"M19 3H5c-1.1 0-2 .9-2 2v14c0 1.1.9 2 2 2h14c1.1 0 2-.9 2-2V5c0-1.1-.9-2-2-2zM9 17H7v-7h2v7zm4 0h-2V7h2v10zm4 0h-2v-4h2v4z\"/>\n",
              "    </g>\n",
              "</svg>\n",
              "      </button>\n",
              "    </div>\n",
              "\n",
              "<style>\n",
              "  .colab-df-quickchart {\n",
              "    background-color: #E8F0FE;\n",
              "    border: none;\n",
              "    border-radius: 50%;\n",
              "    cursor: pointer;\n",
              "    display: none;\n",
              "    fill: #1967D2;\n",
              "    height: 32px;\n",
              "    padding: 0 0 0 0;\n",
              "    width: 32px;\n",
              "  }\n",
              "\n",
              "  .colab-df-quickchart:hover {\n",
              "    background-color: #E2EBFA;\n",
              "    box-shadow: 0px 1px 2px rgba(60, 64, 67, 0.3), 0px 1px 3px 1px rgba(60, 64, 67, 0.15);\n",
              "    fill: #174EA6;\n",
              "  }\n",
              "\n",
              "  [theme=dark] .colab-df-quickchart {\n",
              "    background-color: #3B4455;\n",
              "    fill: #D2E3FC;\n",
              "  }\n",
              "\n",
              "  [theme=dark] .colab-df-quickchart:hover {\n",
              "    background-color: #434B5C;\n",
              "    box-shadow: 0px 1px 3px 1px rgba(0, 0, 0, 0.15);\n",
              "    filter: drop-shadow(0px 1px 2px rgba(0, 0, 0, 0.3));\n",
              "    fill: #FFFFFF;\n",
              "  }\n",
              "</style>\n",
              "\n",
              "    <script>\n",
              "      async function quickchart(key) {\n",
              "        const containerElement = document.querySelector('#' + key);\n",
              "        const charts = await google.colab.kernel.invokeFunction(\n",
              "            'suggestCharts', [key], {});\n",
              "      }\n",
              "    </script>\n",
              "\n",
              "      <script>\n",
              "\n",
              "function displayQuickchartButton(domScope) {\n",
              "  let quickchartButtonEl =\n",
              "    domScope.querySelector('#df-a17f5950-f11a-4392-9106-e2f7e5aa3fc1 button.colab-df-quickchart');\n",
              "  quickchartButtonEl.style.display =\n",
              "    google.colab.kernel.accessAllowed ? 'block' : 'none';\n",
              "}\n",
              "\n",
              "        displayQuickchartButton(document);\n",
              "      </script>\n",
              "      <style>\n",
              "    .colab-df-container {\n",
              "      display:flex;\n",
              "      flex-wrap:wrap;\n",
              "      gap: 12px;\n",
              "    }\n",
              "\n",
              "    .colab-df-convert {\n",
              "      background-color: #E8F0FE;\n",
              "      border: none;\n",
              "      border-radius: 50%;\n",
              "      cursor: pointer;\n",
              "      display: none;\n",
              "      fill: #1967D2;\n",
              "      height: 32px;\n",
              "      padding: 0 0 0 0;\n",
              "      width: 32px;\n",
              "    }\n",
              "\n",
              "    .colab-df-convert:hover {\n",
              "      background-color: #E2EBFA;\n",
              "      box-shadow: 0px 1px 2px rgba(60, 64, 67, 0.3), 0px 1px 3px 1px rgba(60, 64, 67, 0.15);\n",
              "      fill: #174EA6;\n",
              "    }\n",
              "\n",
              "    [theme=dark] .colab-df-convert {\n",
              "      background-color: #3B4455;\n",
              "      fill: #D2E3FC;\n",
              "    }\n",
              "\n",
              "    [theme=dark] .colab-df-convert:hover {\n",
              "      background-color: #434B5C;\n",
              "      box-shadow: 0px 1px 3px 1px rgba(0, 0, 0, 0.15);\n",
              "      filter: drop-shadow(0px 1px 2px rgba(0, 0, 0, 0.3));\n",
              "      fill: #FFFFFF;\n",
              "    }\n",
              "  </style>\n",
              "\n",
              "      <script>\n",
              "        const buttonEl =\n",
              "          document.querySelector('#df-f6c7bb1c-4984-4352-aede-476b3acee2e1 button.colab-df-convert');\n",
              "        buttonEl.style.display =\n",
              "          google.colab.kernel.accessAllowed ? 'block' : 'none';\n",
              "\n",
              "        async function convertToInteractive(key) {\n",
              "          const element = document.querySelector('#df-f6c7bb1c-4984-4352-aede-476b3acee2e1');\n",
              "          const dataTable =\n",
              "            await google.colab.kernel.invokeFunction('convertToInteractive',\n",
              "                                                     [key], {});\n",
              "          if (!dataTable) return;\n",
              "\n",
              "          const docLinkHtml = 'Like what you see? Visit the ' +\n",
              "            '<a target=\"_blank\" href=https://colab.research.google.com/notebooks/data_table.ipynb>data table notebook</a>'\n",
              "            + ' to learn more about interactive tables.';\n",
              "          element.innerHTML = '';\n",
              "          dataTable['output_type'] = 'display_data';\n",
              "          await google.colab.output.renderOutput(dataTable, element);\n",
              "          const docLink = document.createElement('div');\n",
              "          docLink.innerHTML = docLinkHtml;\n",
              "          element.appendChild(docLink);\n",
              "        }\n",
              "      </script>\n",
              "    </div>\n",
              "  </div>\n"
            ],
            "application/vnd.google.colaboratory.module+javascript": "\n      import \"https://ssl.gstatic.com/colaboratory/data_table/881c4a0d49046431/data_table.js\";\n\n      const table = window.createDataTable({\n        data: [[{\n            'v': 0,\n            'f': \"0\",\n        },\n\"dados/tratados/\"],\n [{\n            'v': 1,\n            'f': \"1\",\n        },\n\"dados/tratados/dataset_tratados_xlsx/\"],\n [{\n            'v': 2,\n            'f': \"2\",\n        },\n\"dados/tratados/dataset_tratados_xlsx/2_1_cap_instalada_por_regiao_e_uf_tratado.xlsx\"],\n [{\n            'v': 3,\n            'f': \"3\",\n        },\n\"dados/tratados/dataset_tratados_xlsx/2_2_cap_instalada_de_geracao_eletrica_por_fonte_mw.csv\"],\n [{\n            'v': 4,\n            'f': \"4\",\n        },\n\"dados/tratados/dataset_tratados_xlsx/2_2_cap_instalada_de_geracao_eletrica_por_fonte_mw.xlsx\"],\n [{\n            'v': 5,\n            'f': \"5\",\n        },\n\"dados/tratados/dataset_tratados_xlsx/2_3_geracao_eletrica_por_fonte_gwh_tratado.xlsx\"],\n [{\n            'v': 6,\n            'f': \"6\",\n        },\n\"dados/tratados/fator_capacidade_mwh_2015_2023.csv\"],\n [{\n            'v': 7,\n            'f': \"7\",\n        },\n\"dados/tratados/iea_ponto_recarga_tratado.csv\"],\n [{\n            'v': 8,\n            'f': \"8\",\n        },\n\"dados/tratados/iea_veiculos_tratado.csv\"],\n [{\n            'v': 9,\n            'f': \"9\",\n        },\n\"dados/tratados/tratado_geracao_distribuida.csv\"]],\n        columns: [[\"number\", \"index\"], [\"string\", \"0\"]],\n        columnOptions: [{\"width\": \"1px\", \"className\": \"index_column\"}],\n        rowsPerPage: 25,\n        helpUrl: \"https://colab.research.google.com/notebooks/data_table.ipynb\",\n        suppressOutputScrolling: true,\n        minimumWidth: undefined,\n      });\n      \n      function appendQuickchartButton(parentElement) {\n        let quickchartButtonContainerElement = document.createElement('div');\n        quickchartButtonContainerElement.innerHTML = `\n    <div id=\"df-5ab6429a-2881-41f6-8863-a2a01227bd79\">\n      <button class=\"colab-df-quickchart\" onclick=\"quickchart('df-5ab6429a-2881-41f6-8863-a2a01227bd79')\"\n              title=\"Suggest charts.\"\n              style=\"display:none;\">\n\n<svg xmlns=\"http://www.w3.org/2000/svg\" height=\"24px\"viewBox=\"0 0 24 24\"\n     width=\"24px\">\n    <g>\n        <path d=\"M19 3H5c-1.1 0-2 .9-2 2v14c0 1.1.9 2 2 2h14c1.1 0 2-.9 2-2V5c0-1.1-.9-2-2-2zM9 17H7v-7h2v7zm4 0h-2V7h2v10zm4 0h-2v-4h2v4z\"/>\n    </g>\n</svg>\n      </button>\n    </div>\n\n<style>\n  .colab-df-quickchart {\n    background-color: #E8F0FE;\n    border: none;\n    border-radius: 50%;\n    cursor: pointer;\n    display: none;\n    fill: #1967D2;\n    height: 32px;\n    padding: 0 0 0 0;\n    width: 32px;\n  }\n\n  .colab-df-quickchart:hover {\n    background-color: #E2EBFA;\n    box-shadow: 0px 1px 2px rgba(60, 64, 67, 0.3), 0px 1px 3px 1px rgba(60, 64, 67, 0.15);\n    fill: #174EA6;\n  }\n\n  [theme=dark] .colab-df-quickchart {\n    background-color: #3B4455;\n    fill: #D2E3FC;\n  }\n\n  [theme=dark] .colab-df-quickchart:hover {\n    background-color: #434B5C;\n    box-shadow: 0px 1px 3px 1px rgba(0, 0, 0, 0.15);\n    filter: drop-shadow(0px 1px 2px rgba(0, 0, 0, 0.3));\n    fill: #FFFFFF;\n  }\n</style>\n\n    <script>\n      async function quickchart(key) {\n        const containerElement = document.querySelector('#' + key);\n        const charts = await google.colab.kernel.invokeFunction(\n            'suggestCharts', [key], {});\n      }\n    </script>\n`;\n        parentElement.appendChild(quickchartButtonContainerElement);\n        \nfunction displayQuickchartButton(domScope) {\n  let quickchartButtonEl =\n    domScope.querySelector('#df-5ab6429a-2881-41f6-8863-a2a01227bd79 button.colab-df-quickchart');\n  quickchartButtonEl.style.display =\n    google.colab.kernel.accessAllowed ? 'block' : 'none';\n}\n\n        displayQuickchartButton(parentElement);\n      }\n\n      appendQuickchartButton(table);\n    "
          },
          "metadata": {},
          "execution_count": 14
        }
      ]
    },
    {
      "cell_type": "code",
      "source": [
        "# Desabilita formatação tabular\n",
        "data_table.disable_dataframe_formatter()"
      ],
      "metadata": {
        "id": "IBHC_acRwaXK"
      },
      "execution_count": 15,
      "outputs": []
    },
    {
      "cell_type": "code",
      "source": [
        "# Renomeando coluna\n",
        "blobDf.columns = ['path']\n",
        "\n",
        "# Lista com resultados\n",
        "blobPath = blobDf['path'].tolist()"
      ],
      "metadata": {
        "id": "OTaJr_J3wiv5"
      },
      "execution_count": 16,
      "outputs": []
    },
    {
      "cell_type": "markdown",
      "source": [
        "#### Seleção de dados"
      ],
      "metadata": {
        "id": "gOMpz0e3wbFe"
      }
    },
    {
      "cell_type": "code",
      "source": [
        "# Seleção por index conforme caminho da tabela acima\n",
        "index = 9\n",
        "\n",
        "# Seleção do gsutil do arquivo\n",
        "path = f'gs://{bucket_name}/{blobPath[index]}'\n",
        "\n",
        "archive= blobPath[index][len(blobPath[0]):]\n",
        "\n",
        "print(f'>>> arquivo : {archive}\\n>>> gsutil: {path}')"
      ],
      "metadata": {
        "id": "_f15se_jLs3O",
        "outputId": "439202d2-3ffc-4a0c-dd53-13244da8c0a2",
        "colab": {
          "base_uri": "https://localhost:8080/"
        }
      },
      "execution_count": 18,
      "outputs": [
        {
          "output_type": "stream",
          "name": "stdout",
          "text": [
            ">>> arquivo : tratado_geracao_distribuida.csv\n",
            ">>> gsutil: gs://projeto-final-ad2-e8/dados/tratados/tratado_geracao_distribuida.csv\n"
          ]
        }
      ]
    },
    {
      "cell_type": "code",
      "source": [
        "# Configuração do blob\n",
        "blob = bucket.blob(blobPath[index])\n",
        "\n",
        "# Download do arquivo\n",
        "blob.download_to_filename('/content/' + archive)"
      ],
      "metadata": {
        "id": "Xqnn-fEMwpp7"
      },
      "execution_count": 19,
      "outputs": []
    },
    {
      "cell_type": "code",
      "source": [
        "downloadFile = '/content/tratado_geracao_distribuida.csv'"
      ],
      "metadata": {
        "id": "CMmsw-xkwtWZ"
      },
      "execution_count": 20,
      "outputs": []
    },
    {
      "cell_type": "markdown",
      "source": [
        "### Funções"
      ],
      "metadata": {
        "id": "xM0iv87CENuK"
      }
    },
    {
      "cell_type": "markdown",
      "source": [
        "#### Extração de Schema"
      ],
      "metadata": {
        "id": "aRNqz7DRxOhl"
      }
    },
    {
      "cell_type": "code",
      "source": [
        "# função de definição do Schema\n",
        "def docSchema(nome_dataset, dataframe, formato):\n",
        "  '''Após a criação do schema e preenchimento das informações em um editor\n",
        "  de texto, passar o conteúdo para validar no site: https://www.yamllint.com/'''\n",
        "# modelo de impressão dos dados\n",
        "  print(f\"\"\"\n",
        "nome: {nome_dataset}\n",
        "descricao:\n",
        "origem:\n",
        "tratamento: squadOito\n",
        "armazenamento: GCS\n",
        "acesso: privado\n",
        "formato: {formato}\n",
        "schema:\"\"\")\n",
        "# laço de repetição para todas as colunas do dataframe\n",
        "  for columns in dataframe.dtypes:\n",
        "    print(f\"\"\" - coluna: {columns[0]}\n",
        "   descricao:\n",
        "   tipo: {columns[1]}\"\"\")"
      ],
      "metadata": {
        "id": "o3bq9DJiBPX4"
      },
      "execution_count": 21,
      "outputs": []
    },
    {
      "cell_type": "markdown",
      "source": [
        "## Documentação"
      ],
      "metadata": {
        "id": "wgXTwxQXBMjK"
      }
    },
    {
      "cell_type": "markdown",
      "source": [
        "### Leitura do dataframe"
      ],
      "metadata": {
        "id": "1RUCtvRBEXmM"
      }
    },
    {
      "cell_type": "code",
      "source": [
        "df = spark.read.csv(downloadFile, header=True, inferSchema=True)"
      ],
      "metadata": {
        "id": "NZqEm8rfEXEm"
      },
      "execution_count": 22,
      "outputs": []
    },
    {
      "cell_type": "markdown",
      "source": [
        "### Chamando função"
      ],
      "metadata": {
        "id": "wGdk4ByKEttU"
      }
    },
    {
      "cell_type": "code",
      "source": [
        "docSchema('geracao_distribuida', df, 'csv')"
      ],
      "metadata": {
        "colab": {
          "base_uri": "https://localhost:8080/"
        },
        "id": "zINMo5KZEsCQ",
        "outputId": "2d905a6b-082c-4e6d-9737-8e2ca1a02078"
      },
      "execution_count": 23,
      "outputs": [
        {
          "output_type": "stream",
          "name": "stdout",
          "text": [
            "\n",
            "nome: geracao_distribuida\n",
            "descricao:\n",
            "origem:\n",
            "tratamento: squadOito\n",
            "armazenamento: GCS\n",
            "acesso: privado\n",
            "formato: csv\n",
            "schema:\n",
            " - coluna: dataPesquisa\n",
            "   descricao:\n",
            "   tipo: string\n",
            " - coluna: periodoPesquisa\n",
            "   descricao:\n",
            "   tipo: string\n",
            " - coluna: idDistribuidora\n",
            "   descricao:\n",
            "   tipo: double\n",
            " - coluna: agenteAbreviado\n",
            "   descricao:\n",
            "   tipo: string\n",
            " - coluna: agenteNome\n",
            "   descricao:\n",
            "   tipo: string\n",
            " - coluna: classeConsumo\n",
            "   descricao:\n",
            "   tipo: int\n",
            " - coluna: nomeClasseConsumo\n",
            "   descricao:\n",
            "   tipo: string\n",
            " - coluna: subgrupoTarifa\n",
            "   descricao:\n",
            "   tipo: int\n",
            " - coluna: nomeSubgrupoTarifa\n",
            "   descricao:\n",
            "   tipo: string\n",
            " - coluna: ufIbge\n",
            "   descricao:\n",
            "   tipo: int\n",
            " - coluna: uf\n",
            "   descricao:\n",
            "   tipo: string\n",
            " - coluna: regiaoIbge\n",
            "   descricao:\n",
            "   tipo: int\n",
            " - coluna: regiaoNome\n",
            "   descricao:\n",
            "   tipo: string\n",
            " - coluna: municipioIbge\n",
            "   descricao:\n",
            "   tipo: int\n",
            " - coluna: municipio\n",
            "   descricao:\n",
            "   tipo: string\n",
            " - coluna: CEP\n",
            "   descricao:\n",
            "   tipo: string\n",
            " - coluna: tipoConsumidor\n",
            "   descricao:\n",
            "   tipo: string\n",
            " - coluna: idConsumidor\n",
            "   descricao:\n",
            "   tipo: string\n",
            " - coluna: nomeTitularEmpreendimento\n",
            "   descricao:\n",
            "   tipo: string\n",
            " - coluna: idEmpreendimento\n",
            "   descricao:\n",
            "   tipo: string\n",
            " - coluna: cadastroEmpreendimento\n",
            "   descricao:\n",
            "   tipo: string\n",
            " - coluna: tipoEmpreendimento\n",
            "   descricao:\n",
            "   tipo: string\n",
            " - coluna: tipoHabilitado\n",
            "   descricao:\n",
            "   tipo: string\n",
            " - coluna: creditoReceber\n",
            "   descricao:\n",
            "   tipo: int\n",
            " - coluna: tipoGeracao\n",
            "   descricao:\n",
            "   tipo: string\n",
            " - coluna: fonteGeracao\n",
            "   descricao:\n",
            "   tipo: string\n",
            " - coluna: porte\n",
            "   descricao:\n",
            "   tipo: string\n",
            " - coluna: potenciaInstalada(KW)\n",
            "   descricao:\n",
            "   tipo: int\n",
            " - coluna: anoCadastral\n",
            "   descricao:\n",
            "   tipo: int\n"
          ]
        }
      ]
    },
    {
      "cell_type": "markdown",
      "source": [
        "# Encerramento"
      ],
      "metadata": {
        "id": "SeQf2iYzxIkz"
      }
    },
    {
      "cell_type": "code",
      "source": [
        "# encerrando o SparkSession\n",
        "spark.stop()"
      ],
      "metadata": {
        "id": "yqrIQkK7xHs4"
      },
      "execution_count": null,
      "outputs": []
    }
  ]
}
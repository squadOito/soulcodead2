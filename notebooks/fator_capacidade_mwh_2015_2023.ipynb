{
  "nbformat": 4,
  "nbformat_minor": 0,
  "metadata": {
    "colab": {
      "provenance": [],
      "include_colab_link": true
    },
    "kernelspec": {
      "name": "python3",
      "display_name": "Python 3"
    },
    "language_info": {
      "name": "python"
    }
  },
  "cells": [
    {
      "cell_type": "markdown",
      "metadata": {
        "id": "view-in-github",
        "colab_type": "text"
      },
      "source": [
        "<a href=\"https://colab.research.google.com/github/squadOito/soulcodead2/blob/wesley%2Fnotebook/notebooks/fator_capacidade_mwh_2015_2023.ipynb\" target=\"_parent\"><img src=\"https://colab.research.google.com/assets/colab-badge.svg\" alt=\"Open In Colab\"/></a>"
      ]
    },
    {
      "cell_type": "markdown",
      "source": [
        "## **Projeto Final**\n",
        "Escola: SoulCode Academy\n",
        "\n",
        "Curso: Bootcamp Analista de Dados - Martech - AD2\n",
        "\n",
        "**Alunos: Adriano Kim, José Aurelio, Marcos Paulo, Paulo Vitorino e Renato Costa e Wesley Luiz**\n",
        "\n",
        "Professores: Douglas Ribeiro, Franciane Rodrigues e Jonathas Carneiro"
      ],
      "metadata": {
        "id": "e6xr26o5ii1L"
      }
    },
    {
      "cell_type": "markdown",
      "source": [
        "#**Perguntas de negócio**:\n",
        "\n",
        "1)\n",
        "\n",
        "---\n",
        "\n"
      ],
      "metadata": {
        "id": "BYEQz24KPKYi"
      }
    },
    {
      "cell_type": "markdown",
      "source": [
        "# Base de Dados Informações gerais\n",
        "\n",
        "<br>O Operador Nacional do Sistema Elétrico (ONS) é o órgão responsável pela coordenação e controle da operação das instalações de geração e transmissão de energia elétrica no Sistema Interligado Nacional (SIN) e pelo planejamento da operação dos sistemas isolados do país, sob a fiscalização e regulação da Agência Nacional de Energia Elétrica (Aneel).\n",
        "\n",
        "Fator de capacidade de usinas e conjuntos de usinas eólicos e solares despachados pelo ONS em base horária. O fator de capacidade é obtido pela relação entre a geração e a capacidade instalada das usinas.\n",
        "\n",
        "Os dados presentes são dos anos de 01/01/2015 a 01/08/2023\n",
        "\n",
        "********* REVISAR Obs.: descrever o PORQUE nao alteramos tanto o dicionario!!!\n",
        "\n",
        "\n",
        "<br> Fontes:\n",
        "\n",
        "https://dados.ons.org.br/dataset/fator-capacidade-2\n",
        "\n",
        "https://www.ons.org.br/paginas/sobre-o-ons/o-que-e-ons\n"
      ],
      "metadata": {
        "id": "ELp0xHUwTO0T"
      }
    },
    {
      "cell_type": "markdown",
      "source": [
        "## **Dicionário de dados**\n",
        "\n",
        "Obs.: descrever o PORQUE nao alteramos tanto o dicionario!!!"
      ],
      "metadata": {
        "id": "-KiI5to9Uj6i"
      }
    },
    {
      "cell_type": "markdown",
      "source": [
        "* id_subsistema - Identificador do subsistema\n",
        "* nom_subsistema - Nome do subsistema\n",
        "* id_estado - Sigla do Estado\n",
        "* nom_estado - Nome do Estado\n",
        "* nom_pontoconexao - Nome do ponto de conexão da\n",
        "usina/conjunto\n",
        "* nom_localizacao - Localização da usina/conjunto;\n",
        "O conteúdo está disponível apenas\n",
        "para Usinas da região Nordeste\n",
        "* val_latitudesecoletora  - Latitude da usina/conjunto\n",
        "* val_longitudesecoletora - Longitude da usina/conjunto\n",
        "* val_latitudepontoconexao - Latitude do Ponto de Conexão\n",
        "* val_longitudepontoconexao - Longitude do Ponto de Conexão\n",
        "* nom_modalidadeoperacao - Modalidade de operação\n",
        "* nom_tipousina - Tipo da usina\n",
        "* nom_usina_conjunto - Nome da usina/conjunto\n",
        "* din_instante  - Data e hora\n",
        "* id_ons - Identificador da usina ou conjunto no\n",
        "ONS\n",
        "* ceg - Código Único do Empreendimento de\n",
        "Geração (CEG), estabelecido pela\n",
        "ANEEL\n",
        "* val_geracaoprogramada - Geração Programada, em MWmed(relação entre a eletricidade gerada em MWh e o tempo de funcionamento das instalações).\n",
        "* val_geracaoverificada - Geração Verificada, em MWmed(relação entre a eletricidade gerada em MWh e o tempo de funcionamento das instalações).\n",
        "* val_capacidadeinstalada - Capacidade instalada, em MW(MegaWatts)\n",
        "* val_fatorcapacidade - Fator de capacidade, obtida pela\n",
        "relação entre a geração e a capacidade\n",
        "instalada\n",
        "\n",
        "\n",
        "> fonte:\n",
        "*  https://dados.ons.org.br/dataset/fator-capacidade-2/resource/142f9c3b-4feb-492e-a0b4-bce97f059fca"
      ],
      "metadata": {
        "id": "SYdPRuwh2PEe"
      }
    },
    {
      "cell_type": "markdown",
      "source": [
        "# Extração\n",
        "A primeira etapa da ETL é a extração dos dados de sua fonte original. Dependendo do tipo de dados e da fonte, você pode precisar de diferentes ferramentas e técnicas para extrair os dados."
      ],
      "metadata": {
        "id": "0dZJqZvm1DES"
      }
    },
    {
      "cell_type": "markdown",
      "source": [
        "## Instalações de Bibliotecas\n",
        "Instalações e importações das bibliotecas necessárias para o processo de ETL."
      ],
      "metadata": {
        "id": "L7abbfpEBjvV"
      }
    },
    {
      "cell_type": "code",
      "execution_count": null,
      "metadata": {
        "id": "cGTV4K2w0xhZ"
      },
      "outputs": [],
      "source": [
        "!pip install gcsfs"
      ]
    },
    {
      "cell_type": "code",
      "source": [
        "!pip install pandera"
      ],
      "metadata": {
        "id": "jnnF93Nv9L64"
      },
      "execution_count": null,
      "outputs": []
    },
    {
      "cell_type": "code",
      "source": [
        "# Importando Bibliotecas pré instaladas\n",
        "import os\n",
        "import pandas as pd\n",
        "import numpy as np\n",
        "import pandera as pa\n",
        "from google.cloud import storage\n",
        "from google.colab import drive"
      ],
      "metadata": {
        "id": "9PyA1knO9Wau"
      },
      "execution_count": null,
      "outputs": []
    },
    {
      "cell_type": "code",
      "source": [
        "# Ignorando alguns alertas desnecessários\n",
        "import warnings\n",
        "warnings.filterwarnings(\"ignore\")"
      ],
      "metadata": {
        "id": "um2OUpf69mnW"
      },
      "execution_count": null,
      "outputs": []
    },
    {
      "cell_type": "code",
      "source": [
        "# Configuração da quantidade de colunas para aparecer em um DataFrame\n",
        "pd.set_option('display.max_columns',100)"
      ],
      "metadata": {
        "id": "AeslQXYjNiEy"
      },
      "execution_count": null,
      "outputs": []
    },
    {
      "cell_type": "code",
      "source": [
        "# Conexão com a conta do Google Cloud\n",
        "serviceAccount = '/content/projeto-final-ad2-e8-ae566c3a2c2b.json'\n",
        "os.environ['GOOGLE_APPLICATION_CREDENTIALS'] = serviceAccount"
      ],
      "metadata": {
        "id": "CyymFDdQ2akm"
      },
      "execution_count": null,
      "outputs": []
    },
    {
      "cell_type": "code",
      "source": [
        "# Conexão com a bucket do Google Cloud\n",
        "\n",
        "client = storage.Client()\n",
        "bucket = client.get_bucket('projeto-final-ad2-e8')\n",
        "bucket.blob('FATOR_CAPACIDADE_2015a2023_bruto.csv')\n",
        "path = 'gs://projeto-final-ad2-e8/dados/brutos/csv/FATOR_CAPACIDADE_2015a2023_bruto.csv'\n"
      ],
      "metadata": {
        "id": "TV-rH7EWbVpm"
      },
      "execution_count": null,
      "outputs": []
    },
    {
      "cell_type": "code",
      "source": [
        "# Leitura e configuração dos arquivos extraidos\n",
        "df_fator_cap = pd.read_csv(path,\n",
        "                 sep=';',\n",
        "                 encoding='UTF-8')"
      ],
      "metadata": {
        "id": "5RA70GsGesUH"
      },
      "execution_count": null,
      "outputs": []
    },
    {
      "cell_type": "markdown",
      "source": [
        "## Pré Análise"
      ],
      "metadata": {
        "id": "V1UNCIESAaZN"
      }
    },
    {
      "cell_type": "code",
      "source": [
        "# Visualização geral\n",
        "df_fator_cap"
      ],
      "metadata": {
        "id": "ji1Xb8ccfuyt"
      },
      "execution_count": null,
      "outputs": []
    },
    {
      "cell_type": "code",
      "source": [
        "df_fator_cap_backup.tipo_usina"
      ],
      "metadata": {
        "id": "-1TsAsjJ2O-i"
      },
      "execution_count": null,
      "outputs": []
    },
    {
      "cell_type": "code",
      "source": [
        "# Visualização de forma aleatoria\n",
        "df_fator_cap.sample(3)"
      ],
      "metadata": {
        "id": "7VOwplWAj1qP"
      },
      "execution_count": null,
      "outputs": []
    },
    {
      "cell_type": "code",
      "source": [
        "# Tamanho total de (linhas , colunas)\n",
        "df_fator_cap.shape"
      ],
      "metadata": {
        "id": "Vk8p8Nd-kMWP"
      },
      "execution_count": null,
      "outputs": []
    },
    {
      "cell_type": "code",
      "source": [
        "# Todos os tipos de dados presentes\n",
        "df_fator_cap.dtypes"
      ],
      "metadata": {
        "id": "fsZ6_xn6mGo3"
      },
      "execution_count": null,
      "outputs": []
    },
    {
      "cell_type": "code",
      "source": [
        "# Contagem de observações para cada coluna\n",
        "df_fator_cap.count()"
      ],
      "metadata": {
        "id": "-mLulv3imH94"
      },
      "execution_count": null,
      "outputs": []
    },
    {
      "cell_type": "code",
      "source": [
        "# Informações detalhadas\n",
        "df_fator_cap.info()"
      ],
      "metadata": {
        "id": "m6SgfErBpnz3"
      },
      "execution_count": null,
      "outputs": []
    },
    {
      "cell_type": "code",
      "source": [
        "# Fazendo um relatório para mostrar os valores únicos de cada atributo.\n",
        "# O for vai garantir que a atividade seja feita automaticamentepara todos os atributos\n",
        "\n",
        "for coluna in df_fator_cap:\n",
        "    valor = (df_fator_cap[coluna].unique())\n",
        "    print(\"-\"*70)\n",
        "    msg = f\"Valores únicos para o atributo {coluna}:\"\n",
        "    print(f\"{msg:^70}\")\n",
        "    print(\"-\"*70)\n",
        "    print(f\"\\n{valor}\\n\")\n",
        "    print(\"-\"*70)\n"
      ],
      "metadata": {
        "id": "KcNCjl87B9rk"
      },
      "execution_count": null,
      "outputs": []
    },
    {
      "cell_type": "markdown",
      "source": [
        "# Transformação\n",
        "Aqui os dados extraídos precisam ser transformados em um formato adequado para análise, e para isso deve seguir alguns passos, que podem precisar serem repetidos ao longo do processo de análise."
      ],
      "metadata": {
        "id": "VbLM1jZ51glR"
      }
    },
    {
      "cell_type": "markdown",
      "source": [
        "## Limpeza de Dados\n",
        "Remover dados duplicados, corrigir erros de digitação, tratar dados inconsistentes etc."
      ],
      "metadata": {
        "id": "2OIPr02e1w5B"
      }
    },
    {
      "cell_type": "code",
      "source": [
        "# Verificar se há valores duplicados\n",
        "df_fator_cap.duplicated()"
      ],
      "metadata": {
        "id": "Bbj-7zCn2Fee"
      },
      "execution_count": null,
      "outputs": []
    },
    {
      "cell_type": "code",
      "source": [
        "# Verificar se há valores nulos/ausentes\n",
        "df_fator_cap.isnull().sum()"
      ],
      "metadata": {
        "id": "ByCYsxjVrNy4"
      },
      "execution_count": null,
      "outputs": []
    },
    {
      "cell_type": "code",
      "source": [
        "# Descartando colunas\n",
        "# df.drop(['coluna1',], axis=1, inplace=True)"
      ],
      "metadata": {
        "id": "pc-JlvQ098n5"
      },
      "execution_count": null,
      "outputs": []
    },
    {
      "cell_type": "code",
      "source": [
        "# Calcular a porcentagem de valores nulos em cada coluna\n",
        "porcentagem_nulos = (df_fator_cap.isnull().sum() / len(df_fator_cap)) * 100\n",
        "\n",
        "# Exibir a porcentagem de valores nulos em cada coluna\n",
        "print(round(porcentagem_nulos,2))"
      ],
      "metadata": {
        "id": "tMLuRxglSsnm"
      },
      "execution_count": null,
      "outputs": []
    },
    {
      "cell_type": "code",
      "source": [
        "df_fator_cap_backup = df_fator_cap.copy()"
      ],
      "metadata": {
        "id": "1aXYIUbW1gT0"
      },
      "execution_count": null,
      "outputs": []
    },
    {
      "cell_type": "markdown",
      "source": [
        "## Normalização de Dados\n",
        "Colocar os dados em um formato padronizado para facilitar a análise."
      ],
      "metadata": {
        "id": "FG2L2jSi2Alp"
      }
    },
    {
      "cell_type": "markdown",
      "source": [
        "### Tipagem"
      ],
      "metadata": {
        "id": "wvAVi48v-O2s"
      }
    },
    {
      "cell_type": "code",
      "source": [
        "# criando um dataset para validar a tipagem\n",
        "df_data_alterada = df_fator_cap_backup.copy()"
      ],
      "metadata": {
        "id": "KCumKqZWwiQB"
      },
      "execution_count": null,
      "outputs": []
    },
    {
      "cell_type": "code",
      "source": [
        "# Convertendo para data e hora, preservando as horas\n",
        "df_data_alterada['din_instante'] = pd.to_datetime(df_data_alterada['din_instante'], exact=False)"
      ],
      "metadata": {
        "id": "Z8j_KGtf05qN"
      },
      "execution_count": null,
      "outputs": []
    },
    {
      "cell_type": "code",
      "source": [
        "# Verificando se foi efetivado a alteração\n",
        "df_data_alterada.info()"
      ],
      "metadata": {
        "id": "w9rl6m39wc8a"
      },
      "execution_count": null,
      "outputs": []
    },
    {
      "cell_type": "code",
      "source": [
        "# Garantindo que a tipagem não modificou a informação do registro\n",
        "df_fator_cap_backup.din_instante[10000]"
      ],
      "metadata": {
        "id": "G8OGHIFEwyqh"
      },
      "execution_count": null,
      "outputs": []
    },
    {
      "cell_type": "code",
      "source": [
        "# Garantindo que a tipagem não modificou a informação do registro\n",
        "df_data_alterada.din_instante[10000]"
      ],
      "metadata": {
        "id": "3054EpmX6rG1"
      },
      "execution_count": null,
      "outputs": []
    },
    {
      "cell_type": "code",
      "source": [
        "# Convertendo para data e hora, preservando as horas. No dataframe de backup\n",
        "df_fator_cap_backup['din_instante'] = pd.to_datetime(df_fator_cap_backup['din_instante'], exact=False)"
      ],
      "metadata": {
        "id": "WJbnWHy8AYiP"
      },
      "execution_count": null,
      "outputs": []
    },
    {
      "cell_type": "code",
      "source": [
        "# Verificando se foi efetivado a alteração\n",
        "df_fator_cap_backup.dtypes"
      ],
      "metadata": {
        "id": "4mFtQmFMgCP3"
      },
      "execution_count": null,
      "outputs": []
    },
    {
      "cell_type": "code",
      "source": [
        "# Realizando a tipagem das variaveis\n",
        "# df.coluna1 = df.coluna1.astype(int)"
      ],
      "metadata": {
        "id": "t0pQvuXU2I0x"
      },
      "execution_count": null,
      "outputs": []
    },
    {
      "cell_type": "markdown",
      "source": [
        "## Tradução"
      ],
      "metadata": {
        "id": "PlcatBQq-QkD"
      }
    },
    {
      "cell_type": "code",
      "source": [
        "# Renomeando/Traduzindo colunas\n",
        "# df.rename(columns={'coluna1':'traducao',}, inplace=True)\n",
        "df_fator_cap_backup.rename(columns={'din_instante':'data'}, inplace=True)"
      ],
      "metadata": {
        "id": "RnynpUhG1KZd"
      },
      "execution_count": null,
      "outputs": []
    },
    {
      "cell_type": "code",
      "source": [
        "# Examinando alteração\n",
        "df_fator_cap_backup.dtypes"
      ],
      "metadata": {
        "id": "YSCe0djotK4u"
      },
      "execution_count": null,
      "outputs": []
    },
    {
      "cell_type": "code",
      "source": [
        "# Examinando se os registros foram alterados\n",
        "# pd.unique(df.traducao)"
      ],
      "metadata": {
        "id": "cU-SFkb14MWN"
      },
      "execution_count": null,
      "outputs": []
    },
    {
      "cell_type": "markdown",
      "source": [
        "## **Qualidade e integridade dos dados**"
      ],
      "metadata": {
        "id": "j6krOtKKvkR-"
      }
    },
    {
      "cell_type": "markdown",
      "source": [
        "### **Validação da estrutura dos dados (schema)**"
      ],
      "metadata": {
        "id": "S03P8PdZwETm"
      }
    },
    {
      "cell_type": "code",
      "source": [
        "# Verifica se há qualquer valor nulo ou nao numerico(NaN)\n",
        "df_fator_cap_backup.isna().any()"
      ],
      "metadata": {
        "colab": {
          "base_uri": "https://localhost:8080/"
        },
        "id": "f3lvrPs9bujy",
        "outputId": "c61afddb-26a9-41c2-c267-9223e91da6a7"
      },
      "execution_count": null,
      "outputs": [
        {
          "output_type": "execute_result",
          "data": {
            "text/plain": [
              "id_subsistema                False\n",
              "nom_subsistema               False\n",
              "id_estado                    False\n",
              "nom_estado                   False\n",
              "nom_pontoconexao              True\n",
              "nom_localizacao               True\n",
              "val_latitudesecoletora        True\n",
              "val_longitudesecoletora       True\n",
              "val_latitudepontoconexao      True\n",
              "val_longitudepontoconexao     True\n",
              "nom_modalidadeoperacao       False\n",
              "nom_tipousina                False\n",
              "nom_usina_conjunto           False\n",
              "id_ons                       False\n",
              "ceg                          False\n",
              "data                         False\n",
              "val_geracaoprogramada         True\n",
              "val_geracaoverificada        False\n",
              "val_capacidadeinstalada       True\n",
              "val_fatorcapacidade          False\n",
              "dtype: bool"
            ]
          },
          "metadata": {},
          "execution_count": 22
        }
      ]
    },
    {
      "cell_type": "code",
      "source": [
        "# Lista das colunas a serem preenchidas\n",
        "colunas_preenchimento = [\n",
        "    'nom_pontoconexao',\n",
        "    'nom_localizacao',\n",
        "    'val_latitudesecoletora',\n",
        "    'val_longitudesecoletora',\n",
        "    'val_latitudepontoconexao',\n",
        "    'val_longitudepontoconexao',\n",
        "    'val_geracaoprogramada',\n",
        "    'val_capacidadeinstalada'\n",
        "]\n",
        "\n",
        "# Loop para preenchimento de colunas com 'NA' ou 0\n",
        "for coluna in colunas_preenchimento:\n",
        "    if 'val_' in coluna:\n",
        "        valor_preenchimento = 0\n",
        "    else:\n",
        "        valor_preenchimento = 'NA'\n",
        "    df_fator_cap_backup[coluna].fillna(valor_preenchimento, inplace=True)"
      ],
      "metadata": {
        "id": "m28iL1Wx4rC4"
      },
      "execution_count": null,
      "outputs": []
    },
    {
      "cell_type": "code",
      "source": [
        "# Interpola os valores na coluna e arredonda para duas casas decimais\n",
        "# df_fator_cap_backup.val_capacidadeinstalada = df_fator_cap_backup.val_capacidadeinstalada.interpolate().round(2)"
      ],
      "metadata": {
        "id": "CvSIyBuX3zhN"
      },
      "execution_count": null,
      "outputs": []
    },
    {
      "cell_type": "code",
      "source": [
        "df_fator_cap_backup.dtypes"
      ],
      "metadata": {
        "id": "7uef8qITLMMG"
      },
      "execution_count": null,
      "outputs": []
    },
    {
      "cell_type": "code",
      "source": [
        "df_fator_cap_backup.columns"
      ],
      "metadata": {
        "id": "s8Nd6NKvLGPr"
      },
      "execution_count": null,
      "outputs": []
    },
    {
      "cell_type": "code",
      "source": [
        "# Definindo o esquema de validação e o examinando\n",
        "schema = pa.DataFrameSchema({\n",
        "    'id_subsistema': pa.Column(pa.String),\n",
        "    'nom_subsistema': pa.Column(pa.String),\n",
        "    'id_estado': pa.Column(pa.String),\n",
        "    'nom_estado': pa.Column(pa.String),\n",
        "    'nom_pontoconexao': pa.Column(pa.String),\n",
        "    'nom_localizacao': pa.Column(pa.String),\n",
        "    'val_latitudesecoletora': pa.Column(pa.Float),\n",
        "    'val_longitudesecoletora': pa.Column(pa.Float),\n",
        "    'val_latitudepontoconexao': pa.Column(pa.Float),\n",
        "    'val_longitudepontoconexao': pa.Column(pa.Float),\n",
        "    'nom_modalidadeoperacao': pa.Column(pa.String),\n",
        "    'nom_tipousina': pa.Column(pa.String),\n",
        "    'nom_usina_conjunto': pa.Column(pa.String),\n",
        "    'id_ons': pa.Column(pa.String),\n",
        "    'ceg': pa.Column(pa.String),\n",
        "    'data': pa.Column(pa.DateTime),\n",
        "    'val_geracaoprogramada': pa.Column(pa.Float),\n",
        "    'val_geracaoverificada': pa.Column(pa.Float),\n",
        "    'val_capacidadeinstalada': pa.Column(pa.Float),\n",
        "    'val_fatorcapacidade': pa.Column(pa.Float)\n",
        "})\n",
        "\n",
        "schema.validate(df_fator_cap_backup)"
      ],
      "metadata": {
        "id": "pSPVby2swCzm"
      },
      "execution_count": null,
      "outputs": []
    },
    {
      "cell_type": "code",
      "source": [
        "df_fator_cap_backup.count()"
      ],
      "metadata": {
        "id": "E6AuHuOXJ9tV",
        "colab": {
          "base_uri": "https://localhost:8080/"
        },
        "outputId": "074be56d-7233-4e78-80ab-05272b14dc76"
      },
      "execution_count": null,
      "outputs": [
        {
          "output_type": "execute_result",
          "data": {
            "text/plain": [
              "id_subsistema                8622780\n",
              "nom_subsistema               8622780\n",
              "id_estado                    8622780\n",
              "nom_estado                   8622780\n",
              "nom_pontoconexao             8622780\n",
              "nom_localizacao              8622780\n",
              "val_latitudesecoletora       8622780\n",
              "val_longitudesecoletora      8622780\n",
              "val_latitudepontoconexao     8622780\n",
              "val_longitudepontoconexao    8622780\n",
              "nom_modalidadeoperacao       8622780\n",
              "nom_tipousina                8622780\n",
              "nom_usina_conjunto           8622780\n",
              "id_ons                       8622780\n",
              "ceg                          8622780\n",
              "data                         8622780\n",
              "val_geracaoprogramada        8622780\n",
              "val_geracaoverificada        8622780\n",
              "val_capacidadeinstalada      8622780\n",
              "val_fatorcapacidade          8622780\n",
              "dtype: int64"
            ]
          },
          "metadata": {},
          "execution_count": 22
        }
      ]
    },
    {
      "cell_type": "markdown",
      "source": [
        "## **Colunas Persistidas**\n",
        "\n",
        "ATUALIZAR!!!!!!!!!!!!!!!!!!!!!!!!!!!\n"
      ],
      "metadata": {
        "id": "JqXejczoZybS"
      }
    },
    {
      "cell_type": "markdown",
      "source": [
        "* ATUALIZAR!!!!!!\n"
      ],
      "metadata": {
        "id": "mNOCmwZecd8v"
      }
    },
    {
      "cell_type": "markdown",
      "source": [
        "## Backup - Copia de segurança"
      ],
      "metadata": {
        "id": "59UEX6yQCrqX"
      }
    },
    {
      "cell_type": "code",
      "source": [
        "# Backup para analise\n",
        "df_fator_cap_tratado = df_fator_cap_backup.copy()"
      ],
      "metadata": {
        "id": "kPn9PJEFvtWW"
      },
      "execution_count": null,
      "outputs": []
    },
    {
      "cell_type": "markdown",
      "source": [
        "# Carregamento\n",
        "Depois que os dados são extraídos e transformados adequadamente, eles estarão prontos para as análise, mas antes disso eles precisam ser carregados em um local de armazenamento adequado. Podendo ser um banco de dados SQL ou NoSQL, um sistema de armazenamento em nuvem, e para o caso de disponibilizar o projeto publicamente é ideal que ele seja colocar em uma pasta de datasets, diferenciando o arquivo bruto e o tratado."
      ],
      "metadata": {
        "id": "0hT5rrbf2Xrw"
      }
    },
    {
      "cell_type": "code",
      "source": [
        "# Upando para o Google Cloud\n",
        "\n",
        "# df_fator_cap_tratado.to_csv('gs://projeto-final-ad2-e8/dados/tratados/fator_capacidade_mwh_2015_2023.csv', index=False)\n"
      ],
      "metadata": {
        "id": "ya7oNjhIlxeF"
      },
      "execution_count": null,
      "outputs": []
    },
    {
      "cell_type": "markdown",
      "source": [
        "# Análise exploratória de dados.\n",
        "- Descrição de dados: identificação dos tipos de variáveis, dimensões dos dados, valores extremos e estatísticas descritivas.\n",
        "- Visualização dos dados: criação de gráficos, tabelas e outros tipos de visualização para entender a distribuição e a relação entre as variáveis.\n",
        "- Identificação de padrões: identificação de padrões, tendências, correlações e outras relações entre as variáveis.\n",
        "- Testes estatísticos: aplicação de testes estatísticos para confirmar ou refutar hipóteses sobre os dados."
      ],
      "metadata": {
        "id": "vWZSnA7a323p"
      }
    },
    {
      "cell_type": "markdown",
      "source": [
        "## Instalações de bibliotecas\n",
        "bibliotecas necessárias para a análise de dados que não haviam sido importadas anteriormente."
      ],
      "metadata": {
        "id": "61BpULdxB4eG"
      }
    },
    {
      "cell_type": "code",
      "source": [],
      "metadata": {
        "id": "qdgH_yzGCDQv"
      },
      "execution_count": null,
      "outputs": []
    },
    {
      "cell_type": "markdown",
      "source": [
        "## **Estatisticas**"
      ],
      "metadata": {
        "id": "deA1beF7EVJa"
      }
    },
    {
      "cell_type": "code",
      "source": [
        "# Resumo de estatisticas descritivas\n",
        "df_fator_cap_tratado.describe().round(2)"
      ],
      "metadata": {
        "id": "xt3WC7BzNrvJ"
      },
      "execution_count": null,
      "outputs": []
    },
    {
      "cell_type": "code",
      "source": [
        "# Correlações de todas colunas quantitativas\n",
        "df_fator_cap_tratado.corr()"
      ],
      "metadata": {
        "id": "vIN71lGPNwzz"
      },
      "execution_count": null,
      "outputs": []
    },
    {
      "cell_type": "code",
      "source": [
        "# Distribuição de frequencia\n",
        "def distfreq(dados, classes=None):\n",
        "    # Verifica se o número de classes foi fornecido como parâmetro, caso\n",
        "    # contrário, determina automaticamente. Se o número de dados for menor\n",
        "    # ou igual a 25, define 5 classes, caso contrário, a quantidade de classes\n",
        "    # será a raiz quadrada do número de de dados\n",
        "    if classes is None:\n",
        "        if len(dados) <= 25:\n",
        "            classes = 5\n",
        "        else:\n",
        "            classes = round(len(dados) ** 0.5 + 0.5)\n",
        "    else:\n",
        "        pass\n",
        "\n",
        "    # Ordena os dados em ordem crescente\n",
        "    dados = sorted(dados)\n",
        "    # Calcula a amplitude (diferença entre o maior e o menor valor)\n",
        "    amplitude = max(dados) - min(dados)\n",
        "    # Calcula o intervalo entre as classes\n",
        "    intervalo = amplitude / classes\n",
        "    # Cria uma lista para armazenar os limites dos intervalos\n",
        "    intervalos = [dados[0]]\n",
        "    for i in range(classes):\n",
        "        intervalos.append((intervalos[i] + intervalo))\n",
        "\n",
        "    # Imprime o cabeçalho da tabela\n",
        "    print(\"-\" * 100)\n",
        "    print(f'{\"Valores\":^19}|{\"Frequência\":^19}|{\"Freq. Acumulada\":^19}|'\n",
        "        + f'{\"Frequência %\":^19}|{\"Freq. Acumulada %\":^19}')\n",
        "    print(\"-\" * 100)\n",
        "\n",
        "    a = 0\n",
        "    b = 0\n",
        "\n",
        "    # Laço para calcular as frequências para cada classe\n",
        "    for i in range(classes):\n",
        "        a = 0\n",
        "        teste = f'{intervalos[i]:.2f} ---- {intervalos[i+1]:.2f}'\n",
        "\n",
        "        # Laço para contar quantos valores estão dentro do intervalo atual\n",
        "        for j in range(len(dados)):\n",
        "            if dados[j] < intervalos[i + 1] + 0.000001:\n",
        "                a = a + 1\n",
        "            else:\n",
        "                pass\n",
        "\n",
        "        # Imprime os valores da classe atual e suas frequências\n",
        "        print(f'{teste:^19}|{a - b:^19}|{a:^19}|{((a - b) / len(dados)):^19.2%}|{((a) / len(dados)):^19.2%}')\n",
        "\n",
        "        # Atualiza o valor de b para a próxima iteração\n",
        "        b = a\n",
        "\n",
        "        # Imprime uma linha separadora\n",
        "        print(\"-\" * 100)\n",
        "\n",
        "    # Imprime o final da tabela discriminando o total geral\n",
        "    print(f'{\"Total Geral\":^19}|{a:^19}|{\"\":^19}|{\"100,00%\":^19}|{\"\":^19}')\n",
        "    print(\"-\"*100)\n",
        "    return"
      ],
      "metadata": {
        "id": "WOlYb1l4CbPO"
      },
      "execution_count": null,
      "outputs": []
    },
    {
      "cell_type": "code",
      "source": [
        "# distfreq(df.loc[df.cidade == 'Londres']['preco_total'],154)"
      ],
      "metadata": {
        "id": "qUOgo6LObFbj"
      },
      "execution_count": null,
      "outputs": []
    },
    {
      "cell_type": "markdown",
      "source": [
        "### Filtros e agrupamentos\n",
        "Criar novas variáveis com base nos dados originais para permitir uma análise mais detalhada e avançada."
      ],
      "metadata": {
        "id": "-bEZz8EE2JGS"
      }
    },
    {
      "cell_type": "code",
      "source": [
        "# Filtros, agrupamentos"
      ],
      "metadata": {
        "id": "ZSGN7scp2XZ5"
      },
      "execution_count": null,
      "outputs": []
    },
    {
      "cell_type": "markdown",
      "source": [
        "# Visualização"
      ],
      "metadata": {
        "id": "_IRmFDtibEJ5"
      }
    },
    {
      "cell_type": "code",
      "source": [
        "!pip install matplotlib"
      ],
      "metadata": {
        "id": "G4uqRpaj4fXm"
      },
      "execution_count": null,
      "outputs": []
    },
    {
      "cell_type": "code",
      "source": [
        "import matplotlib.pyplot as plt"
      ],
      "metadata": {
        "id": "rpR_TSoZ4jkO"
      },
      "execution_count": null,
      "outputs": []
    },
    {
      "cell_type": "markdown",
      "source": [
        "# Conclusão\n",
        "Resumo das principais conclusões e insights obtidos a partir da análise exploratória, sugestões para próximos passos da análise ou possíveis ações a serem tomadas."
      ],
      "metadata": {
        "id": "mGQ05qUq6O-Q"
      }
    },
    {
      "cell_type": "code",
      "source": [],
      "metadata": {
        "id": "BtkBYIPIbS0s"
      },
      "execution_count": null,
      "outputs": []
    }
  ]
}
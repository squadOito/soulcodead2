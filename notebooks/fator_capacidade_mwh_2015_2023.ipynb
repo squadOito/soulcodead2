{
  "nbformat": 4,
  "nbformat_minor": 0,
  "metadata": {
    "colab": {
      "provenance": [],
      "include_colab_link": true
    },
    "kernelspec": {
      "name": "python3",
      "display_name": "Python 3"
    },
    "language_info": {
      "name": "python"
    }
  },
  "cells": [
    {
      "cell_type": "markdown",
      "metadata": {
        "id": "view-in-github",
        "colab_type": "text"
      },
      "source": [
        "<a href=\"https://colab.research.google.com/github/squadOito/soulcodead2/blob/wesley%2Fnotebook/notebooks/fator_capacidade_mwh_2015_2023.ipynb\" target=\"_parent\"><img src=\"https://colab.research.google.com/assets/colab-badge.svg\" alt=\"Open In Colab\"/></a>"
      ]
    },
    {
      "cell_type": "markdown",
      "source": [
        "## **Projeto Final**\n",
        "Escola: SoulCode Academy\n",
        "\n",
        "Curso: Bootcamp Analista de Dados - Martech - AD2\n",
        "\n",
        "**Alunos: Adriano Kim, José Aurelio, Marcos Paulo, Paulo Vitorino e Renato Costa e Wesley Luiz**\n",
        "\n",
        "Professores: Douglas Ribeiro, Franciane Rodrigues e Jonathas Carneiro"
      ],
      "metadata": {
        "id": "e6xr26o5ii1L"
      }
    },
    {
      "cell_type": "markdown",
      "source": [
        "#**Perguntas de negócio**:\n",
        "\n",
        "1) Qual o quadro atual de geração de energia elétrica no Brasil (disponibilidade por região)?\n",
        "\n",
        "2) Diante do panorama atual, quais fontes apresentam maiores taxas de crescimento?\n",
        "\n",
        "3) Quais as regiões que apresentam maior potencial de exploração de fontes de energia?\n",
        "\n",
        "---\n",
        "\n"
      ],
      "metadata": {
        "id": "BYEQz24KPKYi"
      }
    },
    {
      "cell_type": "markdown",
      "source": [
        "# Base de Dados Informações gerais\n",
        "\n",
        "<br>O Operador Nacional do Sistema Elétrico (ONS) é o órgão responsável pela coordenação e controle da operação das instalações de geração e transmissão de energia elétrica no Sistema Interligado Nacional (SIN) e pelo planejamento da operação dos sistemas isolados do país, sob a fiscalização e regulação da Agência Nacional de Energia Elétrica (Aneel).\n",
        "\n",
        "Fator de capacidade de usinas e conjuntos de usinas eólicos e solares despachados pelo ONS em base horária. O fator de capacidade é obtido pela relação entre a geração e a capacidade instalada das usinas.\n",
        "\n",
        "Os dados presentes são dos anos de 01/01/2015 a 01/08/2023\n",
        "\n",
        "********* REVISAR Obs.: descrever o PORQUE nao alteramos tanto o dicionario!!!\n",
        "\n",
        "\n",
        "<br> Fontes:\n",
        "\n",
        "https://dados.ons.org.br/dataset/fator-capacidade-2\n",
        "\n",
        "https://www.ons.org.br/paginas/sobre-o-ons/o-que-e-ons\n"
      ],
      "metadata": {
        "id": "ELp0xHUwTO0T"
      }
    },
    {
      "cell_type": "markdown",
      "source": [
        "## **Dicionário de dados**\n",
        "\n",
        "Obs.: descrever o PORQUE nao alteramos tanto o dicionario!!!"
      ],
      "metadata": {
        "id": "-KiI5to9Uj6i"
      }
    },
    {
      "cell_type": "markdown",
      "source": [
        "* id_subsistema - Identificador do subsistema\n",
        "* nom_subsistema - Nome do subsistema\n",
        "* id_estado - Sigla do Estado\n",
        "* nom_estado - Nome do Estado\n",
        "* nom_pontoconexao - Nome do ponto de conexão da\n",
        "usina/conjunto\n",
        "* nom_localizacao - Localização da usina/conjunto;\n",
        "O conteúdo está disponível apenas\n",
        "para Usinas da região Nordeste\n",
        "* val_latitudesecoletora  - Latitude da usina/conjunto\n",
        "* val_longitudesecoletora - Longitude da usina/conjunto\n",
        "* val_latitudepontoconexao - Latitude do Ponto de Conexão\n",
        "* val_longitudepontoconexao - Longitude do Ponto de Conexão\n",
        "* nom_modalidadeoperacao - Modalidade de operação\n",
        "* nom_tipousina - Tipo da usina\n",
        "* nom_usina_conjunto - Nome da usina/conjunto\n",
        "* din_instante  - Data\n",
        "* id_ons - Identificador da usina ou conjunto no\n",
        "ONS\n",
        "* ceg - Código Único do Empreendimento de\n",
        "Geração (CEG), estabelecido pela\n",
        "ANEEL\n",
        "* val_geracaoprogramada - Geração Programada, em MWmed(relação entre a eletricidade gerada em MWh e o tempo de funcionamento das instalações).\n",
        "* val_geracaoverificada - Geração Verificada, em MWmed(relação entre a eletricidade gerada em MWh e o tempo de funcionamento das instalações).\n",
        "* val_capacidadeinstalada - Capacidade instalada, em MW(MegaWatts)\n",
        "* val_fatorcapacidade - Fator de capacidade, obtida pela\n",
        "relação entre a geração e a capacidade\n",
        "instalada\n",
        "\n",
        "\n",
        "> fonte:\n",
        "*  https://dados.ons.org.br/dataset/fator-capacidade-2/resource/142f9c3b-4feb-492e-a0b4-bce97f059fca"
      ],
      "metadata": {
        "id": "SYdPRuwh2PEe"
      }
    },
    {
      "cell_type": "markdown",
      "source": [
        "# Extração\n",
        "A primeira etapa da ETL é a extração dos dados de sua fonte original. Dependendo do tipo de dados e da fonte, você pode precisar de diferentes ferramentas e técnicas para extrair os dados."
      ],
      "metadata": {
        "id": "0dZJqZvm1DES"
      }
    },
    {
      "cell_type": "markdown",
      "source": [
        "## Instalações de Bibliotecas\n",
        "Instalações e importações das bibliotecas necessárias para o processo de ETL."
      ],
      "metadata": {
        "id": "L7abbfpEBjvV"
      }
    },
    {
      "cell_type": "code",
      "execution_count": 1,
      "metadata": {
        "id": "cGTV4K2w0xhZ",
        "colab": {
          "base_uri": "https://localhost:8080/"
        },
        "outputId": "94979362-d2cf-4f86-e036-50a5402872a8"
      },
      "outputs": [
        {
          "output_type": "stream",
          "name": "stdout",
          "text": [
            "Requirement already satisfied: gcsfs in /usr/local/lib/python3.10/dist-packages (2023.6.0)\n",
            "Requirement already satisfied: aiohttp!=4.0.0a0,!=4.0.0a1 in /usr/local/lib/python3.10/dist-packages (from gcsfs) (3.8.5)\n",
            "Requirement already satisfied: decorator>4.1.2 in /usr/local/lib/python3.10/dist-packages (from gcsfs) (4.4.2)\n",
            "Requirement already satisfied: fsspec==2023.6.0 in /usr/local/lib/python3.10/dist-packages (from gcsfs) (2023.6.0)\n",
            "Requirement already satisfied: google-auth>=1.2 in /usr/local/lib/python3.10/dist-packages (from gcsfs) (2.17.3)\n",
            "Requirement already satisfied: google-auth-oauthlib in /usr/local/lib/python3.10/dist-packages (from gcsfs) (1.0.0)\n",
            "Requirement already satisfied: google-cloud-storage in /usr/local/lib/python3.10/dist-packages (from gcsfs) (2.8.0)\n",
            "Requirement already satisfied: requests in /usr/local/lib/python3.10/dist-packages (from gcsfs) (2.27.1)\n",
            "Requirement already satisfied: attrs>=17.3.0 in /usr/local/lib/python3.10/dist-packages (from aiohttp!=4.0.0a0,!=4.0.0a1->gcsfs) (23.1.0)\n",
            "Requirement already satisfied: charset-normalizer<4.0,>=2.0 in /usr/local/lib/python3.10/dist-packages (from aiohttp!=4.0.0a0,!=4.0.0a1->gcsfs) (2.0.12)\n",
            "Requirement already satisfied: multidict<7.0,>=4.5 in /usr/local/lib/python3.10/dist-packages (from aiohttp!=4.0.0a0,!=4.0.0a1->gcsfs) (6.0.4)\n",
            "Requirement already satisfied: async-timeout<5.0,>=4.0.0a3 in /usr/local/lib/python3.10/dist-packages (from aiohttp!=4.0.0a0,!=4.0.0a1->gcsfs) (4.0.2)\n",
            "Requirement already satisfied: yarl<2.0,>=1.0 in /usr/local/lib/python3.10/dist-packages (from aiohttp!=4.0.0a0,!=4.0.0a1->gcsfs) (1.9.2)\n",
            "Requirement already satisfied: frozenlist>=1.1.1 in /usr/local/lib/python3.10/dist-packages (from aiohttp!=4.0.0a0,!=4.0.0a1->gcsfs) (1.4.0)\n",
            "Requirement already satisfied: aiosignal>=1.1.2 in /usr/local/lib/python3.10/dist-packages (from aiohttp!=4.0.0a0,!=4.0.0a1->gcsfs) (1.3.1)\n",
            "Requirement already satisfied: cachetools<6.0,>=2.0.0 in /usr/local/lib/python3.10/dist-packages (from google-auth>=1.2->gcsfs) (5.3.1)\n",
            "Requirement already satisfied: pyasn1-modules>=0.2.1 in /usr/local/lib/python3.10/dist-packages (from google-auth>=1.2->gcsfs) (0.3.0)\n",
            "Requirement already satisfied: six>=1.9.0 in /usr/local/lib/python3.10/dist-packages (from google-auth>=1.2->gcsfs) (1.16.0)\n",
            "Requirement already satisfied: rsa<5,>=3.1.4 in /usr/local/lib/python3.10/dist-packages (from google-auth>=1.2->gcsfs) (4.9)\n",
            "Requirement already satisfied: requests-oauthlib>=0.7.0 in /usr/local/lib/python3.10/dist-packages (from google-auth-oauthlib->gcsfs) (1.3.1)\n",
            "Requirement already satisfied: google-api-core!=2.0.*,!=2.1.*,!=2.2.*,!=2.3.0,<3.0.0dev,>=1.31.5 in /usr/local/lib/python3.10/dist-packages (from google-cloud-storage->gcsfs) (2.11.1)\n",
            "Requirement already satisfied: google-cloud-core<3.0dev,>=2.3.0 in /usr/local/lib/python3.10/dist-packages (from google-cloud-storage->gcsfs) (2.3.3)\n",
            "Requirement already satisfied: google-resumable-media>=2.3.2 in /usr/local/lib/python3.10/dist-packages (from google-cloud-storage->gcsfs) (2.5.0)\n",
            "Requirement already satisfied: urllib3<1.27,>=1.21.1 in /usr/local/lib/python3.10/dist-packages (from requests->gcsfs) (1.26.16)\n",
            "Requirement already satisfied: certifi>=2017.4.17 in /usr/local/lib/python3.10/dist-packages (from requests->gcsfs) (2023.7.22)\n",
            "Requirement already satisfied: idna<4,>=2.5 in /usr/local/lib/python3.10/dist-packages (from requests->gcsfs) (3.4)\n",
            "Requirement already satisfied: googleapis-common-protos<2.0.dev0,>=1.56.2 in /usr/local/lib/python3.10/dist-packages (from google-api-core!=2.0.*,!=2.1.*,!=2.2.*,!=2.3.0,<3.0.0dev,>=1.31.5->google-cloud-storage->gcsfs) (1.59.1)\n",
            "Requirement already satisfied: protobuf!=3.20.0,!=3.20.1,!=4.21.0,!=4.21.1,!=4.21.2,!=4.21.3,!=4.21.4,!=4.21.5,<5.0.0.dev0,>=3.19.5 in /usr/local/lib/python3.10/dist-packages (from google-api-core!=2.0.*,!=2.1.*,!=2.2.*,!=2.3.0,<3.0.0dev,>=1.31.5->google-cloud-storage->gcsfs) (3.20.3)\n",
            "Requirement already satisfied: google-crc32c<2.0dev,>=1.0 in /usr/local/lib/python3.10/dist-packages (from google-resumable-media>=2.3.2->google-cloud-storage->gcsfs) (1.5.0)\n",
            "Requirement already satisfied: pyasn1<0.6.0,>=0.4.6 in /usr/local/lib/python3.10/dist-packages (from pyasn1-modules>=0.2.1->google-auth>=1.2->gcsfs) (0.5.0)\n",
            "Requirement already satisfied: oauthlib>=3.0.0 in /usr/local/lib/python3.10/dist-packages (from requests-oauthlib>=0.7.0->google-auth-oauthlib->gcsfs) (3.2.2)\n"
          ]
        }
      ],
      "source": [
        "!pip install gcsfs"
      ]
    },
    {
      "cell_type": "code",
      "source": [
        "!pip install pandera"
      ],
      "metadata": {
        "id": "jnnF93Nv9L64",
        "colab": {
          "base_uri": "https://localhost:8080/"
        },
        "outputId": "3d78b413-fdf9-4a44-ed90-3fdccda4527f"
      },
      "execution_count": 2,
      "outputs": [
        {
          "output_type": "stream",
          "name": "stdout",
          "text": [
            "Collecting pandera\n",
            "  Downloading pandera-0.16.1-py3-none-any.whl (201 kB)\n",
            "\u001b[?25l     \u001b[90m━━━━━━━━━━━━━━━━━━━━━━━━━━━━━━━━━━━━━━━━\u001b[0m \u001b[32m0.0/201.6 kB\u001b[0m \u001b[31m?\u001b[0m eta \u001b[36m-:--:--\u001b[0m\r\u001b[2K     \u001b[91m━━━━━━━━━━━━━━━━━━\u001b[0m\u001b[90m╺\u001b[0m\u001b[90m━━━━━━━━━━━━━━━━━━━━━\u001b[0m \u001b[32m92.2/201.6 kB\u001b[0m \u001b[31m2.6 MB/s\u001b[0m eta \u001b[36m0:00:01\u001b[0m\r\u001b[2K     \u001b[90m━━━━━━━━━━━━━━━━━━━━━━━━━━━━━━━━━━━━━━━\u001b[0m \u001b[32m201.6/201.6 kB\u001b[0m \u001b[31m3.3 MB/s\u001b[0m eta \u001b[36m0:00:00\u001b[0m\n",
            "\u001b[?25hCollecting multimethod (from pandera)\n",
            "  Downloading multimethod-1.9.1-py3-none-any.whl (10 kB)\n",
            "Requirement already satisfied: numpy>=1.19.0 in /usr/local/lib/python3.10/dist-packages (from pandera) (1.22.4)\n",
            "Requirement already satisfied: packaging>=20.0 in /usr/local/lib/python3.10/dist-packages (from pandera) (23.1)\n",
            "Requirement already satisfied: pandas>=1.2.0 in /usr/local/lib/python3.10/dist-packages (from pandera) (1.5.3)\n",
            "Requirement already satisfied: pydantic<2.0.0 in /usr/local/lib/python3.10/dist-packages (from pandera) (1.10.12)\n",
            "Collecting typeguard>=3.0.2 (from pandera)\n",
            "  Downloading typeguard-4.1.0-py3-none-any.whl (33 kB)\n",
            "Collecting typing-inspect>=0.6.0 (from pandera)\n",
            "  Downloading typing_inspect-0.9.0-py3-none-any.whl (8.8 kB)\n",
            "Requirement already satisfied: wrapt in /usr/local/lib/python3.10/dist-packages (from pandera) (1.14.1)\n",
            "Requirement already satisfied: python-dateutil>=2.8.1 in /usr/local/lib/python3.10/dist-packages (from pandas>=1.2.0->pandera) (2.8.2)\n",
            "Requirement already satisfied: pytz>=2020.1 in /usr/local/lib/python3.10/dist-packages (from pandas>=1.2.0->pandera) (2022.7.1)\n",
            "Requirement already satisfied: typing-extensions>=4.2.0 in /usr/local/lib/python3.10/dist-packages (from pydantic<2.0.0->pandera) (4.7.1)\n",
            "Collecting mypy-extensions>=0.3.0 (from typing-inspect>=0.6.0->pandera)\n",
            "  Downloading mypy_extensions-1.0.0-py3-none-any.whl (4.7 kB)\n",
            "Requirement already satisfied: six>=1.5 in /usr/local/lib/python3.10/dist-packages (from python-dateutil>=2.8.1->pandas>=1.2.0->pandera) (1.16.0)\n",
            "Installing collected packages: typeguard, mypy-extensions, multimethod, typing-inspect, pandera\n",
            "Successfully installed multimethod-1.9.1 mypy-extensions-1.0.0 pandera-0.16.1 typeguard-4.1.0 typing-inspect-0.9.0\n"
          ]
        }
      ]
    },
    {
      "cell_type": "code",
      "source": [
        "# Importando Bibliotecas pré instaladas\n",
        "import os\n",
        "import pandas as pd\n",
        "import numpy as np\n",
        "import pandera as pa\n",
        "from google.cloud import storage\n",
        "from google.colab import drive"
      ],
      "metadata": {
        "id": "9PyA1knO9Wau"
      },
      "execution_count": 3,
      "outputs": []
    },
    {
      "cell_type": "code",
      "source": [
        "# Ignorando alguns alertas desnecessários\n",
        "import warnings\n",
        "warnings.filterwarnings(\"ignore\")"
      ],
      "metadata": {
        "id": "um2OUpf69mnW"
      },
      "execution_count": 4,
      "outputs": []
    },
    {
      "cell_type": "code",
      "source": [
        "# Configuração da quantidade de colunas para aparecer em um DataFrame\n",
        "pd.set_option('display.max_columns',100)"
      ],
      "metadata": {
        "id": "AeslQXYjNiEy"
      },
      "execution_count": 5,
      "outputs": []
    },
    {
      "cell_type": "code",
      "source": [
        "# Conexão com a conta do Google Cloud\n",
        "serviceAccount = '/content/projeto-final-ad2-e8-ae566c3a2c2b.json'\n",
        "os.environ['GOOGLE_APPLICATION_CREDENTIALS'] = serviceAccount"
      ],
      "metadata": {
        "id": "CyymFDdQ2akm"
      },
      "execution_count": 6,
      "outputs": []
    },
    {
      "cell_type": "code",
      "source": [
        "# Conexão com a bucket do Google Cloud\n",
        "\n",
        "client = storage.Client()\n",
        "bucket = client.get_bucket('projeto-final-ad2-e8')\n",
        "bucket.blob('FATOR_CAPACIDADE_2015a2023_bruto.csv')\n",
        "path = 'gs://projeto-final-ad2-e8/dados/brutos/csv/FATOR_CAPACIDADE_2015a2023_bruto.csv'\n"
      ],
      "metadata": {
        "id": "TV-rH7EWbVpm"
      },
      "execution_count": 7,
      "outputs": []
    },
    {
      "cell_type": "code",
      "source": [
        "# Leitura e configuração dos arquivos extraidos\n",
        "df_fator_cap = pd.read_csv(path,\n",
        "                 sep=';',\n",
        "                 encoding='UTF-8')"
      ],
      "metadata": {
        "id": "5RA70GsGesUH"
      },
      "execution_count": 9,
      "outputs": []
    },
    {
      "cell_type": "markdown",
      "source": [
        "## Pré Análise"
      ],
      "metadata": {
        "id": "V1UNCIESAaZN"
      }
    },
    {
      "cell_type": "code",
      "source": [
        "# Visualização geral\n",
        "df_fator_cap"
      ],
      "metadata": {
        "id": "ji1Xb8ccfuyt",
        "colab": {
          "base_uri": "https://localhost:8080/",
          "height": 661
        },
        "outputId": "d980e083-01e9-4ffa-8646-046992769d71"
      },
      "execution_count": 10,
      "outputs": [
        {
          "output_type": "execute_result",
          "data": {
            "text/plain": [
              "        id_subsistema        nom_subsistema id_estado nom_estado  \\\n",
              "0                  NE              Nordeste        BA      BAHIA   \n",
              "1                  NE              Nordeste        BA      BAHIA   \n",
              "2                  NE              Nordeste        BA      BAHIA   \n",
              "3                  NE              Nordeste        BA      BAHIA   \n",
              "4                  NE              Nordeste        BA      BAHIA   \n",
              "...               ...                   ...       ...        ...   \n",
              "8622775            SE  Sudeste/Centro-Oeste        SP  SAO PAULO   \n",
              "8622776            SE  Sudeste/Centro-Oeste        SP  SAO PAULO   \n",
              "8622777            SE  Sudeste/Centro-Oeste        SP  SAO PAULO   \n",
              "8622778            SE  Sudeste/Centro-Oeste        SP  SAO PAULO   \n",
              "8622779            SE  Sudeste/Centro-Oeste        SP  SAO PAULO   \n",
              "\n",
              "                   nom_pontoconexao nom_localizacao  val_latitudesecoletora  \\\n",
              "0            IGAPORA II - 69 kV (A)        Interior              -14.208409   \n",
              "1           IGAPORA II - 230 kV (B)        Interior              -14.102794   \n",
              "2           IGAPORA II - 230 kV (B)        Interior              -14.186292   \n",
              "3            IGAPORA II - 69 kV (A)        Interior              -13.916364   \n",
              "4            IGAPORA II - 69 kV (A)        Interior              -14.172142   \n",
              "...                             ...             ...                     ...   \n",
              "8622775    TRES IRMAOS - 138 kV (A)             NaN              -20.790444   \n",
              "8622776        DRACENA - 138 kV (A)             NaN              -21.450214   \n",
              "8622777       GETULINA - 138 kV (A)             NaN              -21.893809   \n",
              "8622778  AGUA VERMELHA - 138 kV (A)             NaN              -20.195849   \n",
              "8622779    TRES IRMAOS - 138 kV (A)             NaN              -20.620000   \n",
              "\n",
              "         val_longitudesecoletora  val_latitudepontoconexao  \\\n",
              "0                     -42.636807                -14.027222   \n",
              "1                     -42.609369                -14.027222   \n",
              "2                     -42.493356                -14.027222   \n",
              "3                     -42.616201                -14.027222   \n",
              "4                     -42.598414                -14.027222   \n",
              "...                          ...                       ...   \n",
              "8622775               -51.529266                -20.656389   \n",
              "8622776               -51.587776                -21.457222   \n",
              "8622777               -49.863684                -21.855464   \n",
              "8622778               -50.032683                -19.867222   \n",
              "8622779               -51.300000                -20.656389   \n",
              "\n",
              "         val_longitudepontoconexao nom_modalidadeoperacao nom_tipousina  \\\n",
              "0                       -42.629444     Conjunto de Usinas        Eólica   \n",
              "1                       -42.629444     Conjunto de Usinas        Eólica   \n",
              "2                       -42.629444     Conjunto de Usinas        Eólica   \n",
              "3                       -42.629444     Conjunto de Usinas        Eólica   \n",
              "4                       -42.629444     Conjunto de Usinas        Eólica   \n",
              "...                            ...                    ...           ...   \n",
              "8622775                 -51.482778     Conjunto de Usinas         Solar   \n",
              "8622776                 -51.526667     Conjunto de Usinas         Solar   \n",
              "8622777                 -49.838358     Conjunto de Usinas         Solar   \n",
              "8622778                 -50.350000     Conjunto de Usinas         Solar   \n",
              "8622779                 -51.482778     Conjunto de Usinas         Solar   \n",
              "\n",
              "             nom_usina_conjunto      id_ons ceg         din_instante  \\\n",
              "0                Conj. Alvorada   CJU_BAALV   -  2015-01-01 00:00:00   \n",
              "1                  Conj. Araçás   CJU_BAARA   -  2015-01-01 00:00:00   \n",
              "2             Conj. Caetité 123   CJU_BACAE   -  2015-01-01 00:00:00   \n",
              "3        Conj. Curva dos Ventos   CJU_BACVN   -  2015-01-01 00:00:00   \n",
              "4                 Conj. Guirapá   CJU_BAGRP   -  2015-01-01 00:00:00   \n",
              "...                         ...         ...  ..                  ...   \n",
              "8622775          Conj. Castilho  CJU_SPCST3   -  2023-08-01 23:00:00   \n",
              "8622776           Conj. Dracena   CJU_SPUFD   -  2023-08-01 23:00:00   \n",
              "8622777           Conj. Guaimbê  CJU_SPCUFG   -  2023-08-01 23:00:00   \n",
              "8622778      Conj. Pedranópolis   CJU_SPPED   -  2023-08-01 23:00:00   \n",
              "8622779   Conj. Pereira Barreto    CJU_SPPB   -  2023-08-01 23:00:00   \n",
              "\n",
              "         val_geracaoprogramada  val_geracaoverificada  \\\n",
              "0                         35.5              36.092073   \n",
              "1                         29.0              65.187220   \n",
              "2                         23.0              36.777401   \n",
              "3                         11.5              19.176730   \n",
              "4                         27.5              34.876650   \n",
              "...                        ...                    ...   \n",
              "8622775                    0.0               0.137000   \n",
              "8622776                    0.0               0.000000   \n",
              "8622777                    0.0               0.000000   \n",
              "8622778                    0.0               0.000000   \n",
              "8622779                    0.0               0.000000   \n",
              "\n",
              "         val_capacidadeinstalada  val_fatorcapacidade  \n",
              "0                          38.40             0.939898  \n",
              "1                         107.22             0.607976  \n",
              "2                          90.00             0.408638  \n",
              "3                          54.05             0.354796  \n",
              "4                          52.80             0.660543  \n",
              "...                          ...                  ...  \n",
              "8622775                   210.70             0.000650  \n",
              "8622776                    81.00             0.000000  \n",
              "8622777                   150.00             0.000000  \n",
              "8622778                    90.36             0.000000  \n",
              "8622779                   203.52             0.000000  \n",
              "\n",
              "[8622780 rows x 20 columns]"
            ],
            "text/html": [
              "\n",
              "\n",
              "  <div id=\"df-6f1d1847-4d4d-48d0-aaca-473f9a926fba\">\n",
              "    <div class=\"colab-df-container\">\n",
              "      <div>\n",
              "<style scoped>\n",
              "    .dataframe tbody tr th:only-of-type {\n",
              "        vertical-align: middle;\n",
              "    }\n",
              "\n",
              "    .dataframe tbody tr th {\n",
              "        vertical-align: top;\n",
              "    }\n",
              "\n",
              "    .dataframe thead th {\n",
              "        text-align: right;\n",
              "    }\n",
              "</style>\n",
              "<table border=\"1\" class=\"dataframe\">\n",
              "  <thead>\n",
              "    <tr style=\"text-align: right;\">\n",
              "      <th></th>\n",
              "      <th>id_subsistema</th>\n",
              "      <th>nom_subsistema</th>\n",
              "      <th>id_estado</th>\n",
              "      <th>nom_estado</th>\n",
              "      <th>nom_pontoconexao</th>\n",
              "      <th>nom_localizacao</th>\n",
              "      <th>val_latitudesecoletora</th>\n",
              "      <th>val_longitudesecoletora</th>\n",
              "      <th>val_latitudepontoconexao</th>\n",
              "      <th>val_longitudepontoconexao</th>\n",
              "      <th>nom_modalidadeoperacao</th>\n",
              "      <th>nom_tipousina</th>\n",
              "      <th>nom_usina_conjunto</th>\n",
              "      <th>id_ons</th>\n",
              "      <th>ceg</th>\n",
              "      <th>din_instante</th>\n",
              "      <th>val_geracaoprogramada</th>\n",
              "      <th>val_geracaoverificada</th>\n",
              "      <th>val_capacidadeinstalada</th>\n",
              "      <th>val_fatorcapacidade</th>\n",
              "    </tr>\n",
              "  </thead>\n",
              "  <tbody>\n",
              "    <tr>\n",
              "      <th>0</th>\n",
              "      <td>NE</td>\n",
              "      <td>Nordeste</td>\n",
              "      <td>BA</td>\n",
              "      <td>BAHIA</td>\n",
              "      <td>IGAPORA II - 69 kV (A)</td>\n",
              "      <td>Interior</td>\n",
              "      <td>-14.208409</td>\n",
              "      <td>-42.636807</td>\n",
              "      <td>-14.027222</td>\n",
              "      <td>-42.629444</td>\n",
              "      <td>Conjunto de Usinas</td>\n",
              "      <td>Eólica</td>\n",
              "      <td>Conj. Alvorada</td>\n",
              "      <td>CJU_BAALV</td>\n",
              "      <td>-</td>\n",
              "      <td>2015-01-01 00:00:00</td>\n",
              "      <td>35.5</td>\n",
              "      <td>36.092073</td>\n",
              "      <td>38.40</td>\n",
              "      <td>0.939898</td>\n",
              "    </tr>\n",
              "    <tr>\n",
              "      <th>1</th>\n",
              "      <td>NE</td>\n",
              "      <td>Nordeste</td>\n",
              "      <td>BA</td>\n",
              "      <td>BAHIA</td>\n",
              "      <td>IGAPORA II - 230 kV (B)</td>\n",
              "      <td>Interior</td>\n",
              "      <td>-14.102794</td>\n",
              "      <td>-42.609369</td>\n",
              "      <td>-14.027222</td>\n",
              "      <td>-42.629444</td>\n",
              "      <td>Conjunto de Usinas</td>\n",
              "      <td>Eólica</td>\n",
              "      <td>Conj. Araçás</td>\n",
              "      <td>CJU_BAARA</td>\n",
              "      <td>-</td>\n",
              "      <td>2015-01-01 00:00:00</td>\n",
              "      <td>29.0</td>\n",
              "      <td>65.187220</td>\n",
              "      <td>107.22</td>\n",
              "      <td>0.607976</td>\n",
              "    </tr>\n",
              "    <tr>\n",
              "      <th>2</th>\n",
              "      <td>NE</td>\n",
              "      <td>Nordeste</td>\n",
              "      <td>BA</td>\n",
              "      <td>BAHIA</td>\n",
              "      <td>IGAPORA II - 230 kV (B)</td>\n",
              "      <td>Interior</td>\n",
              "      <td>-14.186292</td>\n",
              "      <td>-42.493356</td>\n",
              "      <td>-14.027222</td>\n",
              "      <td>-42.629444</td>\n",
              "      <td>Conjunto de Usinas</td>\n",
              "      <td>Eólica</td>\n",
              "      <td>Conj. Caetité 123</td>\n",
              "      <td>CJU_BACAE</td>\n",
              "      <td>-</td>\n",
              "      <td>2015-01-01 00:00:00</td>\n",
              "      <td>23.0</td>\n",
              "      <td>36.777401</td>\n",
              "      <td>90.00</td>\n",
              "      <td>0.408638</td>\n",
              "    </tr>\n",
              "    <tr>\n",
              "      <th>3</th>\n",
              "      <td>NE</td>\n",
              "      <td>Nordeste</td>\n",
              "      <td>BA</td>\n",
              "      <td>BAHIA</td>\n",
              "      <td>IGAPORA II - 69 kV (A)</td>\n",
              "      <td>Interior</td>\n",
              "      <td>-13.916364</td>\n",
              "      <td>-42.616201</td>\n",
              "      <td>-14.027222</td>\n",
              "      <td>-42.629444</td>\n",
              "      <td>Conjunto de Usinas</td>\n",
              "      <td>Eólica</td>\n",
              "      <td>Conj. Curva dos Ventos</td>\n",
              "      <td>CJU_BACVN</td>\n",
              "      <td>-</td>\n",
              "      <td>2015-01-01 00:00:00</td>\n",
              "      <td>11.5</td>\n",
              "      <td>19.176730</td>\n",
              "      <td>54.05</td>\n",
              "      <td>0.354796</td>\n",
              "    </tr>\n",
              "    <tr>\n",
              "      <th>4</th>\n",
              "      <td>NE</td>\n",
              "      <td>Nordeste</td>\n",
              "      <td>BA</td>\n",
              "      <td>BAHIA</td>\n",
              "      <td>IGAPORA II - 69 kV (A)</td>\n",
              "      <td>Interior</td>\n",
              "      <td>-14.172142</td>\n",
              "      <td>-42.598414</td>\n",
              "      <td>-14.027222</td>\n",
              "      <td>-42.629444</td>\n",
              "      <td>Conjunto de Usinas</td>\n",
              "      <td>Eólica</td>\n",
              "      <td>Conj. Guirapá</td>\n",
              "      <td>CJU_BAGRP</td>\n",
              "      <td>-</td>\n",
              "      <td>2015-01-01 00:00:00</td>\n",
              "      <td>27.5</td>\n",
              "      <td>34.876650</td>\n",
              "      <td>52.80</td>\n",
              "      <td>0.660543</td>\n",
              "    </tr>\n",
              "    <tr>\n",
              "      <th>...</th>\n",
              "      <td>...</td>\n",
              "      <td>...</td>\n",
              "      <td>...</td>\n",
              "      <td>...</td>\n",
              "      <td>...</td>\n",
              "      <td>...</td>\n",
              "      <td>...</td>\n",
              "      <td>...</td>\n",
              "      <td>...</td>\n",
              "      <td>...</td>\n",
              "      <td>...</td>\n",
              "      <td>...</td>\n",
              "      <td>...</td>\n",
              "      <td>...</td>\n",
              "      <td>...</td>\n",
              "      <td>...</td>\n",
              "      <td>...</td>\n",
              "      <td>...</td>\n",
              "      <td>...</td>\n",
              "      <td>...</td>\n",
              "    </tr>\n",
              "    <tr>\n",
              "      <th>8622775</th>\n",
              "      <td>SE</td>\n",
              "      <td>Sudeste/Centro-Oeste</td>\n",
              "      <td>SP</td>\n",
              "      <td>SAO PAULO</td>\n",
              "      <td>TRES IRMAOS - 138 kV (A)</td>\n",
              "      <td>NaN</td>\n",
              "      <td>-20.790444</td>\n",
              "      <td>-51.529266</td>\n",
              "      <td>-20.656389</td>\n",
              "      <td>-51.482778</td>\n",
              "      <td>Conjunto de Usinas</td>\n",
              "      <td>Solar</td>\n",
              "      <td>Conj. Castilho</td>\n",
              "      <td>CJU_SPCST3</td>\n",
              "      <td>-</td>\n",
              "      <td>2023-08-01 23:00:00</td>\n",
              "      <td>0.0</td>\n",
              "      <td>0.137000</td>\n",
              "      <td>210.70</td>\n",
              "      <td>0.000650</td>\n",
              "    </tr>\n",
              "    <tr>\n",
              "      <th>8622776</th>\n",
              "      <td>SE</td>\n",
              "      <td>Sudeste/Centro-Oeste</td>\n",
              "      <td>SP</td>\n",
              "      <td>SAO PAULO</td>\n",
              "      <td>DRACENA - 138 kV (A)</td>\n",
              "      <td>NaN</td>\n",
              "      <td>-21.450214</td>\n",
              "      <td>-51.587776</td>\n",
              "      <td>-21.457222</td>\n",
              "      <td>-51.526667</td>\n",
              "      <td>Conjunto de Usinas</td>\n",
              "      <td>Solar</td>\n",
              "      <td>Conj. Dracena</td>\n",
              "      <td>CJU_SPUFD</td>\n",
              "      <td>-</td>\n",
              "      <td>2023-08-01 23:00:00</td>\n",
              "      <td>0.0</td>\n",
              "      <td>0.000000</td>\n",
              "      <td>81.00</td>\n",
              "      <td>0.000000</td>\n",
              "    </tr>\n",
              "    <tr>\n",
              "      <th>8622777</th>\n",
              "      <td>SE</td>\n",
              "      <td>Sudeste/Centro-Oeste</td>\n",
              "      <td>SP</td>\n",
              "      <td>SAO PAULO</td>\n",
              "      <td>GETULINA - 138 kV (A)</td>\n",
              "      <td>NaN</td>\n",
              "      <td>-21.893809</td>\n",
              "      <td>-49.863684</td>\n",
              "      <td>-21.855464</td>\n",
              "      <td>-49.838358</td>\n",
              "      <td>Conjunto de Usinas</td>\n",
              "      <td>Solar</td>\n",
              "      <td>Conj. Guaimbê</td>\n",
              "      <td>CJU_SPCUFG</td>\n",
              "      <td>-</td>\n",
              "      <td>2023-08-01 23:00:00</td>\n",
              "      <td>0.0</td>\n",
              "      <td>0.000000</td>\n",
              "      <td>150.00</td>\n",
              "      <td>0.000000</td>\n",
              "    </tr>\n",
              "    <tr>\n",
              "      <th>8622778</th>\n",
              "      <td>SE</td>\n",
              "      <td>Sudeste/Centro-Oeste</td>\n",
              "      <td>SP</td>\n",
              "      <td>SAO PAULO</td>\n",
              "      <td>AGUA VERMELHA - 138 kV (A)</td>\n",
              "      <td>NaN</td>\n",
              "      <td>-20.195849</td>\n",
              "      <td>-50.032683</td>\n",
              "      <td>-19.867222</td>\n",
              "      <td>-50.350000</td>\n",
              "      <td>Conjunto de Usinas</td>\n",
              "      <td>Solar</td>\n",
              "      <td>Conj. Pedranópolis</td>\n",
              "      <td>CJU_SPPED</td>\n",
              "      <td>-</td>\n",
              "      <td>2023-08-01 23:00:00</td>\n",
              "      <td>0.0</td>\n",
              "      <td>0.000000</td>\n",
              "      <td>90.36</td>\n",
              "      <td>0.000000</td>\n",
              "    </tr>\n",
              "    <tr>\n",
              "      <th>8622779</th>\n",
              "      <td>SE</td>\n",
              "      <td>Sudeste/Centro-Oeste</td>\n",
              "      <td>SP</td>\n",
              "      <td>SAO PAULO</td>\n",
              "      <td>TRES IRMAOS - 138 kV (A)</td>\n",
              "      <td>NaN</td>\n",
              "      <td>-20.620000</td>\n",
              "      <td>-51.300000</td>\n",
              "      <td>-20.656389</td>\n",
              "      <td>-51.482778</td>\n",
              "      <td>Conjunto de Usinas</td>\n",
              "      <td>Solar</td>\n",
              "      <td>Conj. Pereira Barreto</td>\n",
              "      <td>CJU_SPPB</td>\n",
              "      <td>-</td>\n",
              "      <td>2023-08-01 23:00:00</td>\n",
              "      <td>0.0</td>\n",
              "      <td>0.000000</td>\n",
              "      <td>203.52</td>\n",
              "      <td>0.000000</td>\n",
              "    </tr>\n",
              "  </tbody>\n",
              "</table>\n",
              "<p>8622780 rows × 20 columns</p>\n",
              "</div>\n",
              "      <button class=\"colab-df-convert\" onclick=\"convertToInteractive('df-6f1d1847-4d4d-48d0-aaca-473f9a926fba')\"\n",
              "              title=\"Convert this dataframe to an interactive table.\"\n",
              "              style=\"display:none;\">\n",
              "\n",
              "  <svg xmlns=\"http://www.w3.org/2000/svg\" height=\"24px\"viewBox=\"0 0 24 24\"\n",
              "       width=\"24px\">\n",
              "    <path d=\"M0 0h24v24H0V0z\" fill=\"none\"/>\n",
              "    <path d=\"M18.56 5.44l.94 2.06.94-2.06 2.06-.94-2.06-.94-.94-2.06-.94 2.06-2.06.94zm-11 1L8.5 8.5l.94-2.06 2.06-.94-2.06-.94L8.5 2.5l-.94 2.06-2.06.94zm10 10l.94 2.06.94-2.06 2.06-.94-2.06-.94-.94-2.06-.94 2.06-2.06.94z\"/><path d=\"M17.41 7.96l-1.37-1.37c-.4-.4-.92-.59-1.43-.59-.52 0-1.04.2-1.43.59L10.3 9.45l-7.72 7.72c-.78.78-.78 2.05 0 2.83L4 21.41c.39.39.9.59 1.41.59.51 0 1.02-.2 1.41-.59l7.78-7.78 2.81-2.81c.8-.78.8-2.07 0-2.86zM5.41 20L4 18.59l7.72-7.72 1.47 1.35L5.41 20z\"/>\n",
              "  </svg>\n",
              "      </button>\n",
              "\n",
              "\n",
              "\n",
              "    <div id=\"df-ab2d5fcf-5f35-46ab-b101-b6672683b7e9\">\n",
              "      <button class=\"colab-df-quickchart\" onclick=\"quickchart('df-ab2d5fcf-5f35-46ab-b101-b6672683b7e9')\"\n",
              "              title=\"Suggest charts.\"\n",
              "              style=\"display:none;\">\n",
              "\n",
              "<svg xmlns=\"http://www.w3.org/2000/svg\" height=\"24px\"viewBox=\"0 0 24 24\"\n",
              "     width=\"24px\">\n",
              "    <g>\n",
              "        <path d=\"M19 3H5c-1.1 0-2 .9-2 2v14c0 1.1.9 2 2 2h14c1.1 0 2-.9 2-2V5c0-1.1-.9-2-2-2zM9 17H7v-7h2v7zm4 0h-2V7h2v10zm4 0h-2v-4h2v4z\"/>\n",
              "    </g>\n",
              "</svg>\n",
              "      </button>\n",
              "    </div>\n",
              "\n",
              "<style>\n",
              "  .colab-df-quickchart {\n",
              "    background-color: #E8F0FE;\n",
              "    border: none;\n",
              "    border-radius: 50%;\n",
              "    cursor: pointer;\n",
              "    display: none;\n",
              "    fill: #1967D2;\n",
              "    height: 32px;\n",
              "    padding: 0 0 0 0;\n",
              "    width: 32px;\n",
              "  }\n",
              "\n",
              "  .colab-df-quickchart:hover {\n",
              "    background-color: #E2EBFA;\n",
              "    box-shadow: 0px 1px 2px rgba(60, 64, 67, 0.3), 0px 1px 3px 1px rgba(60, 64, 67, 0.15);\n",
              "    fill: #174EA6;\n",
              "  }\n",
              "\n",
              "  [theme=dark] .colab-df-quickchart {\n",
              "    background-color: #3B4455;\n",
              "    fill: #D2E3FC;\n",
              "  }\n",
              "\n",
              "  [theme=dark] .colab-df-quickchart:hover {\n",
              "    background-color: #434B5C;\n",
              "    box-shadow: 0px 1px 3px 1px rgba(0, 0, 0, 0.15);\n",
              "    filter: drop-shadow(0px 1px 2px rgba(0, 0, 0, 0.3));\n",
              "    fill: #FFFFFF;\n",
              "  }\n",
              "</style>\n",
              "\n",
              "    <script>\n",
              "      async function quickchart(key) {\n",
              "        const containerElement = document.querySelector('#' + key);\n",
              "        const charts = await google.colab.kernel.invokeFunction(\n",
              "            'suggestCharts', [key], {});\n",
              "      }\n",
              "    </script>\n",
              "\n",
              "      <script>\n",
              "\n",
              "function displayQuickchartButton(domScope) {\n",
              "  let quickchartButtonEl =\n",
              "    domScope.querySelector('#df-ab2d5fcf-5f35-46ab-b101-b6672683b7e9 button.colab-df-quickchart');\n",
              "  quickchartButtonEl.style.display =\n",
              "    google.colab.kernel.accessAllowed ? 'block' : 'none';\n",
              "}\n",
              "\n",
              "        displayQuickchartButton(document);\n",
              "      </script>\n",
              "      <style>\n",
              "    .colab-df-container {\n",
              "      display:flex;\n",
              "      flex-wrap:wrap;\n",
              "      gap: 12px;\n",
              "    }\n",
              "\n",
              "    .colab-df-convert {\n",
              "      background-color: #E8F0FE;\n",
              "      border: none;\n",
              "      border-radius: 50%;\n",
              "      cursor: pointer;\n",
              "      display: none;\n",
              "      fill: #1967D2;\n",
              "      height: 32px;\n",
              "      padding: 0 0 0 0;\n",
              "      width: 32px;\n",
              "    }\n",
              "\n",
              "    .colab-df-convert:hover {\n",
              "      background-color: #E2EBFA;\n",
              "      box-shadow: 0px 1px 2px rgba(60, 64, 67, 0.3), 0px 1px 3px 1px rgba(60, 64, 67, 0.15);\n",
              "      fill: #174EA6;\n",
              "    }\n",
              "\n",
              "    [theme=dark] .colab-df-convert {\n",
              "      background-color: #3B4455;\n",
              "      fill: #D2E3FC;\n",
              "    }\n",
              "\n",
              "    [theme=dark] .colab-df-convert:hover {\n",
              "      background-color: #434B5C;\n",
              "      box-shadow: 0px 1px 3px 1px rgba(0, 0, 0, 0.15);\n",
              "      filter: drop-shadow(0px 1px 2px rgba(0, 0, 0, 0.3));\n",
              "      fill: #FFFFFF;\n",
              "    }\n",
              "  </style>\n",
              "\n",
              "      <script>\n",
              "        const buttonEl =\n",
              "          document.querySelector('#df-6f1d1847-4d4d-48d0-aaca-473f9a926fba button.colab-df-convert');\n",
              "        buttonEl.style.display =\n",
              "          google.colab.kernel.accessAllowed ? 'block' : 'none';\n",
              "\n",
              "        async function convertToInteractive(key) {\n",
              "          const element = document.querySelector('#df-6f1d1847-4d4d-48d0-aaca-473f9a926fba');\n",
              "          const dataTable =\n",
              "            await google.colab.kernel.invokeFunction('convertToInteractive',\n",
              "                                                     [key], {});\n",
              "          if (!dataTable) return;\n",
              "\n",
              "          const docLinkHtml = 'Like what you see? Visit the ' +\n",
              "            '<a target=\"_blank\" href=https://colab.research.google.com/notebooks/data_table.ipynb>data table notebook</a>'\n",
              "            + ' to learn more about interactive tables.';\n",
              "          element.innerHTML = '';\n",
              "          dataTable['output_type'] = 'display_data';\n",
              "          await google.colab.output.renderOutput(dataTable, element);\n",
              "          const docLink = document.createElement('div');\n",
              "          docLink.innerHTML = docLinkHtml;\n",
              "          element.appendChild(docLink);\n",
              "        }\n",
              "      </script>\n",
              "    </div>\n",
              "  </div>\n"
            ]
          },
          "metadata": {},
          "execution_count": 10
        }
      ]
    },
    {
      "cell_type": "code",
      "source": [
        "# Visualização de forma aleatoria\n",
        "df_fator_cap.sample(3)"
      ],
      "metadata": {
        "id": "7VOwplWAj1qP",
        "colab": {
          "base_uri": "https://localhost:8080/",
          "height": 294
        },
        "outputId": "e49fbb71-103f-4365-f8bd-2fd9017d661c"
      },
      "execution_count": 11,
      "outputs": [
        {
          "output_type": "execute_result",
          "data": {
            "text/plain": [
              "        id_subsistema nom_subsistema id_estado           nom_estado  \\\n",
              "635567             NE       Nordeste        BA                BAHIA   \n",
              "5678896            NE       Nordeste        RN  RIO GRANDE DO NORTE   \n",
              "1526345            NE       Nordeste        RN  RIO GRANDE DO NORTE   \n",
              "\n",
              "                  nom_pontoconexao nom_localizacao  val_latitudesecoletora  \\\n",
              "635567   U.SOBRADINHO - 230 kV (A)        Interior               -9.856667   \n",
              "5678896  LAGOA NOVA II - 69 kV (A)        Interior               -6.039104   \n",
              "1526345  LAGOA NOVA II - 69 kV (A)        Interior               -6.039539   \n",
              "\n",
              "         val_longitudesecoletora  val_latitudepontoconexao  \\\n",
              "635567                -41.090000                 -9.436083   \n",
              "5678896               -36.489338                 -6.060491   \n",
              "1526345               -36.489331                 -6.060491   \n",
              "\n",
              "         val_longitudepontoconexao nom_modalidadeoperacao nom_tipousina  \\\n",
              "635567                  -40.829167     Conjunto de Usinas        Eólica   \n",
              "5678896                 -36.524827     Conjunto de Usinas        Eólica   \n",
              "1526345                 -36.524827     Conjunto de Usinas        Eólica   \n",
              "\n",
              "         nom_usina_conjunto     id_ons ceg         din_instante  \\\n",
              "635567   Conj. Pedra Branca  CJU_BAPBR   -  2016-07-16 02:00:00   \n",
              "5678896     Conj. Calango 2  CJU_RNCA2   -  2021-09-09 19:00:00   \n",
              "1526345     Conj. Calango 3  CJU_RNCA3   -  2017-11-03 05:00:00   \n",
              "\n",
              "         val_geracaoprogramada  val_geracaoverificada  \\\n",
              "635567                   180.0                 50.211   \n",
              "5678896                   68.5                 70.000   \n",
              "1526345                   73.5                 57.691   \n",
              "\n",
              "         val_capacidadeinstalada  val_fatorcapacidade  \n",
              "635567                   248.915             0.201719  \n",
              "5678896                   90.000             0.777778  \n",
              "1526345                   84.000             0.686798  "
            ],
            "text/html": [
              "\n",
              "\n",
              "  <div id=\"df-9fbc5f1c-8172-4aa9-bb3e-5b569786809d\">\n",
              "    <div class=\"colab-df-container\">\n",
              "      <div>\n",
              "<style scoped>\n",
              "    .dataframe tbody tr th:only-of-type {\n",
              "        vertical-align: middle;\n",
              "    }\n",
              "\n",
              "    .dataframe tbody tr th {\n",
              "        vertical-align: top;\n",
              "    }\n",
              "\n",
              "    .dataframe thead th {\n",
              "        text-align: right;\n",
              "    }\n",
              "</style>\n",
              "<table border=\"1\" class=\"dataframe\">\n",
              "  <thead>\n",
              "    <tr style=\"text-align: right;\">\n",
              "      <th></th>\n",
              "      <th>id_subsistema</th>\n",
              "      <th>nom_subsistema</th>\n",
              "      <th>id_estado</th>\n",
              "      <th>nom_estado</th>\n",
              "      <th>nom_pontoconexao</th>\n",
              "      <th>nom_localizacao</th>\n",
              "      <th>val_latitudesecoletora</th>\n",
              "      <th>val_longitudesecoletora</th>\n",
              "      <th>val_latitudepontoconexao</th>\n",
              "      <th>val_longitudepontoconexao</th>\n",
              "      <th>nom_modalidadeoperacao</th>\n",
              "      <th>nom_tipousina</th>\n",
              "      <th>nom_usina_conjunto</th>\n",
              "      <th>id_ons</th>\n",
              "      <th>ceg</th>\n",
              "      <th>din_instante</th>\n",
              "      <th>val_geracaoprogramada</th>\n",
              "      <th>val_geracaoverificada</th>\n",
              "      <th>val_capacidadeinstalada</th>\n",
              "      <th>val_fatorcapacidade</th>\n",
              "    </tr>\n",
              "  </thead>\n",
              "  <tbody>\n",
              "    <tr>\n",
              "      <th>635567</th>\n",
              "      <td>NE</td>\n",
              "      <td>Nordeste</td>\n",
              "      <td>BA</td>\n",
              "      <td>BAHIA</td>\n",
              "      <td>U.SOBRADINHO - 230 kV (A)</td>\n",
              "      <td>Interior</td>\n",
              "      <td>-9.856667</td>\n",
              "      <td>-41.090000</td>\n",
              "      <td>-9.436083</td>\n",
              "      <td>-40.829167</td>\n",
              "      <td>Conjunto de Usinas</td>\n",
              "      <td>Eólica</td>\n",
              "      <td>Conj. Pedra Branca</td>\n",
              "      <td>CJU_BAPBR</td>\n",
              "      <td>-</td>\n",
              "      <td>2016-07-16 02:00:00</td>\n",
              "      <td>180.0</td>\n",
              "      <td>50.211</td>\n",
              "      <td>248.915</td>\n",
              "      <td>0.201719</td>\n",
              "    </tr>\n",
              "    <tr>\n",
              "      <th>5678896</th>\n",
              "      <td>NE</td>\n",
              "      <td>Nordeste</td>\n",
              "      <td>RN</td>\n",
              "      <td>RIO GRANDE DO NORTE</td>\n",
              "      <td>LAGOA NOVA II - 69 kV (A)</td>\n",
              "      <td>Interior</td>\n",
              "      <td>-6.039104</td>\n",
              "      <td>-36.489338</td>\n",
              "      <td>-6.060491</td>\n",
              "      <td>-36.524827</td>\n",
              "      <td>Conjunto de Usinas</td>\n",
              "      <td>Eólica</td>\n",
              "      <td>Conj. Calango 2</td>\n",
              "      <td>CJU_RNCA2</td>\n",
              "      <td>-</td>\n",
              "      <td>2021-09-09 19:00:00</td>\n",
              "      <td>68.5</td>\n",
              "      <td>70.000</td>\n",
              "      <td>90.000</td>\n",
              "      <td>0.777778</td>\n",
              "    </tr>\n",
              "    <tr>\n",
              "      <th>1526345</th>\n",
              "      <td>NE</td>\n",
              "      <td>Nordeste</td>\n",
              "      <td>RN</td>\n",
              "      <td>RIO GRANDE DO NORTE</td>\n",
              "      <td>LAGOA NOVA II - 69 kV (A)</td>\n",
              "      <td>Interior</td>\n",
              "      <td>-6.039539</td>\n",
              "      <td>-36.489331</td>\n",
              "      <td>-6.060491</td>\n",
              "      <td>-36.524827</td>\n",
              "      <td>Conjunto de Usinas</td>\n",
              "      <td>Eólica</td>\n",
              "      <td>Conj. Calango 3</td>\n",
              "      <td>CJU_RNCA3</td>\n",
              "      <td>-</td>\n",
              "      <td>2017-11-03 05:00:00</td>\n",
              "      <td>73.5</td>\n",
              "      <td>57.691</td>\n",
              "      <td>84.000</td>\n",
              "      <td>0.686798</td>\n",
              "    </tr>\n",
              "  </tbody>\n",
              "</table>\n",
              "</div>\n",
              "      <button class=\"colab-df-convert\" onclick=\"convertToInteractive('df-9fbc5f1c-8172-4aa9-bb3e-5b569786809d')\"\n",
              "              title=\"Convert this dataframe to an interactive table.\"\n",
              "              style=\"display:none;\">\n",
              "\n",
              "  <svg xmlns=\"http://www.w3.org/2000/svg\" height=\"24px\"viewBox=\"0 0 24 24\"\n",
              "       width=\"24px\">\n",
              "    <path d=\"M0 0h24v24H0V0z\" fill=\"none\"/>\n",
              "    <path d=\"M18.56 5.44l.94 2.06.94-2.06 2.06-.94-2.06-.94-.94-2.06-.94 2.06-2.06.94zm-11 1L8.5 8.5l.94-2.06 2.06-.94-2.06-.94L8.5 2.5l-.94 2.06-2.06.94zm10 10l.94 2.06.94-2.06 2.06-.94-2.06-.94-.94-2.06-.94 2.06-2.06.94z\"/><path d=\"M17.41 7.96l-1.37-1.37c-.4-.4-.92-.59-1.43-.59-.52 0-1.04.2-1.43.59L10.3 9.45l-7.72 7.72c-.78.78-.78 2.05 0 2.83L4 21.41c.39.39.9.59 1.41.59.51 0 1.02-.2 1.41-.59l7.78-7.78 2.81-2.81c.8-.78.8-2.07 0-2.86zM5.41 20L4 18.59l7.72-7.72 1.47 1.35L5.41 20z\"/>\n",
              "  </svg>\n",
              "      </button>\n",
              "\n",
              "\n",
              "\n",
              "    <div id=\"df-3c425612-c17b-41b2-98e9-53b2d78fdd46\">\n",
              "      <button class=\"colab-df-quickchart\" onclick=\"quickchart('df-3c425612-c17b-41b2-98e9-53b2d78fdd46')\"\n",
              "              title=\"Suggest charts.\"\n",
              "              style=\"display:none;\">\n",
              "\n",
              "<svg xmlns=\"http://www.w3.org/2000/svg\" height=\"24px\"viewBox=\"0 0 24 24\"\n",
              "     width=\"24px\">\n",
              "    <g>\n",
              "        <path d=\"M19 3H5c-1.1 0-2 .9-2 2v14c0 1.1.9 2 2 2h14c1.1 0 2-.9 2-2V5c0-1.1-.9-2-2-2zM9 17H7v-7h2v7zm4 0h-2V7h2v10zm4 0h-2v-4h2v4z\"/>\n",
              "    </g>\n",
              "</svg>\n",
              "      </button>\n",
              "    </div>\n",
              "\n",
              "<style>\n",
              "  .colab-df-quickchart {\n",
              "    background-color: #E8F0FE;\n",
              "    border: none;\n",
              "    border-radius: 50%;\n",
              "    cursor: pointer;\n",
              "    display: none;\n",
              "    fill: #1967D2;\n",
              "    height: 32px;\n",
              "    padding: 0 0 0 0;\n",
              "    width: 32px;\n",
              "  }\n",
              "\n",
              "  .colab-df-quickchart:hover {\n",
              "    background-color: #E2EBFA;\n",
              "    box-shadow: 0px 1px 2px rgba(60, 64, 67, 0.3), 0px 1px 3px 1px rgba(60, 64, 67, 0.15);\n",
              "    fill: #174EA6;\n",
              "  }\n",
              "\n",
              "  [theme=dark] .colab-df-quickchart {\n",
              "    background-color: #3B4455;\n",
              "    fill: #D2E3FC;\n",
              "  }\n",
              "\n",
              "  [theme=dark] .colab-df-quickchart:hover {\n",
              "    background-color: #434B5C;\n",
              "    box-shadow: 0px 1px 3px 1px rgba(0, 0, 0, 0.15);\n",
              "    filter: drop-shadow(0px 1px 2px rgba(0, 0, 0, 0.3));\n",
              "    fill: #FFFFFF;\n",
              "  }\n",
              "</style>\n",
              "\n",
              "    <script>\n",
              "      async function quickchart(key) {\n",
              "        const containerElement = document.querySelector('#' + key);\n",
              "        const charts = await google.colab.kernel.invokeFunction(\n",
              "            'suggestCharts', [key], {});\n",
              "      }\n",
              "    </script>\n",
              "\n",
              "      <script>\n",
              "\n",
              "function displayQuickchartButton(domScope) {\n",
              "  let quickchartButtonEl =\n",
              "    domScope.querySelector('#df-3c425612-c17b-41b2-98e9-53b2d78fdd46 button.colab-df-quickchart');\n",
              "  quickchartButtonEl.style.display =\n",
              "    google.colab.kernel.accessAllowed ? 'block' : 'none';\n",
              "}\n",
              "\n",
              "        displayQuickchartButton(document);\n",
              "      </script>\n",
              "      <style>\n",
              "    .colab-df-container {\n",
              "      display:flex;\n",
              "      flex-wrap:wrap;\n",
              "      gap: 12px;\n",
              "    }\n",
              "\n",
              "    .colab-df-convert {\n",
              "      background-color: #E8F0FE;\n",
              "      border: none;\n",
              "      border-radius: 50%;\n",
              "      cursor: pointer;\n",
              "      display: none;\n",
              "      fill: #1967D2;\n",
              "      height: 32px;\n",
              "      padding: 0 0 0 0;\n",
              "      width: 32px;\n",
              "    }\n",
              "\n",
              "    .colab-df-convert:hover {\n",
              "      background-color: #E2EBFA;\n",
              "      box-shadow: 0px 1px 2px rgba(60, 64, 67, 0.3), 0px 1px 3px 1px rgba(60, 64, 67, 0.15);\n",
              "      fill: #174EA6;\n",
              "    }\n",
              "\n",
              "    [theme=dark] .colab-df-convert {\n",
              "      background-color: #3B4455;\n",
              "      fill: #D2E3FC;\n",
              "    }\n",
              "\n",
              "    [theme=dark] .colab-df-convert:hover {\n",
              "      background-color: #434B5C;\n",
              "      box-shadow: 0px 1px 3px 1px rgba(0, 0, 0, 0.15);\n",
              "      filter: drop-shadow(0px 1px 2px rgba(0, 0, 0, 0.3));\n",
              "      fill: #FFFFFF;\n",
              "    }\n",
              "  </style>\n",
              "\n",
              "      <script>\n",
              "        const buttonEl =\n",
              "          document.querySelector('#df-9fbc5f1c-8172-4aa9-bb3e-5b569786809d button.colab-df-convert');\n",
              "        buttonEl.style.display =\n",
              "          google.colab.kernel.accessAllowed ? 'block' : 'none';\n",
              "\n",
              "        async function convertToInteractive(key) {\n",
              "          const element = document.querySelector('#df-9fbc5f1c-8172-4aa9-bb3e-5b569786809d');\n",
              "          const dataTable =\n",
              "            await google.colab.kernel.invokeFunction('convertToInteractive',\n",
              "                                                     [key], {});\n",
              "          if (!dataTable) return;\n",
              "\n",
              "          const docLinkHtml = 'Like what you see? Visit the ' +\n",
              "            '<a target=\"_blank\" href=https://colab.research.google.com/notebooks/data_table.ipynb>data table notebook</a>'\n",
              "            + ' to learn more about interactive tables.';\n",
              "          element.innerHTML = '';\n",
              "          dataTable['output_type'] = 'display_data';\n",
              "          await google.colab.output.renderOutput(dataTable, element);\n",
              "          const docLink = document.createElement('div');\n",
              "          docLink.innerHTML = docLinkHtml;\n",
              "          element.appendChild(docLink);\n",
              "        }\n",
              "      </script>\n",
              "    </div>\n",
              "  </div>\n"
            ]
          },
          "metadata": {},
          "execution_count": 11
        }
      ]
    },
    {
      "cell_type": "code",
      "source": [
        "# Tamanho total de (linhas , colunas)\n",
        "df_fator_cap.shape"
      ],
      "metadata": {
        "id": "Vk8p8Nd-kMWP",
        "colab": {
          "base_uri": "https://localhost:8080/"
        },
        "outputId": "2a59fab7-13d5-4a06-e7dc-9864b9911a9f"
      },
      "execution_count": 12,
      "outputs": [
        {
          "output_type": "execute_result",
          "data": {
            "text/plain": [
              "(8622780, 20)"
            ]
          },
          "metadata": {},
          "execution_count": 12
        }
      ]
    },
    {
      "cell_type": "code",
      "source": [
        "# Todos os tipos de dados presentes\n",
        "df_fator_cap.dtypes"
      ],
      "metadata": {
        "id": "fsZ6_xn6mGo3",
        "colab": {
          "base_uri": "https://localhost:8080/"
        },
        "outputId": "747086fb-4709-4511-daa3-cabc130d2dc9"
      },
      "execution_count": 13,
      "outputs": [
        {
          "output_type": "execute_result",
          "data": {
            "text/plain": [
              "id_subsistema                 object\n",
              "nom_subsistema                object\n",
              "id_estado                     object\n",
              "nom_estado                    object\n",
              "nom_pontoconexao              object\n",
              "nom_localizacao               object\n",
              "val_latitudesecoletora       float64\n",
              "val_longitudesecoletora      float64\n",
              "val_latitudepontoconexao     float64\n",
              "val_longitudepontoconexao    float64\n",
              "nom_modalidadeoperacao        object\n",
              "nom_tipousina                 object\n",
              "nom_usina_conjunto            object\n",
              "id_ons                        object\n",
              "ceg                           object\n",
              "din_instante                  object\n",
              "val_geracaoprogramada        float64\n",
              "val_geracaoverificada        float64\n",
              "val_capacidadeinstalada      float64\n",
              "val_fatorcapacidade          float64\n",
              "dtype: object"
            ]
          },
          "metadata": {},
          "execution_count": 13
        }
      ]
    },
    {
      "cell_type": "code",
      "source": [
        "# Contagem de observações para cada coluna\n",
        "df_fator_cap.count()"
      ],
      "metadata": {
        "id": "-mLulv3imH94",
        "colab": {
          "base_uri": "https://localhost:8080/"
        },
        "outputId": "aefb9e55-9ee9-4f40-e8c7-67a4ace603dd"
      },
      "execution_count": 14,
      "outputs": [
        {
          "output_type": "execute_result",
          "data": {
            "text/plain": [
              "id_subsistema                8622780\n",
              "nom_subsistema               8622780\n",
              "id_estado                    8622780\n",
              "nom_estado                   8622780\n",
              "nom_pontoconexao             8553255\n",
              "nom_localizacao              7420235\n",
              "val_latitudesecoletora       8610132\n",
              "val_longitudesecoletora      8610132\n",
              "val_latitudepontoconexao     8485411\n",
              "val_longitudepontoconexao    8485411\n",
              "nom_modalidadeoperacao       8622780\n",
              "nom_tipousina                8622780\n",
              "nom_usina_conjunto           8622780\n",
              "id_ons                       8622780\n",
              "ceg                          8622780\n",
              "din_instante                 8622780\n",
              "val_geracaoprogramada        8278267\n",
              "val_geracaoverificada        8622780\n",
              "val_capacidadeinstalada      8578982\n",
              "val_fatorcapacidade          8622780\n",
              "dtype: int64"
            ]
          },
          "metadata": {},
          "execution_count": 14
        }
      ]
    },
    {
      "cell_type": "code",
      "source": [
        "# Informações detalhadas\n",
        "df_fator_cap.info()"
      ],
      "metadata": {
        "id": "m6SgfErBpnz3",
        "colab": {
          "base_uri": "https://localhost:8080/"
        },
        "outputId": "e6091a90-97e4-42ff-e57f-053b626a4c9b"
      },
      "execution_count": 15,
      "outputs": [
        {
          "output_type": "stream",
          "name": "stdout",
          "text": [
            "<class 'pandas.core.frame.DataFrame'>\n",
            "RangeIndex: 8622780 entries, 0 to 8622779\n",
            "Data columns (total 20 columns):\n",
            " #   Column                     Dtype  \n",
            "---  ------                     -----  \n",
            " 0   id_subsistema              object \n",
            " 1   nom_subsistema             object \n",
            " 2   id_estado                  object \n",
            " 3   nom_estado                 object \n",
            " 4   nom_pontoconexao           object \n",
            " 5   nom_localizacao            object \n",
            " 6   val_latitudesecoletora     float64\n",
            " 7   val_longitudesecoletora    float64\n",
            " 8   val_latitudepontoconexao   float64\n",
            " 9   val_longitudepontoconexao  float64\n",
            " 10  nom_modalidadeoperacao     object \n",
            " 11  nom_tipousina              object \n",
            " 12  nom_usina_conjunto         object \n",
            " 13  id_ons                     object \n",
            " 14  ceg                        object \n",
            " 15  din_instante               object \n",
            " 16  val_geracaoprogramada      float64\n",
            " 17  val_geracaoverificada      float64\n",
            " 18  val_capacidadeinstalada    float64\n",
            " 19  val_fatorcapacidade        float64\n",
            "dtypes: float64(8), object(12)\n",
            "memory usage: 1.3+ GB\n"
          ]
        }
      ]
    },
    {
      "cell_type": "code",
      "source": [
        "# din_instante tipar para datetime\n"
      ],
      "metadata": {
        "id": "TBTYmhGoTX39"
      },
      "execution_count": null,
      "outputs": []
    },
    {
      "cell_type": "code",
      "source": [
        "# Fazendo um relatório para mostrar os valores únicos de cada atributo.\n",
        "# O for vai garantir que a atividade seja feita automaticamentepara todos os atributos\n",
        "\n",
        "for coluna in df_fator_cap:\n",
        "    valor = (df_fator_cap[coluna].unique())\n",
        "    print(\"-\"*70)\n",
        "    msg = f\"Valores únicos para o atributo {coluna}:\"\n",
        "    print(f\"{msg:^70}\")\n",
        "    print(\"-\"*70)\n",
        "    print(f\"\\n{valor}\\n\")\n",
        "    print(\"-\"*70)\n"
      ],
      "metadata": {
        "id": "KcNCjl87B9rk"
      },
      "execution_count": null,
      "outputs": []
    },
    {
      "cell_type": "code",
      "source": [
        "df_fator_cap.din_instante.unique()"
      ],
      "metadata": {
        "id": "d-pzEniI28Ft",
        "colab": {
          "base_uri": "https://localhost:8080/"
        },
        "outputId": "a3e2a643-eae5-4229-8955-bdbbf90e2d04"
      },
      "execution_count": 17,
      "outputs": [
        {
          "output_type": "execute_result",
          "data": {
            "text/plain": [
              "array(['2015-01-01 00:00:00', '2015-01-01 01:00:00',\n",
              "       '2015-01-01 02:00:00', ..., '2023-08-01 21:00:00',\n",
              "       '2023-08-01 22:00:00', '2023-08-01 23:00:00'], dtype=object)"
            ]
          },
          "metadata": {},
          "execution_count": 17
        }
      ]
    },
    {
      "cell_type": "markdown",
      "source": [
        "# Transformação\n",
        "Aqui os dados extraídos precisam ser transformados em um formato adequado para análise, e para isso deve seguir alguns passos, que podem precisar serem repetidos ao longo do processo de análise."
      ],
      "metadata": {
        "id": "VbLM1jZ51glR"
      }
    },
    {
      "cell_type": "markdown",
      "source": [
        "## Limpeza de Dados\n",
        "Remover dados duplicados, corrigir erros de digitação, tratar dados inconsistentes etc."
      ],
      "metadata": {
        "id": "2OIPr02e1w5B"
      }
    },
    {
      "cell_type": "code",
      "source": [
        "# Verificar se há valores duplicados\n",
        "df_fator_cap.duplicated()"
      ],
      "metadata": {
        "id": "Bbj-7zCn2Fee",
        "colab": {
          "base_uri": "https://localhost:8080/"
        },
        "outputId": "7dab2c24-ab14-4787-a4ca-9a978da580e0"
      },
      "execution_count": 18,
      "outputs": [
        {
          "output_type": "execute_result",
          "data": {
            "text/plain": [
              "0          False\n",
              "1          False\n",
              "2          False\n",
              "3          False\n",
              "4          False\n",
              "           ...  \n",
              "8622775    False\n",
              "8622776    False\n",
              "8622777    False\n",
              "8622778    False\n",
              "8622779    False\n",
              "Length: 8622780, dtype: bool"
            ]
          },
          "metadata": {},
          "execution_count": 18
        }
      ]
    },
    {
      "cell_type": "code",
      "source": [
        "# Verificar se há valores nulos/ausentes\n",
        "df_fator_cap.isnull().sum()"
      ],
      "metadata": {
        "id": "ByCYsxjVrNy4",
        "colab": {
          "base_uri": "https://localhost:8080/"
        },
        "outputId": "15d5dd11-4a84-45b1-cad5-cc90b28618b9"
      },
      "execution_count": 19,
      "outputs": [
        {
          "output_type": "execute_result",
          "data": {
            "text/plain": [
              "id_subsistema                      0\n",
              "nom_subsistema                     0\n",
              "id_estado                          0\n",
              "nom_estado                         0\n",
              "nom_pontoconexao               69525\n",
              "nom_localizacao              1202545\n",
              "val_latitudesecoletora         12648\n",
              "val_longitudesecoletora        12648\n",
              "val_latitudepontoconexao      137369\n",
              "val_longitudepontoconexao     137369\n",
              "nom_modalidadeoperacao             0\n",
              "nom_tipousina                      0\n",
              "nom_usina_conjunto                 0\n",
              "id_ons                             0\n",
              "ceg                                0\n",
              "din_instante                       0\n",
              "val_geracaoprogramada         344513\n",
              "val_geracaoverificada              0\n",
              "val_capacidadeinstalada        43798\n",
              "val_fatorcapacidade                0\n",
              "dtype: int64"
            ]
          },
          "metadata": {},
          "execution_count": 19
        }
      ]
    },
    {
      "cell_type": "code",
      "source": [
        "# Verificando os valores presentes na coluna para identificar inconsistencias\n",
        "# print(f'Valores presentes em coluna1: {pd.unique(df.coluna1)}')"
      ],
      "metadata": {
        "id": "VbHkWtWwZpg-"
      },
      "execution_count": null,
      "outputs": []
    },
    {
      "cell_type": "code",
      "source": [
        "# Descartando colunas\n",
        "# df.drop(['coluna1',], axis=1, inplace=True)"
      ],
      "metadata": {
        "id": "pc-JlvQ098n5"
      },
      "execution_count": null,
      "outputs": []
    },
    {
      "cell_type": "code",
      "source": [
        "df_fator_cap_backup = df_fator_cap.copy()"
      ],
      "metadata": {
        "id": "1aXYIUbW1gT0"
      },
      "execution_count": 20,
      "outputs": []
    },
    {
      "cell_type": "markdown",
      "source": [
        "## Normalização de Dados\n",
        "Colocar os dados em um formato padronizado para facilitar a análise."
      ],
      "metadata": {
        "id": "FG2L2jSi2Alp"
      }
    },
    {
      "cell_type": "markdown",
      "source": [
        "### Tipagem"
      ],
      "metadata": {
        "id": "wvAVi48v-O2s"
      }
    },
    {
      "cell_type": "code",
      "source": [],
      "metadata": {
        "id": "RTNST_wtV1JO"
      },
      "execution_count": null,
      "outputs": []
    },
    {
      "cell_type": "code",
      "source": [
        "df_fator_cap_backup.din_instante.unique()"
      ],
      "metadata": {
        "colab": {
          "base_uri": "https://localhost:8080/"
        },
        "id": "Kn67q_AaVQCf",
        "outputId": "841483d1-1541-4809-f417-6124556cc3e2"
      },
      "execution_count": 22,
      "outputs": [
        {
          "output_type": "execute_result",
          "data": {
            "text/plain": [
              "array(['2015-01-01 00:00:00', '2015-01-01 01:00:00',\n",
              "       '2015-01-01 02:00:00', ..., '2023-08-01 21:00:00',\n",
              "       '2023-08-01 22:00:00', '2023-08-01 23:00:00'], dtype=object)"
            ]
          },
          "metadata": {},
          "execution_count": 22
        }
      ]
    },
    {
      "cell_type": "code",
      "source": [
        "# Como alterar data ano\n",
        "df_fator_cap_backup['din_instante'] = pd.to_datetime(df_fator_cap_backup['din_instante'], format='')"
      ],
      "metadata": {
        "id": "Z8j_KGtf05qN"
      },
      "execution_count": null,
      "outputs": []
    },
    {
      "cell_type": "code",
      "source": [
        "df_fator_cap_backup.ano"
      ],
      "metadata": {
        "id": "SqUYEkNKf5XN"
      },
      "execution_count": null,
      "outputs": []
    },
    {
      "cell_type": "code",
      "source": [
        "df_fator_cap_backup.dtypes"
      ],
      "metadata": {
        "colab": {
          "base_uri": "https://localhost:8080/"
        },
        "id": "4mFtQmFMgCP3",
        "outputId": "5af51ea1-f748-4679-be39-485167d9cb55"
      },
      "execution_count": null,
      "outputs": [
        {
          "output_type": "execute_result",
          "data": {
            "text/plain": [
              "ano      datetime64[ns]\n",
              "grupo            object\n",
              "total           float64\n",
              "dtype: object"
            ]
          },
          "metadata": {},
          "execution_count": 35
        }
      ]
    },
    {
      "cell_type": "code",
      "source": [
        "# Como tipar qualquer valor\n",
        "# df['Idade'] = df['Idade'].astype(tipo)"
      ],
      "metadata": {
        "id": "ujtP9QYBO_A7"
      },
      "execution_count": null,
      "outputs": []
    },
    {
      "cell_type": "code",
      "source": [
        "# Realizando a tipagem das variaveis\n",
        "# df.coluna1 = df.coluna1.astype(int)"
      ],
      "metadata": {
        "id": "t0pQvuXU2I0x"
      },
      "execution_count": null,
      "outputs": []
    },
    {
      "cell_type": "markdown",
      "source": [
        "## Tradução"
      ],
      "metadata": {
        "id": "PlcatBQq-QkD"
      }
    },
    {
      "cell_type": "code",
      "source": [
        "# Renomeando/Traduzindo colunas\n",
        "# df.rename(columns={'coluna1':'traducao',}, inplace=True)"
      ],
      "metadata": {
        "id": "RnynpUhG1KZd"
      },
      "execution_count": null,
      "outputs": []
    },
    {
      "cell_type": "code",
      "source": [
        "# Examinando alteração\n",
        "df_fator_cap_backup.dtypes"
      ],
      "metadata": {
        "id": "YSCe0djotK4u",
        "colab": {
          "base_uri": "https://localhost:8080/"
        },
        "outputId": "1f8ee049-50c6-4aff-90cf-d6e28774e461"
      },
      "execution_count": null,
      "outputs": [
        {
          "output_type": "execute_result",
          "data": {
            "text/plain": [
              "ano      datetime64[ns]\n",
              "grupo            object\n",
              "total           float64\n",
              "dtype: object"
            ]
          },
          "metadata": {},
          "execution_count": 56
        }
      ]
    },
    {
      "cell_type": "code",
      "source": [
        "# Renomeando/Traduzindo registros\n",
        "# traducao = {\n",
        "#    'registro1': 'TRADUCAO',\n",
        "#    'registro2': 'TRADUCAO2',\n",
        "#}\n",
        "#df_2_2_backup.coluna1.replace(traducao,inplace=True)"
      ],
      "metadata": {
        "id": "PPPWrxZi7HFW"
      },
      "execution_count": null,
      "outputs": []
    },
    {
      "cell_type": "code",
      "source": [
        "# Examinando se os registros foram alterados\n",
        "# pd.unique(df.traducao)"
      ],
      "metadata": {
        "id": "cU-SFkb14MWN"
      },
      "execution_count": null,
      "outputs": []
    },
    {
      "cell_type": "markdown",
      "source": [
        "## **Qualidade e integridade dos dados**"
      ],
      "metadata": {
        "id": "j6krOtKKvkR-"
      }
    },
    {
      "cell_type": "markdown",
      "source": [
        "### **Validação da estrutura dos dados (schema)**"
      ],
      "metadata": {
        "id": "S03P8PdZwETm"
      }
    },
    {
      "cell_type": "code",
      "source": [
        "df_fator_cap.count()"
      ],
      "metadata": {
        "id": "P7pwu5CMNB6q"
      },
      "execution_count": null,
      "outputs": []
    },
    {
      "cell_type": "code",
      "source": [
        "df_fator_cap_backup.info()"
      ],
      "metadata": {
        "id": "y3PyHGx48r6z"
      },
      "execution_count": null,
      "outputs": []
    },
    {
      "cell_type": "code",
      "source": [
        "# Definindo o esquema de validação e o examinando\n",
        "schema = pa.DataFrameSchema({\n",
        "    'ano': pa.Column(pa.DateTime),\n",
        "    'grupo': pa.Column(pa.String),\n",
        "    'total': pa.Column(pa.Float)\n",
        "})\n",
        "\n",
        "schema.validate(df_fator_cap_backup)"
      ],
      "metadata": {
        "id": "pSPVby2swCzm",
        "colab": {
          "base_uri": "https://localhost:8080/",
          "height": 424
        },
        "outputId": "95264eba-6140-4a88-9e33-bd51d50679c8"
      },
      "execution_count": null,
      "outputs": [
        {
          "output_type": "execute_result",
          "data": {
            "text/plain": [
              "           ano                  grupo          total\n",
              "0   2013-01-01               Biomassa   11449.195087\n",
              "1   2013-01-01                    CGH     266.387413\n",
              "2   2013-01-01                 Carvão    3389.465000\n",
              "3   2013-01-01  Derivados de Petróleo    7515.175863\n",
              "4   2013-01-01            Gás Natural   12300.288650\n",
              "..         ...                    ...            ...\n",
              "115 2018-01-01                  Total  162840.079840\n",
              "116 2019-01-01                  Total  170118.022150\n",
              "117 2020-01-01                  Total  174736.512910\n",
              "118 2021-01-01                  Total  181609.727950\n",
              "119 2022-01-01                  Total  189126.593530\n",
              "\n",
              "[120 rows x 3 columns]"
            ],
            "text/html": [
              "\n",
              "\n",
              "  <div id=\"df-b9b68406-ef43-455f-9c96-1fd2848fed60\">\n",
              "    <div class=\"colab-df-container\">\n",
              "      <div>\n",
              "<style scoped>\n",
              "    .dataframe tbody tr th:only-of-type {\n",
              "        vertical-align: middle;\n",
              "    }\n",
              "\n",
              "    .dataframe tbody tr th {\n",
              "        vertical-align: top;\n",
              "    }\n",
              "\n",
              "    .dataframe thead th {\n",
              "        text-align: right;\n",
              "    }\n",
              "</style>\n",
              "<table border=\"1\" class=\"dataframe\">\n",
              "  <thead>\n",
              "    <tr style=\"text-align: right;\">\n",
              "      <th></th>\n",
              "      <th>ano</th>\n",
              "      <th>grupo</th>\n",
              "      <th>total</th>\n",
              "    </tr>\n",
              "  </thead>\n",
              "  <tbody>\n",
              "    <tr>\n",
              "      <th>0</th>\n",
              "      <td>2013-01-01</td>\n",
              "      <td>Biomassa</td>\n",
              "      <td>11449.195087</td>\n",
              "    </tr>\n",
              "    <tr>\n",
              "      <th>1</th>\n",
              "      <td>2013-01-01</td>\n",
              "      <td>CGH</td>\n",
              "      <td>266.387413</td>\n",
              "    </tr>\n",
              "    <tr>\n",
              "      <th>2</th>\n",
              "      <td>2013-01-01</td>\n",
              "      <td>Carvão</td>\n",
              "      <td>3389.465000</td>\n",
              "    </tr>\n",
              "    <tr>\n",
              "      <th>3</th>\n",
              "      <td>2013-01-01</td>\n",
              "      <td>Derivados de Petróleo</td>\n",
              "      <td>7515.175863</td>\n",
              "    </tr>\n",
              "    <tr>\n",
              "      <th>4</th>\n",
              "      <td>2013-01-01</td>\n",
              "      <td>Gás Natural</td>\n",
              "      <td>12300.288650</td>\n",
              "    </tr>\n",
              "    <tr>\n",
              "      <th>...</th>\n",
              "      <td>...</td>\n",
              "      <td>...</td>\n",
              "      <td>...</td>\n",
              "    </tr>\n",
              "    <tr>\n",
              "      <th>115</th>\n",
              "      <td>2018-01-01</td>\n",
              "      <td>Total</td>\n",
              "      <td>162840.079840</td>\n",
              "    </tr>\n",
              "    <tr>\n",
              "      <th>116</th>\n",
              "      <td>2019-01-01</td>\n",
              "      <td>Total</td>\n",
              "      <td>170118.022150</td>\n",
              "    </tr>\n",
              "    <tr>\n",
              "      <th>117</th>\n",
              "      <td>2020-01-01</td>\n",
              "      <td>Total</td>\n",
              "      <td>174736.512910</td>\n",
              "    </tr>\n",
              "    <tr>\n",
              "      <th>118</th>\n",
              "      <td>2021-01-01</td>\n",
              "      <td>Total</td>\n",
              "      <td>181609.727950</td>\n",
              "    </tr>\n",
              "    <tr>\n",
              "      <th>119</th>\n",
              "      <td>2022-01-01</td>\n",
              "      <td>Total</td>\n",
              "      <td>189126.593530</td>\n",
              "    </tr>\n",
              "  </tbody>\n",
              "</table>\n",
              "<p>120 rows × 3 columns</p>\n",
              "</div>\n",
              "      <button class=\"colab-df-convert\" onclick=\"convertToInteractive('df-b9b68406-ef43-455f-9c96-1fd2848fed60')\"\n",
              "              title=\"Convert this dataframe to an interactive table.\"\n",
              "              style=\"display:none;\">\n",
              "\n",
              "  <svg xmlns=\"http://www.w3.org/2000/svg\" height=\"24px\"viewBox=\"0 0 24 24\"\n",
              "       width=\"24px\">\n",
              "    <path d=\"M0 0h24v24H0V0z\" fill=\"none\"/>\n",
              "    <path d=\"M18.56 5.44l.94 2.06.94-2.06 2.06-.94-2.06-.94-.94-2.06-.94 2.06-2.06.94zm-11 1L8.5 8.5l.94-2.06 2.06-.94-2.06-.94L8.5 2.5l-.94 2.06-2.06.94zm10 10l.94 2.06.94-2.06 2.06-.94-2.06-.94-.94-2.06-.94 2.06-2.06.94z\"/><path d=\"M17.41 7.96l-1.37-1.37c-.4-.4-.92-.59-1.43-.59-.52 0-1.04.2-1.43.59L10.3 9.45l-7.72 7.72c-.78.78-.78 2.05 0 2.83L4 21.41c.39.39.9.59 1.41.59.51 0 1.02-.2 1.41-.59l7.78-7.78 2.81-2.81c.8-.78.8-2.07 0-2.86zM5.41 20L4 18.59l7.72-7.72 1.47 1.35L5.41 20z\"/>\n",
              "  </svg>\n",
              "      </button>\n",
              "\n",
              "\n",
              "\n",
              "    <div id=\"df-169bda8a-c334-417e-973c-1a589363cfa7\">\n",
              "      <button class=\"colab-df-quickchart\" onclick=\"quickchart('df-169bda8a-c334-417e-973c-1a589363cfa7')\"\n",
              "              title=\"Suggest charts.\"\n",
              "              style=\"display:none;\">\n",
              "\n",
              "<svg xmlns=\"http://www.w3.org/2000/svg\" height=\"24px\"viewBox=\"0 0 24 24\"\n",
              "     width=\"24px\">\n",
              "    <g>\n",
              "        <path d=\"M19 3H5c-1.1 0-2 .9-2 2v14c0 1.1.9 2 2 2h14c1.1 0 2-.9 2-2V5c0-1.1-.9-2-2-2zM9 17H7v-7h2v7zm4 0h-2V7h2v10zm4 0h-2v-4h2v4z\"/>\n",
              "    </g>\n",
              "</svg>\n",
              "      </button>\n",
              "    </div>\n",
              "\n",
              "<style>\n",
              "  .colab-df-quickchart {\n",
              "    background-color: #E8F0FE;\n",
              "    border: none;\n",
              "    border-radius: 50%;\n",
              "    cursor: pointer;\n",
              "    display: none;\n",
              "    fill: #1967D2;\n",
              "    height: 32px;\n",
              "    padding: 0 0 0 0;\n",
              "    width: 32px;\n",
              "  }\n",
              "\n",
              "  .colab-df-quickchart:hover {\n",
              "    background-color: #E2EBFA;\n",
              "    box-shadow: 0px 1px 2px rgba(60, 64, 67, 0.3), 0px 1px 3px 1px rgba(60, 64, 67, 0.15);\n",
              "    fill: #174EA6;\n",
              "  }\n",
              "\n",
              "  [theme=dark] .colab-df-quickchart {\n",
              "    background-color: #3B4455;\n",
              "    fill: #D2E3FC;\n",
              "  }\n",
              "\n",
              "  [theme=dark] .colab-df-quickchart:hover {\n",
              "    background-color: #434B5C;\n",
              "    box-shadow: 0px 1px 3px 1px rgba(0, 0, 0, 0.15);\n",
              "    filter: drop-shadow(0px 1px 2px rgba(0, 0, 0, 0.3));\n",
              "    fill: #FFFFFF;\n",
              "  }\n",
              "</style>\n",
              "\n",
              "    <script>\n",
              "      async function quickchart(key) {\n",
              "        const containerElement = document.querySelector('#' + key);\n",
              "        const charts = await google.colab.kernel.invokeFunction(\n",
              "            'suggestCharts', [key], {});\n",
              "      }\n",
              "    </script>\n",
              "\n",
              "      <script>\n",
              "\n",
              "function displayQuickchartButton(domScope) {\n",
              "  let quickchartButtonEl =\n",
              "    domScope.querySelector('#df-169bda8a-c334-417e-973c-1a589363cfa7 button.colab-df-quickchart');\n",
              "  quickchartButtonEl.style.display =\n",
              "    google.colab.kernel.accessAllowed ? 'block' : 'none';\n",
              "}\n",
              "\n",
              "        displayQuickchartButton(document);\n",
              "      </script>\n",
              "      <style>\n",
              "    .colab-df-container {\n",
              "      display:flex;\n",
              "      flex-wrap:wrap;\n",
              "      gap: 12px;\n",
              "    }\n",
              "\n",
              "    .colab-df-convert {\n",
              "      background-color: #E8F0FE;\n",
              "      border: none;\n",
              "      border-radius: 50%;\n",
              "      cursor: pointer;\n",
              "      display: none;\n",
              "      fill: #1967D2;\n",
              "      height: 32px;\n",
              "      padding: 0 0 0 0;\n",
              "      width: 32px;\n",
              "    }\n",
              "\n",
              "    .colab-df-convert:hover {\n",
              "      background-color: #E2EBFA;\n",
              "      box-shadow: 0px 1px 2px rgba(60, 64, 67, 0.3), 0px 1px 3px 1px rgba(60, 64, 67, 0.15);\n",
              "      fill: #174EA6;\n",
              "    }\n",
              "\n",
              "    [theme=dark] .colab-df-convert {\n",
              "      background-color: #3B4455;\n",
              "      fill: #D2E3FC;\n",
              "    }\n",
              "\n",
              "    [theme=dark] .colab-df-convert:hover {\n",
              "      background-color: #434B5C;\n",
              "      box-shadow: 0px 1px 3px 1px rgba(0, 0, 0, 0.15);\n",
              "      filter: drop-shadow(0px 1px 2px rgba(0, 0, 0, 0.3));\n",
              "      fill: #FFFFFF;\n",
              "    }\n",
              "  </style>\n",
              "\n",
              "      <script>\n",
              "        const buttonEl =\n",
              "          document.querySelector('#df-b9b68406-ef43-455f-9c96-1fd2848fed60 button.colab-df-convert');\n",
              "        buttonEl.style.display =\n",
              "          google.colab.kernel.accessAllowed ? 'block' : 'none';\n",
              "\n",
              "        async function convertToInteractive(key) {\n",
              "          const element = document.querySelector('#df-b9b68406-ef43-455f-9c96-1fd2848fed60');\n",
              "          const dataTable =\n",
              "            await google.colab.kernel.invokeFunction('convertToInteractive',\n",
              "                                                     [key], {});\n",
              "          if (!dataTable) return;\n",
              "\n",
              "          const docLinkHtml = 'Like what you see? Visit the ' +\n",
              "            '<a target=\"_blank\" href=https://colab.research.google.com/notebooks/data_table.ipynb>data table notebook</a>'\n",
              "            + ' to learn more about interactive tables.';\n",
              "          element.innerHTML = '';\n",
              "          dataTable['output_type'] = 'display_data';\n",
              "          await google.colab.output.renderOutput(dataTable, element);\n",
              "          const docLink = document.createElement('div');\n",
              "          docLink.innerHTML = docLinkHtml;\n",
              "          element.appendChild(docLink);\n",
              "        }\n",
              "      </script>\n",
              "    </div>\n",
              "  </div>\n"
            ]
          },
          "metadata": {},
          "execution_count": 61
        }
      ]
    },
    {
      "cell_type": "markdown",
      "source": [
        "## **Colunas Persistidas**\n",
        "\n",
        "ATUALIZAR!!!!!!!!!!!!!!!!!!!!!!!!!!!\n"
      ],
      "metadata": {
        "id": "JqXejczoZybS"
      }
    },
    {
      "cell_type": "markdown",
      "source": [
        "* ATUALIZAR!!!!!!\n"
      ],
      "metadata": {
        "id": "mNOCmwZecd8v"
      }
    },
    {
      "cell_type": "markdown",
      "source": [
        "## Backup - Copia de segurança"
      ],
      "metadata": {
        "id": "59UEX6yQCrqX"
      }
    },
    {
      "cell_type": "code",
      "source": [
        "# Backup para analise\n",
        "df_fator_cap_tratado = df_fator_cap_backup.copy()"
      ],
      "metadata": {
        "id": "kPn9PJEFvtWW"
      },
      "execution_count": null,
      "outputs": []
    },
    {
      "cell_type": "markdown",
      "source": [
        "# Carregamento\n",
        "Depois que os dados são extraídos e transformados adequadamente, eles estarão prontos para as análise, mas antes disso eles precisam ser carregados em um local de armazenamento adequado. Podendo ser um banco de dados SQL ou NoSQL, um sistema de armazenamento em nuvem, e para o caso de disponibilizar o projeto publicamente é ideal que ele seja colocar em uma pasta de datasets, diferenciando o arquivo bruto e o tratado."
      ],
      "metadata": {
        "id": "0hT5rrbf2Xrw"
      }
    },
    {
      "cell_type": "code",
      "source": [
        "# Upando para o Google Cloud\n",
        "\n",
        "df_fator_cap_tratado.to_csv('gs://projeto-final-ad2-e8/dados/tratados/dataset_tratados_xlsx/2_2_cap_instalada_de_geracao_eletrica_por_fonte_mw.xlsx', index=False)\n"
      ],
      "metadata": {
        "id": "ya7oNjhIlxeF"
      },
      "execution_count": null,
      "outputs": []
    },
    {
      "cell_type": "markdown",
      "source": [
        "# Análise exploratória de dados.\n",
        "- Descrição de dados: identificação dos tipos de variáveis, dimensões dos dados, valores extremos e estatísticas descritivas.\n",
        "- Visualização dos dados: criação de gráficos, tabelas e outros tipos de visualização para entender a distribuição e a relação entre as variáveis.\n",
        "- Identificação de padrões: identificação de padrões, tendências, correlações e outras relações entre as variáveis.\n",
        "- Testes estatísticos: aplicação de testes estatísticos para confirmar ou refutar hipóteses sobre os dados."
      ],
      "metadata": {
        "id": "vWZSnA7a323p"
      }
    },
    {
      "cell_type": "markdown",
      "source": [
        "## Instalações de bibliotecas\n",
        "bibliotecas necessárias para a análise de dados que não haviam sido importadas anteriormente."
      ],
      "metadata": {
        "id": "61BpULdxB4eG"
      }
    },
    {
      "cell_type": "code",
      "source": [],
      "metadata": {
        "id": "qdgH_yzGCDQv"
      },
      "execution_count": null,
      "outputs": []
    },
    {
      "cell_type": "markdown",
      "source": [
        "## **Estatisticas**"
      ],
      "metadata": {
        "id": "deA1beF7EVJa"
      }
    },
    {
      "cell_type": "code",
      "source": [
        "# Resumo de estatisticas descritivas\n",
        "df_fator_cap_tratado.describe().round(2)"
      ],
      "metadata": {
        "id": "xt3WC7BzNrvJ",
        "colab": {
          "base_uri": "https://localhost:8080/",
          "height": 300
        },
        "outputId": "d5896d8b-fe9d-491e-c92c-8f56856af32b"
      },
      "execution_count": null,
      "outputs": [
        {
          "output_type": "execute_result",
          "data": {
            "text/plain": [
              "           total\n",
              "count     120.00\n",
              "mean    26456.58\n",
              "std     47604.88\n",
              "min         5.00\n",
              "25%      2181.87\n",
              "50%      5587.53\n",
              "75%     14758.54\n",
              "max    189126.59"
            ],
            "text/html": [
              "\n",
              "\n",
              "  <div id=\"df-d57b2ced-177b-4c55-8498-fb41f2b6b56d\">\n",
              "    <div class=\"colab-df-container\">\n",
              "      <div>\n",
              "<style scoped>\n",
              "    .dataframe tbody tr th:only-of-type {\n",
              "        vertical-align: middle;\n",
              "    }\n",
              "\n",
              "    .dataframe tbody tr th {\n",
              "        vertical-align: top;\n",
              "    }\n",
              "\n",
              "    .dataframe thead th {\n",
              "        text-align: right;\n",
              "    }\n",
              "</style>\n",
              "<table border=\"1\" class=\"dataframe\">\n",
              "  <thead>\n",
              "    <tr style=\"text-align: right;\">\n",
              "      <th></th>\n",
              "      <th>total</th>\n",
              "    </tr>\n",
              "  </thead>\n",
              "  <tbody>\n",
              "    <tr>\n",
              "      <th>count</th>\n",
              "      <td>120.00</td>\n",
              "    </tr>\n",
              "    <tr>\n",
              "      <th>mean</th>\n",
              "      <td>26456.58</td>\n",
              "    </tr>\n",
              "    <tr>\n",
              "      <th>std</th>\n",
              "      <td>47604.88</td>\n",
              "    </tr>\n",
              "    <tr>\n",
              "      <th>min</th>\n",
              "      <td>5.00</td>\n",
              "    </tr>\n",
              "    <tr>\n",
              "      <th>25%</th>\n",
              "      <td>2181.87</td>\n",
              "    </tr>\n",
              "    <tr>\n",
              "      <th>50%</th>\n",
              "      <td>5587.53</td>\n",
              "    </tr>\n",
              "    <tr>\n",
              "      <th>75%</th>\n",
              "      <td>14758.54</td>\n",
              "    </tr>\n",
              "    <tr>\n",
              "      <th>max</th>\n",
              "      <td>189126.59</td>\n",
              "    </tr>\n",
              "  </tbody>\n",
              "</table>\n",
              "</div>\n",
              "      <button class=\"colab-df-convert\" onclick=\"convertToInteractive('df-d57b2ced-177b-4c55-8498-fb41f2b6b56d')\"\n",
              "              title=\"Convert this dataframe to an interactive table.\"\n",
              "              style=\"display:none;\">\n",
              "\n",
              "  <svg xmlns=\"http://www.w3.org/2000/svg\" height=\"24px\"viewBox=\"0 0 24 24\"\n",
              "       width=\"24px\">\n",
              "    <path d=\"M0 0h24v24H0V0z\" fill=\"none\"/>\n",
              "    <path d=\"M18.56 5.44l.94 2.06.94-2.06 2.06-.94-2.06-.94-.94-2.06-.94 2.06-2.06.94zm-11 1L8.5 8.5l.94-2.06 2.06-.94-2.06-.94L8.5 2.5l-.94 2.06-2.06.94zm10 10l.94 2.06.94-2.06 2.06-.94-2.06-.94-.94-2.06-.94 2.06-2.06.94z\"/><path d=\"M17.41 7.96l-1.37-1.37c-.4-.4-.92-.59-1.43-.59-.52 0-1.04.2-1.43.59L10.3 9.45l-7.72 7.72c-.78.78-.78 2.05 0 2.83L4 21.41c.39.39.9.59 1.41.59.51 0 1.02-.2 1.41-.59l7.78-7.78 2.81-2.81c.8-.78.8-2.07 0-2.86zM5.41 20L4 18.59l7.72-7.72 1.47 1.35L5.41 20z\"/>\n",
              "  </svg>\n",
              "      </button>\n",
              "\n",
              "\n",
              "\n",
              "    <div id=\"df-b9d4ea6c-66c0-4d5d-a054-7c694d8689a0\">\n",
              "      <button class=\"colab-df-quickchart\" onclick=\"quickchart('df-b9d4ea6c-66c0-4d5d-a054-7c694d8689a0')\"\n",
              "              title=\"Suggest charts.\"\n",
              "              style=\"display:none;\">\n",
              "\n",
              "<svg xmlns=\"http://www.w3.org/2000/svg\" height=\"24px\"viewBox=\"0 0 24 24\"\n",
              "     width=\"24px\">\n",
              "    <g>\n",
              "        <path d=\"M19 3H5c-1.1 0-2 .9-2 2v14c0 1.1.9 2 2 2h14c1.1 0 2-.9 2-2V5c0-1.1-.9-2-2-2zM9 17H7v-7h2v7zm4 0h-2V7h2v10zm4 0h-2v-4h2v4z\"/>\n",
              "    </g>\n",
              "</svg>\n",
              "      </button>\n",
              "    </div>\n",
              "\n",
              "<style>\n",
              "  .colab-df-quickchart {\n",
              "    background-color: #E8F0FE;\n",
              "    border: none;\n",
              "    border-radius: 50%;\n",
              "    cursor: pointer;\n",
              "    display: none;\n",
              "    fill: #1967D2;\n",
              "    height: 32px;\n",
              "    padding: 0 0 0 0;\n",
              "    width: 32px;\n",
              "  }\n",
              "\n",
              "  .colab-df-quickchart:hover {\n",
              "    background-color: #E2EBFA;\n",
              "    box-shadow: 0px 1px 2px rgba(60, 64, 67, 0.3), 0px 1px 3px 1px rgba(60, 64, 67, 0.15);\n",
              "    fill: #174EA6;\n",
              "  }\n",
              "\n",
              "  [theme=dark] .colab-df-quickchart {\n",
              "    background-color: #3B4455;\n",
              "    fill: #D2E3FC;\n",
              "  }\n",
              "\n",
              "  [theme=dark] .colab-df-quickchart:hover {\n",
              "    background-color: #434B5C;\n",
              "    box-shadow: 0px 1px 3px 1px rgba(0, 0, 0, 0.15);\n",
              "    filter: drop-shadow(0px 1px 2px rgba(0, 0, 0, 0.3));\n",
              "    fill: #FFFFFF;\n",
              "  }\n",
              "</style>\n",
              "\n",
              "    <script>\n",
              "      async function quickchart(key) {\n",
              "        const containerElement = document.querySelector('#' + key);\n",
              "        const charts = await google.colab.kernel.invokeFunction(\n",
              "            'suggestCharts', [key], {});\n",
              "      }\n",
              "    </script>\n",
              "\n",
              "      <script>\n",
              "\n",
              "function displayQuickchartButton(domScope) {\n",
              "  let quickchartButtonEl =\n",
              "    domScope.querySelector('#df-b9d4ea6c-66c0-4d5d-a054-7c694d8689a0 button.colab-df-quickchart');\n",
              "  quickchartButtonEl.style.display =\n",
              "    google.colab.kernel.accessAllowed ? 'block' : 'none';\n",
              "}\n",
              "\n",
              "        displayQuickchartButton(document);\n",
              "      </script>\n",
              "      <style>\n",
              "    .colab-df-container {\n",
              "      display:flex;\n",
              "      flex-wrap:wrap;\n",
              "      gap: 12px;\n",
              "    }\n",
              "\n",
              "    .colab-df-convert {\n",
              "      background-color: #E8F0FE;\n",
              "      border: none;\n",
              "      border-radius: 50%;\n",
              "      cursor: pointer;\n",
              "      display: none;\n",
              "      fill: #1967D2;\n",
              "      height: 32px;\n",
              "      padding: 0 0 0 0;\n",
              "      width: 32px;\n",
              "    }\n",
              "\n",
              "    .colab-df-convert:hover {\n",
              "      background-color: #E2EBFA;\n",
              "      box-shadow: 0px 1px 2px rgba(60, 64, 67, 0.3), 0px 1px 3px 1px rgba(60, 64, 67, 0.15);\n",
              "      fill: #174EA6;\n",
              "    }\n",
              "\n",
              "    [theme=dark] .colab-df-convert {\n",
              "      background-color: #3B4455;\n",
              "      fill: #D2E3FC;\n",
              "    }\n",
              "\n",
              "    [theme=dark] .colab-df-convert:hover {\n",
              "      background-color: #434B5C;\n",
              "      box-shadow: 0px 1px 3px 1px rgba(0, 0, 0, 0.15);\n",
              "      filter: drop-shadow(0px 1px 2px rgba(0, 0, 0, 0.3));\n",
              "      fill: #FFFFFF;\n",
              "    }\n",
              "  </style>\n",
              "\n",
              "      <script>\n",
              "        const buttonEl =\n",
              "          document.querySelector('#df-d57b2ced-177b-4c55-8498-fb41f2b6b56d button.colab-df-convert');\n",
              "        buttonEl.style.display =\n",
              "          google.colab.kernel.accessAllowed ? 'block' : 'none';\n",
              "\n",
              "        async function convertToInteractive(key) {\n",
              "          const element = document.querySelector('#df-d57b2ced-177b-4c55-8498-fb41f2b6b56d');\n",
              "          const dataTable =\n",
              "            await google.colab.kernel.invokeFunction('convertToInteractive',\n",
              "                                                     [key], {});\n",
              "          if (!dataTable) return;\n",
              "\n",
              "          const docLinkHtml = 'Like what you see? Visit the ' +\n",
              "            '<a target=\"_blank\" href=https://colab.research.google.com/notebooks/data_table.ipynb>data table notebook</a>'\n",
              "            + ' to learn more about interactive tables.';\n",
              "          element.innerHTML = '';\n",
              "          dataTable['output_type'] = 'display_data';\n",
              "          await google.colab.output.renderOutput(dataTable, element);\n",
              "          const docLink = document.createElement('div');\n",
              "          docLink.innerHTML = docLinkHtml;\n",
              "          element.appendChild(docLink);\n",
              "        }\n",
              "      </script>\n",
              "    </div>\n",
              "  </div>\n"
            ]
          },
          "metadata": {},
          "execution_count": 67
        }
      ]
    },
    {
      "cell_type": "code",
      "source": [
        "# Correlações de todas colunas quantitativas\n",
        "df_fator_cap_tratado.corr()"
      ],
      "metadata": {
        "id": "vIN71lGPNwzz"
      },
      "execution_count": null,
      "outputs": []
    },
    {
      "cell_type": "code",
      "source": [
        "# Distribuição de frequencia\n",
        "def distfreq(dados, classes=None):\n",
        "    # Verifica se o número de classes foi fornecido como parâmetro, caso\n",
        "    # contrário, determina automaticamente. Se o número de dados for menor\n",
        "    # ou igual a 25, define 5 classes, caso contrário, a quantidade de classes\n",
        "    # será a raiz quadrada do número de de dados\n",
        "    if classes is None:\n",
        "        if len(dados) <= 25:\n",
        "            classes = 5\n",
        "        else:\n",
        "            classes = round(len(dados) ** 0.5 + 0.5)\n",
        "    else:\n",
        "        pass\n",
        "\n",
        "    # Ordena os dados em ordem crescente\n",
        "    dados = sorted(dados)\n",
        "    # Calcula a amplitude (diferença entre o maior e o menor valor)\n",
        "    amplitude = max(dados) - min(dados)\n",
        "    # Calcula o intervalo entre as classes\n",
        "    intervalo = amplitude / classes\n",
        "    # Cria uma lista para armazenar os limites dos intervalos\n",
        "    intervalos = [dados[0]]\n",
        "    for i in range(classes):\n",
        "        intervalos.append((intervalos[i] + intervalo))\n",
        "\n",
        "    # Imprime o cabeçalho da tabela\n",
        "    print(\"-\" * 100)\n",
        "    print(f'{\"Valores\":^19}|{\"Frequência\":^19}|{\"Freq. Acumulada\":^19}|'\n",
        "        + f'{\"Frequência %\":^19}|{\"Freq. Acumulada %\":^19}')\n",
        "    print(\"-\" * 100)\n",
        "\n",
        "    a = 0\n",
        "    b = 0\n",
        "\n",
        "    # Laço para calcular as frequências para cada classe\n",
        "    for i in range(classes):\n",
        "        a = 0\n",
        "        teste = f'{intervalos[i]:.2f} ---- {intervalos[i+1]:.2f}'\n",
        "\n",
        "        # Laço para contar quantos valores estão dentro do intervalo atual\n",
        "        for j in range(len(dados)):\n",
        "            if dados[j] < intervalos[i + 1] + 0.000001:\n",
        "                a = a + 1\n",
        "            else:\n",
        "                pass\n",
        "\n",
        "        # Imprime os valores da classe atual e suas frequências\n",
        "        print(f'{teste:^19}|{a - b:^19}|{a:^19}|{((a - b) / len(dados)):^19.2%}|{((a) / len(dados)):^19.2%}')\n",
        "\n",
        "        # Atualiza o valor de b para a próxima iteração\n",
        "        b = a\n",
        "\n",
        "        # Imprime uma linha separadora\n",
        "        print(\"-\" * 100)\n",
        "\n",
        "    # Imprime o final da tabela discriminando o total geral\n",
        "    print(f'{\"Total Geral\":^19}|{a:^19}|{\"\":^19}|{\"100,00%\":^19}|{\"\":^19}')\n",
        "    print(\"-\"*100)\n",
        "    return"
      ],
      "metadata": {
        "id": "WOlYb1l4CbPO"
      },
      "execution_count": null,
      "outputs": []
    },
    {
      "cell_type": "code",
      "source": [
        "# distfreq(df.loc[df.cidade == 'Londres']['preco_total'],154)"
      ],
      "metadata": {
        "id": "qUOgo6LObFbj"
      },
      "execution_count": null,
      "outputs": []
    },
    {
      "cell_type": "markdown",
      "source": [
        "### Filtros e agrupamentos\n",
        "Criar novas variáveis com base nos dados originais para permitir uma análise mais detalhada e avançada."
      ],
      "metadata": {
        "id": "-bEZz8EE2JGS"
      }
    },
    {
      "cell_type": "code",
      "source": [
        "# Filtros, agrupamentos"
      ],
      "metadata": {
        "id": "ZSGN7scp2XZ5"
      },
      "execution_count": null,
      "outputs": []
    },
    {
      "cell_type": "code",
      "source": [
        "filtro_2_2_Total = df_fator_cap_tratado.loc[df_fator_cap_tratado.grupo == 'Total']\n",
        "filtro_2_2_Total"
      ],
      "metadata": {
        "id": "_a4jYL7ngy6X"
      },
      "execution_count": null,
      "outputs": []
    },
    {
      "cell_type": "code",
      "source": [
        "filtro_2_2_sem_total = df_fator_cap_tratado.loc[df_fator_cap_tratado.grupo != 'Total']\n",
        "filtro_2_2_sem_total"
      ],
      "metadata": {
        "id": "mGUMVkxoiFh_"
      },
      "execution_count": null,
      "outputs": []
    },
    {
      "cell_type": "code",
      "source": [
        "filtro_2_2_sem_total[['grupo', 'total']]"
      ],
      "metadata": {
        "id": "kqprBqU3roBz"
      },
      "execution_count": null,
      "outputs": []
    },
    {
      "cell_type": "code",
      "source": [
        "filtro_2_2_sem_total.loc[:,['ano', 'grupo']]"
      ],
      "metadata": {
        "id": "FJokYNjnjR75"
      },
      "execution_count": null,
      "outputs": []
    },
    {
      "cell_type": "code",
      "source": [
        "# Quantidade de registros para cada grupo\n",
        "df_2_2_backup.groupby('grupo')['total'].mean().sort_values(ascending=False)"
      ],
      "metadata": {
        "colab": {
          "base_uri": "https://localhost:8080/"
        },
        "id": "HCM7PgstPeR6",
        "outputId": "703ca090-5ba6-4bd3-cb54-d39056eb90f8"
      },
      "execution_count": null,
      "outputs": [
        {
          "output_type": "execute_result",
          "data": {
            "text/plain": [
              "grupo\n",
              "Total                    158739.461997\n",
              "Usinas Hidrelétricas      94826.566534\n",
              "Biomassa                  14101.295956\n",
              "Gás Natural               13855.010616\n",
              "Usinas Eólicas            12854.442838\n",
              "Derivados de Petróleo      7963.079034\n",
              "PCH                        5130.946094\n",
              "Carvão                     3257.530000\n",
              "Outras                     2100.204987\n",
              "Solar                      2057.791581\n",
              "Usinas Nucleares           1990.000000\n",
              "CGH                         602.594357\n",
              "Name: total, dtype: float64"
            ]
          },
          "metadata": {},
          "execution_count": 73
        }
      ]
    },
    {
      "cell_type": "code",
      "source": [
        "# Examinando a comparação de algumas estatisticas\n",
        "estatisticas_usinas = df_fator_cap_tratado.groupby(['grupo']).agg({'total': ['mean', 'median', 'count', 'sum']})\n",
        "estatisticas_usinas.round(2)"
      ],
      "metadata": {
        "colab": {
          "base_uri": "https://localhost:8080/",
          "height": 488
        },
        "id": "1AnaDZerQS8M",
        "outputId": "e733c881-06f9-46c2-8766-ab4fa045f1e2"
      },
      "execution_count": null,
      "outputs": [
        {
          "output_type": "execute_result",
          "data": {
            "text/plain": [
              "                           total                             \n",
              "                            mean     median count         sum\n",
              "grupo                                                        \n",
              "Biomassa                14101.30   14428.67    10   141012.96\n",
              "CGH                       602.59     644.48    10     6025.94\n",
              "Carvão                   3257.53    3275.74    10    32575.30\n",
              "Derivados de Petróleo    7963.08    7682.69    10    79630.79\n",
              "Gás Natural             13855.01   13169.81    10   138550.11\n",
              "Outras                   2100.20    2193.56    10    21002.05\n",
              "PCH                      5130.95    5088.48    10    51309.46\n",
              "Solar                    2057.79    1366.45    10    20577.92\n",
              "Total                  158739.46  159976.13    10  1587394.62\n",
              "Usinas Eólicas          12854.44   13336.77    10   128544.43\n",
              "Usinas Hidrelétricas    94826.57   96474.43    10   948265.67\n",
              "Usinas Nucleares         1990.00    1990.00    10    19900.00"
            ],
            "text/html": [
              "\n",
              "\n",
              "  <div id=\"df-304764a3-84af-45cc-b868-3747dfff84d1\">\n",
              "    <div class=\"colab-df-container\">\n",
              "      <div>\n",
              "<style scoped>\n",
              "    .dataframe tbody tr th:only-of-type {\n",
              "        vertical-align: middle;\n",
              "    }\n",
              "\n",
              "    .dataframe tbody tr th {\n",
              "        vertical-align: top;\n",
              "    }\n",
              "\n",
              "    .dataframe thead tr th {\n",
              "        text-align: left;\n",
              "    }\n",
              "\n",
              "    .dataframe thead tr:last-of-type th {\n",
              "        text-align: right;\n",
              "    }\n",
              "</style>\n",
              "<table border=\"1\" class=\"dataframe\">\n",
              "  <thead>\n",
              "    <tr>\n",
              "      <th></th>\n",
              "      <th colspan=\"4\" halign=\"left\">total</th>\n",
              "    </tr>\n",
              "    <tr>\n",
              "      <th></th>\n",
              "      <th>mean</th>\n",
              "      <th>median</th>\n",
              "      <th>count</th>\n",
              "      <th>sum</th>\n",
              "    </tr>\n",
              "    <tr>\n",
              "      <th>grupo</th>\n",
              "      <th></th>\n",
              "      <th></th>\n",
              "      <th></th>\n",
              "      <th></th>\n",
              "    </tr>\n",
              "  </thead>\n",
              "  <tbody>\n",
              "    <tr>\n",
              "      <th>Biomassa</th>\n",
              "      <td>14101.30</td>\n",
              "      <td>14428.67</td>\n",
              "      <td>10</td>\n",
              "      <td>141012.96</td>\n",
              "    </tr>\n",
              "    <tr>\n",
              "      <th>CGH</th>\n",
              "      <td>602.59</td>\n",
              "      <td>644.48</td>\n",
              "      <td>10</td>\n",
              "      <td>6025.94</td>\n",
              "    </tr>\n",
              "    <tr>\n",
              "      <th>Carvão</th>\n",
              "      <td>3257.53</td>\n",
              "      <td>3275.74</td>\n",
              "      <td>10</td>\n",
              "      <td>32575.30</td>\n",
              "    </tr>\n",
              "    <tr>\n",
              "      <th>Derivados de Petróleo</th>\n",
              "      <td>7963.08</td>\n",
              "      <td>7682.69</td>\n",
              "      <td>10</td>\n",
              "      <td>79630.79</td>\n",
              "    </tr>\n",
              "    <tr>\n",
              "      <th>Gás Natural</th>\n",
              "      <td>13855.01</td>\n",
              "      <td>13169.81</td>\n",
              "      <td>10</td>\n",
              "      <td>138550.11</td>\n",
              "    </tr>\n",
              "    <tr>\n",
              "      <th>Outras</th>\n",
              "      <td>2100.20</td>\n",
              "      <td>2193.56</td>\n",
              "      <td>10</td>\n",
              "      <td>21002.05</td>\n",
              "    </tr>\n",
              "    <tr>\n",
              "      <th>PCH</th>\n",
              "      <td>5130.95</td>\n",
              "      <td>5088.48</td>\n",
              "      <td>10</td>\n",
              "      <td>51309.46</td>\n",
              "    </tr>\n",
              "    <tr>\n",
              "      <th>Solar</th>\n",
              "      <td>2057.79</td>\n",
              "      <td>1366.45</td>\n",
              "      <td>10</td>\n",
              "      <td>20577.92</td>\n",
              "    </tr>\n",
              "    <tr>\n",
              "      <th>Total</th>\n",
              "      <td>158739.46</td>\n",
              "      <td>159976.13</td>\n",
              "      <td>10</td>\n",
              "      <td>1587394.62</td>\n",
              "    </tr>\n",
              "    <tr>\n",
              "      <th>Usinas Eólicas</th>\n",
              "      <td>12854.44</td>\n",
              "      <td>13336.77</td>\n",
              "      <td>10</td>\n",
              "      <td>128544.43</td>\n",
              "    </tr>\n",
              "    <tr>\n",
              "      <th>Usinas Hidrelétricas</th>\n",
              "      <td>94826.57</td>\n",
              "      <td>96474.43</td>\n",
              "      <td>10</td>\n",
              "      <td>948265.67</td>\n",
              "    </tr>\n",
              "    <tr>\n",
              "      <th>Usinas Nucleares</th>\n",
              "      <td>1990.00</td>\n",
              "      <td>1990.00</td>\n",
              "      <td>10</td>\n",
              "      <td>19900.00</td>\n",
              "    </tr>\n",
              "  </tbody>\n",
              "</table>\n",
              "</div>\n",
              "      <button class=\"colab-df-convert\" onclick=\"convertToInteractive('df-304764a3-84af-45cc-b868-3747dfff84d1')\"\n",
              "              title=\"Convert this dataframe to an interactive table.\"\n",
              "              style=\"display:none;\">\n",
              "\n",
              "  <svg xmlns=\"http://www.w3.org/2000/svg\" height=\"24px\"viewBox=\"0 0 24 24\"\n",
              "       width=\"24px\">\n",
              "    <path d=\"M0 0h24v24H0V0z\" fill=\"none\"/>\n",
              "    <path d=\"M18.56 5.44l.94 2.06.94-2.06 2.06-.94-2.06-.94-.94-2.06-.94 2.06-2.06.94zm-11 1L8.5 8.5l.94-2.06 2.06-.94-2.06-.94L8.5 2.5l-.94 2.06-2.06.94zm10 10l.94 2.06.94-2.06 2.06-.94-2.06-.94-.94-2.06-.94 2.06-2.06.94z\"/><path d=\"M17.41 7.96l-1.37-1.37c-.4-.4-.92-.59-1.43-.59-.52 0-1.04.2-1.43.59L10.3 9.45l-7.72 7.72c-.78.78-.78 2.05 0 2.83L4 21.41c.39.39.9.59 1.41.59.51 0 1.02-.2 1.41-.59l7.78-7.78 2.81-2.81c.8-.78.8-2.07 0-2.86zM5.41 20L4 18.59l7.72-7.72 1.47 1.35L5.41 20z\"/>\n",
              "  </svg>\n",
              "      </button>\n",
              "\n",
              "\n",
              "\n",
              "    <div id=\"df-79a3ff41-a81f-495c-ad1c-efca1a426c57\">\n",
              "      <button class=\"colab-df-quickchart\" onclick=\"quickchart('df-79a3ff41-a81f-495c-ad1c-efca1a426c57')\"\n",
              "              title=\"Suggest charts.\"\n",
              "              style=\"display:none;\">\n",
              "\n",
              "<svg xmlns=\"http://www.w3.org/2000/svg\" height=\"24px\"viewBox=\"0 0 24 24\"\n",
              "     width=\"24px\">\n",
              "    <g>\n",
              "        <path d=\"M19 3H5c-1.1 0-2 .9-2 2v14c0 1.1.9 2 2 2h14c1.1 0 2-.9 2-2V5c0-1.1-.9-2-2-2zM9 17H7v-7h2v7zm4 0h-2V7h2v10zm4 0h-2v-4h2v4z\"/>\n",
              "    </g>\n",
              "</svg>\n",
              "      </button>\n",
              "    </div>\n",
              "\n",
              "<style>\n",
              "  .colab-df-quickchart {\n",
              "    background-color: #E8F0FE;\n",
              "    border: none;\n",
              "    border-radius: 50%;\n",
              "    cursor: pointer;\n",
              "    display: none;\n",
              "    fill: #1967D2;\n",
              "    height: 32px;\n",
              "    padding: 0 0 0 0;\n",
              "    width: 32px;\n",
              "  }\n",
              "\n",
              "  .colab-df-quickchart:hover {\n",
              "    background-color: #E2EBFA;\n",
              "    box-shadow: 0px 1px 2px rgba(60, 64, 67, 0.3), 0px 1px 3px 1px rgba(60, 64, 67, 0.15);\n",
              "    fill: #174EA6;\n",
              "  }\n",
              "\n",
              "  [theme=dark] .colab-df-quickchart {\n",
              "    background-color: #3B4455;\n",
              "    fill: #D2E3FC;\n",
              "  }\n",
              "\n",
              "  [theme=dark] .colab-df-quickchart:hover {\n",
              "    background-color: #434B5C;\n",
              "    box-shadow: 0px 1px 3px 1px rgba(0, 0, 0, 0.15);\n",
              "    filter: drop-shadow(0px 1px 2px rgba(0, 0, 0, 0.3));\n",
              "    fill: #FFFFFF;\n",
              "  }\n",
              "</style>\n",
              "\n",
              "    <script>\n",
              "      async function quickchart(key) {\n",
              "        const containerElement = document.querySelector('#' + key);\n",
              "        const charts = await google.colab.kernel.invokeFunction(\n",
              "            'suggestCharts', [key], {});\n",
              "      }\n",
              "    </script>\n",
              "\n",
              "      <script>\n",
              "\n",
              "function displayQuickchartButton(domScope) {\n",
              "  let quickchartButtonEl =\n",
              "    domScope.querySelector('#df-79a3ff41-a81f-495c-ad1c-efca1a426c57 button.colab-df-quickchart');\n",
              "  quickchartButtonEl.style.display =\n",
              "    google.colab.kernel.accessAllowed ? 'block' : 'none';\n",
              "}\n",
              "\n",
              "        displayQuickchartButton(document);\n",
              "      </script>\n",
              "      <style>\n",
              "    .colab-df-container {\n",
              "      display:flex;\n",
              "      flex-wrap:wrap;\n",
              "      gap: 12px;\n",
              "    }\n",
              "\n",
              "    .colab-df-convert {\n",
              "      background-color: #E8F0FE;\n",
              "      border: none;\n",
              "      border-radius: 50%;\n",
              "      cursor: pointer;\n",
              "      display: none;\n",
              "      fill: #1967D2;\n",
              "      height: 32px;\n",
              "      padding: 0 0 0 0;\n",
              "      width: 32px;\n",
              "    }\n",
              "\n",
              "    .colab-df-convert:hover {\n",
              "      background-color: #E2EBFA;\n",
              "      box-shadow: 0px 1px 2px rgba(60, 64, 67, 0.3), 0px 1px 3px 1px rgba(60, 64, 67, 0.15);\n",
              "      fill: #174EA6;\n",
              "    }\n",
              "\n",
              "    [theme=dark] .colab-df-convert {\n",
              "      background-color: #3B4455;\n",
              "      fill: #D2E3FC;\n",
              "    }\n",
              "\n",
              "    [theme=dark] .colab-df-convert:hover {\n",
              "      background-color: #434B5C;\n",
              "      box-shadow: 0px 1px 3px 1px rgba(0, 0, 0, 0.15);\n",
              "      filter: drop-shadow(0px 1px 2px rgba(0, 0, 0, 0.3));\n",
              "      fill: #FFFFFF;\n",
              "    }\n",
              "  </style>\n",
              "\n",
              "      <script>\n",
              "        const buttonEl =\n",
              "          document.querySelector('#df-304764a3-84af-45cc-b868-3747dfff84d1 button.colab-df-convert');\n",
              "        buttonEl.style.display =\n",
              "          google.colab.kernel.accessAllowed ? 'block' : 'none';\n",
              "\n",
              "        async function convertToInteractive(key) {\n",
              "          const element = document.querySelector('#df-304764a3-84af-45cc-b868-3747dfff84d1');\n",
              "          const dataTable =\n",
              "            await google.colab.kernel.invokeFunction('convertToInteractive',\n",
              "                                                     [key], {});\n",
              "          if (!dataTable) return;\n",
              "\n",
              "          const docLinkHtml = 'Like what you see? Visit the ' +\n",
              "            '<a target=\"_blank\" href=https://colab.research.google.com/notebooks/data_table.ipynb>data table notebook</a>'\n",
              "            + ' to learn more about interactive tables.';\n",
              "          element.innerHTML = '';\n",
              "          dataTable['output_type'] = 'display_data';\n",
              "          await google.colab.output.renderOutput(dataTable, element);\n",
              "          const docLink = document.createElement('div');\n",
              "          docLink.innerHTML = docLinkHtml;\n",
              "          element.appendChild(docLink);\n",
              "        }\n",
              "      </script>\n",
              "    </div>\n",
              "  </div>\n"
            ]
          },
          "metadata": {},
          "execution_count": 77
        }
      ]
    },
    {
      "cell_type": "markdown",
      "source": [
        "# Visualização"
      ],
      "metadata": {
        "id": "_IRmFDtibEJ5"
      }
    },
    {
      "cell_type": "code",
      "source": [
        "!pip install matplotlib"
      ],
      "metadata": {
        "id": "G4uqRpaj4fXm"
      },
      "execution_count": null,
      "outputs": []
    },
    {
      "cell_type": "code",
      "source": [
        "import matplotlib.pyplot as plt"
      ],
      "metadata": {
        "id": "rpR_TSoZ4jkO"
      },
      "execution_count": null,
      "outputs": []
    },
    {
      "cell_type": "code",
      "source": [
        "# Grafico que visualiza qual 'tipo de quarto' esta incluido em listagens com preços altos\n",
        "df_2_2_backup.groupby('grupo').plot.barh()\n",
        "plt.xlabel('ano')\n",
        "plt.ylabel('total')\n",
        "plt.title('Teste')\n",
        "plt.show()"
      ],
      "metadata": {
        "id": "7ekIeOw65qzv"
      },
      "execution_count": null,
      "outputs": []
    },
    {
      "cell_type": "markdown",
      "source": [
        "# Conclusão\n",
        "Resumo das principais conclusões e insights obtidos a partir da análise exploratória, sugestões para próximos passos da análise ou possíveis ações a serem tomadas."
      ],
      "metadata": {
        "id": "mGQ05qUq6O-Q"
      }
    },
    {
      "cell_type": "code",
      "source": [],
      "metadata": {
        "id": "BtkBYIPIbS0s"
      },
      "execution_count": null,
      "outputs": []
    }
  ]
}
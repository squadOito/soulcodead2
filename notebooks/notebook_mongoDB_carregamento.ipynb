{
  "nbformat": 4,
  "nbformat_minor": 0,
  "metadata": {
    "colab": {
      "provenance": [],
      "toc_visible": true,
      "include_colab_link": true
    },
    "kernelspec": {
      "name": "python3",
      "display_name": "Python 3"
    },
    "language_info": {
      "name": "python"
    }
  },
  "cells": [
    {
      "cell_type": "markdown",
      "metadata": {
        "id": "view-in-github",
        "colab_type": "text"
      },
      "source": [
        "<a href=\"https://colab.research.google.com/github/squadOito/soulcodead2/blob/joseaureliok%2Fnotebook/notebooks/notebook_mongoDB_carregamento.ipynb\" target=\"_parent\"><img src=\"https://colab.research.google.com/assets/colab-badge.svg\" alt=\"Open In Colab\"/></a>"
      ]
    },
    {
      "cell_type": "markdown",
      "source": [
        "## **Projeto Final**\n",
        "Escola: SoulCode Academy\n",
        "\n",
        "Curso: Bootcamp Analista de Dados - Martech - AD2\n",
        "\n",
        "**Alunos: Nomes, Nomes**\n",
        "\n",
        "Professores: Douglas Ribeiro e Franciane Rodrigues"
      ],
      "metadata": {
        "id": "8AvV2uVhNLpj"
      }
    },
    {
      "cell_type": "markdown",
      "source": [
        "## Preparação de Ambiente"
      ],
      "metadata": {
        "id": "L7abbfpEBjvV"
      }
    },
    {
      "cell_type": "code",
      "execution_count": 1,
      "metadata": {
        "id": "cGTV4K2w0xhZ",
        "colab": {
          "base_uri": "https://localhost:8080/"
        },
        "outputId": "7e91085b-9d13-48b0-dcd5-1da6a751f09e"
      },
      "outputs": [
        {
          "output_type": "stream",
          "name": "stdout",
          "text": [
            "\u001b[?25l     \u001b[90m━━━━━━━━━━━━━━━━━━━━━━━━━━━━━━━━━━━━━━━━\u001b[0m \u001b[32m0.0/603.6 kB\u001b[0m \u001b[31m?\u001b[0m eta \u001b[36m-:--:--\u001b[0m\r\u001b[2K     \u001b[91m━━━━━━━━━\u001b[0m\u001b[91m╸\u001b[0m\u001b[90m━━━━━━━━━━━━━━━━━━━━━━━━━━━━━\u001b[0m \u001b[32m153.6/603.6 kB\u001b[0m \u001b[31m4.5 MB/s\u001b[0m eta \u001b[36m0:00:01\u001b[0m\r\u001b[2K     \u001b[91m━━━━━━━━━━━━━━━━━━━━━━━━━━━━━━━━━━━━━\u001b[0m\u001b[90m╺\u001b[0m\u001b[90m━\u001b[0m \u001b[32m573.4/603.6 kB\u001b[0m \u001b[31m8.3 MB/s\u001b[0m eta \u001b[36m0:00:01\u001b[0m\r\u001b[2K     \u001b[90m━━━━━━━━━━━━━━━━━━━━━━━━━━━━━━━━━━━━━━━\u001b[0m \u001b[32m603.6/603.6 kB\u001b[0m \u001b[31m7.0 MB/s\u001b[0m eta \u001b[36m0:00:00\u001b[0m\n",
            "\u001b[?25h\u001b[?25l     \u001b[90m━━━━━━━━━━━━━━━━━━━━━━━━━━━━━━━━━━━━━━━━\u001b[0m \u001b[32m0.0/300.4 kB\u001b[0m \u001b[31m?\u001b[0m eta \u001b[36m-:--:--\u001b[0m\r\u001b[2K     \u001b[90m━━━━━━━━━━━━━━━━━━━━━━━━━━━━━━━━━━━━━━━\u001b[0m \u001b[32m300.4/300.4 kB\u001b[0m \u001b[31m9.3 MB/s\u001b[0m eta \u001b[36m0:00:00\u001b[0m\n",
            "\u001b[?25h"
          ]
        }
      ],
      "source": [
        "# Instalação bibliotecas\n",
        "!pip install -q pymongo\n",
        "!pip install -q gcsfs"
      ]
    },
    {
      "cell_type": "code",
      "source": [
        "# Importação de bibliotecas\n",
        "import os\n",
        "import pandas as pd\n",
        "import numpy as np\n",
        "\n",
        "from google.colab import data_table\n",
        "from google.cloud import storage\n",
        "from google.colab import drive\n",
        "from google.colab import auth\n",
        "from oauth2client.client import GoogleCredentials\n",
        "from pydrive.auth import GoogleAuth\n",
        "from pydrive.drive import GoogleDrive\n",
        "from pymongo import MongoClient"
      ],
      "metadata": {
        "id": "9PyA1knO9Wau"
      },
      "execution_count": 2,
      "outputs": []
    },
    {
      "cell_type": "markdown",
      "source": [
        "### Função Chave"
      ],
      "metadata": {
        "id": "7eOau36HCPyV"
      }
    },
    {
      "cell_type": "code",
      "source": [
        "def connectKey (chave):\n",
        "  '''\n",
        "  Conecta ao drive para obtenção de chave\n",
        "  chave = nome da chave em string\n",
        "  '''\n",
        "  # Cria compartilhamento com Google Drive\n",
        "  drive.mount('/content/drive', force_remount=True)\n",
        "\n",
        "  # Arquivo a ser acessado na pasta compartilhada\n",
        "  target = chave\n",
        "\n",
        "  # Caminho completo da pasta compartilhada\n",
        "  folder = '/content/drive/MyDrive/Classroom/AD2 - Analista de Dados/ProjetoFinal'\n",
        "\n",
        "  # Acesso ao arquivo no colab\n",
        "  return os.path.join(folder, target)\n",
        "\n"
      ],
      "metadata": {
        "id": "friV8C_2CO_I"
      },
      "execution_count": 3,
      "outputs": []
    },
    {
      "cell_type": "markdown",
      "source": [
        "### Compartilhamento Chave GDrive"
      ],
      "metadata": {
        "id": "J5R3Nt3Q1er7"
      }
    },
    {
      "cell_type": "code",
      "source": [
        "# Nome da chave a ser acessada\n",
        "chaveGcp = 'projeto-final-ad2-e8-ae566c3a2c2b.json'\n",
        "\n",
        "# Chave GCP\n",
        "serviceAccount = connectKey(chaveGcp)"
      ],
      "metadata": {
        "colab": {
          "base_uri": "https://localhost:8080/"
        },
        "id": "pSoSXbShcQVp",
        "outputId": "3af1439f-5acc-4f46-d988-af6dd67a312f"
      },
      "execution_count": 4,
      "outputs": [
        {
          "output_type": "stream",
          "name": "stdout",
          "text": [
            "Mounted at /content/drive\n"
          ]
        }
      ]
    },
    {
      "cell_type": "code",
      "source": [
        "# Nome da chave a ser acessada\n",
        "chaveMongo = 'X509-cert-5608832275999674572.pem'\n",
        "\n",
        "# Chave MongoDB\n",
        "mongoKey = connectKey(chaveMongo)"
      ],
      "metadata": {
        "colab": {
          "base_uri": "https://localhost:8080/"
        },
        "id": "79gLQC6bCE5L",
        "outputId": "8c659d4c-2163-4ad5-bf93-cdde77fab909"
      },
      "execution_count": 5,
      "outputs": [
        {
          "output_type": "stream",
          "name": "stdout",
          "text": [
            "Mounted at /content/drive\n"
          ]
        }
      ]
    },
    {
      "cell_type": "markdown",
      "source": [
        "### Configuração Conexão MongoDB"
      ],
      "metadata": {
        "id": "iw_HBWma1nHd"
      }
    },
    {
      "cell_type": "code",
      "source": [
        "# configurando conexão\n",
        "uri = \"mongodb+srv://energy.drstakp.mongodb.net/?authSource=%24external&authMechanism=MONGODB-X509&retryWrites=true&w=majority\"\n",
        "client = MongoClient(uri,\n",
        "\t\t\t\t\t tls=True,\n",
        "\t\t\t\t\t tlsCertificateKeyFile= mongoKey)"
      ],
      "metadata": {
        "id": "Zzgp2wP_J1zP"
      },
      "execution_count": 6,
      "outputs": []
    },
    {
      "cell_type": "markdown",
      "source": [
        "### Configuração da bucket"
      ],
      "metadata": {
        "id": "0dZJqZvm1DES"
      }
    },
    {
      "cell_type": "code",
      "source": [
        "# Nome da bucket\n",
        "bucket_name = 'projeto-final-ad2-e8'\n",
        "\n",
        "# Caminho do prefixo\n",
        "prefix_name = 'dados/tratados/'"
      ],
      "metadata": {
        "id": "BrCJdqEZb2Hv"
      },
      "execution_count": 7,
      "outputs": []
    },
    {
      "cell_type": "code",
      "source": [
        "# Conexão com a conta do Google Cloud\n",
        "os.environ['GOOGLE_APPLICATION_CREDENTIALS'] = serviceAccount"
      ],
      "metadata": {
        "id": "CyymFDdQ2akm"
      },
      "execution_count": 8,
      "outputs": []
    },
    {
      "cell_type": "code",
      "source": [
        "# Conexão com a bucket do Google Cloud\n",
        "client = storage.Client()\n",
        "bucket = client.get_bucket(bucket_name)"
      ],
      "metadata": {
        "id": "TV-rH7EWbVpm"
      },
      "execution_count": 9,
      "outputs": []
    },
    {
      "cell_type": "markdown",
      "source": [
        "### Conjuntos de dados"
      ],
      "metadata": {
        "id": "Aa2mhAJnEEYp"
      }
    },
    {
      "cell_type": "code",
      "source": [
        "# Formatação tabular\n",
        "data_table.enable_dataframe_formatter()\n",
        "\n",
        "#data_table.disable_dataframe_formatter()"
      ],
      "metadata": {
        "id": "bvgEB5V7ZP5a"
      },
      "execution_count": 10,
      "outputs": []
    },
    {
      "cell_type": "code",
      "source": [
        "# Listando conjuntos de dados na bucket\n",
        "blobList = [x.name for x in bucket.list_blobs(prefix = prefix_name)]\n",
        "\n",
        "# dataframe lista blobs\n",
        "blobDf = pd.DataFrame(blobList)\n",
        "\n",
        "blobDf"
      ],
      "metadata": {
        "colab": {
          "base_uri": "https://localhost:8080/",
          "height": 359
        },
        "id": "2slicw962vbz",
        "outputId": "45a314e2-8f11-480e-d04f-a82a8ee3d6b7"
      },
      "execution_count": 11,
      "outputs": [
        {
          "output_type": "execute_result",
          "data": {
            "text/plain": [
              "                                                    0\n",
              "0                                     dados/tratados/\n",
              "1               dados/tratados/dataset_tratados_xlsx/\n",
              "2   dados/tratados/dataset_tratados_xlsx/2_1_cap_i...\n",
              "3   dados/tratados/dataset_tratados_xlsx/2_2_cap_i...\n",
              "4   dados/tratados/dataset_tratados_xlsx/2_2_cap_i...\n",
              "5   dados/tratados/dataset_tratados_xlsx/2_3_gerac...\n",
              "6   dados/tratados/fator_capacidade_mwh_2015_2023.csv\n",
              "7      dados/tratados/geracao_distribuida_tratado.csv\n",
              "8        dados/tratados/iea_ponto_recarga_tratado.csv\n",
              "9             dados/tratados/iea_veiculos_tratado.csv\n",
              "10     dados/tratados/tratado_geracao_distribuida.csv"
            ],
            "text/html": [
              "\n",
              "\n",
              "  <div id=\"df-07edc582-1b5e-4a00-ba42-bc4398df4245\">\n",
              "    <div class=\"colab-df-container\">\n",
              "      <div>\n",
              "<style scoped>\n",
              "    .dataframe tbody tr th:only-of-type {\n",
              "        vertical-align: middle;\n",
              "    }\n",
              "\n",
              "    .dataframe tbody tr th {\n",
              "        vertical-align: top;\n",
              "    }\n",
              "\n",
              "    .dataframe thead th {\n",
              "        text-align: right;\n",
              "    }\n",
              "</style>\n",
              "<table border=\"1\" class=\"dataframe\">\n",
              "  <thead>\n",
              "    <tr style=\"text-align: right;\">\n",
              "      <th></th>\n",
              "      <th>0</th>\n",
              "    </tr>\n",
              "  </thead>\n",
              "  <tbody>\n",
              "    <tr>\n",
              "      <th>0</th>\n",
              "      <td>dados/tratados/</td>\n",
              "    </tr>\n",
              "    <tr>\n",
              "      <th>1</th>\n",
              "      <td>dados/tratados/dataset_tratados_xlsx/</td>\n",
              "    </tr>\n",
              "    <tr>\n",
              "      <th>2</th>\n",
              "      <td>dados/tratados/dataset_tratados_xlsx/2_1_cap_i...</td>\n",
              "    </tr>\n",
              "    <tr>\n",
              "      <th>3</th>\n",
              "      <td>dados/tratados/dataset_tratados_xlsx/2_2_cap_i...</td>\n",
              "    </tr>\n",
              "    <tr>\n",
              "      <th>4</th>\n",
              "      <td>dados/tratados/dataset_tratados_xlsx/2_2_cap_i...</td>\n",
              "    </tr>\n",
              "    <tr>\n",
              "      <th>5</th>\n",
              "      <td>dados/tratados/dataset_tratados_xlsx/2_3_gerac...</td>\n",
              "    </tr>\n",
              "    <tr>\n",
              "      <th>6</th>\n",
              "      <td>dados/tratados/fator_capacidade_mwh_2015_2023.csv</td>\n",
              "    </tr>\n",
              "    <tr>\n",
              "      <th>7</th>\n",
              "      <td>dados/tratados/geracao_distribuida_tratado.csv</td>\n",
              "    </tr>\n",
              "    <tr>\n",
              "      <th>8</th>\n",
              "      <td>dados/tratados/iea_ponto_recarga_tratado.csv</td>\n",
              "    </tr>\n",
              "    <tr>\n",
              "      <th>9</th>\n",
              "      <td>dados/tratados/iea_veiculos_tratado.csv</td>\n",
              "    </tr>\n",
              "    <tr>\n",
              "      <th>10</th>\n",
              "      <td>dados/tratados/tratado_geracao_distribuida.csv</td>\n",
              "    </tr>\n",
              "  </tbody>\n",
              "</table>\n",
              "</div>\n",
              "      <button class=\"colab-df-convert\" onclick=\"convertToInteractive('df-07edc582-1b5e-4a00-ba42-bc4398df4245')\"\n",
              "              title=\"Convert this dataframe to an interactive table.\"\n",
              "              style=\"display:none;\">\n",
              "\n",
              "  <svg xmlns=\"http://www.w3.org/2000/svg\" height=\"24px\"viewBox=\"0 0 24 24\"\n",
              "       width=\"24px\">\n",
              "    <path d=\"M0 0h24v24H0V0z\" fill=\"none\"/>\n",
              "    <path d=\"M18.56 5.44l.94 2.06.94-2.06 2.06-.94-2.06-.94-.94-2.06-.94 2.06-2.06.94zm-11 1L8.5 8.5l.94-2.06 2.06-.94-2.06-.94L8.5 2.5l-.94 2.06-2.06.94zm10 10l.94 2.06.94-2.06 2.06-.94-2.06-.94-.94-2.06-.94 2.06-2.06.94z\"/><path d=\"M17.41 7.96l-1.37-1.37c-.4-.4-.92-.59-1.43-.59-.52 0-1.04.2-1.43.59L10.3 9.45l-7.72 7.72c-.78.78-.78 2.05 0 2.83L4 21.41c.39.39.9.59 1.41.59.51 0 1.02-.2 1.41-.59l7.78-7.78 2.81-2.81c.8-.78.8-2.07 0-2.86zM5.41 20L4 18.59l7.72-7.72 1.47 1.35L5.41 20z\"/>\n",
              "  </svg>\n",
              "      </button>\n",
              "\n",
              "\n",
              "\n",
              "    <div id=\"df-afbcdca8-295d-4d53-ad02-8a31cc5497cb\">\n",
              "      <button class=\"colab-df-quickchart\" onclick=\"quickchart('df-afbcdca8-295d-4d53-ad02-8a31cc5497cb')\"\n",
              "              title=\"Suggest charts.\"\n",
              "              style=\"display:none;\">\n",
              "\n",
              "<svg xmlns=\"http://www.w3.org/2000/svg\" height=\"24px\"viewBox=\"0 0 24 24\"\n",
              "     width=\"24px\">\n",
              "    <g>\n",
              "        <path d=\"M19 3H5c-1.1 0-2 .9-2 2v14c0 1.1.9 2 2 2h14c1.1 0 2-.9 2-2V5c0-1.1-.9-2-2-2zM9 17H7v-7h2v7zm4 0h-2V7h2v10zm4 0h-2v-4h2v4z\"/>\n",
              "    </g>\n",
              "</svg>\n",
              "      </button>\n",
              "    </div>\n",
              "\n",
              "<style>\n",
              "  .colab-df-quickchart {\n",
              "    background-color: #E8F0FE;\n",
              "    border: none;\n",
              "    border-radius: 50%;\n",
              "    cursor: pointer;\n",
              "    display: none;\n",
              "    fill: #1967D2;\n",
              "    height: 32px;\n",
              "    padding: 0 0 0 0;\n",
              "    width: 32px;\n",
              "  }\n",
              "\n",
              "  .colab-df-quickchart:hover {\n",
              "    background-color: #E2EBFA;\n",
              "    box-shadow: 0px 1px 2px rgba(60, 64, 67, 0.3), 0px 1px 3px 1px rgba(60, 64, 67, 0.15);\n",
              "    fill: #174EA6;\n",
              "  }\n",
              "\n",
              "  [theme=dark] .colab-df-quickchart {\n",
              "    background-color: #3B4455;\n",
              "    fill: #D2E3FC;\n",
              "  }\n",
              "\n",
              "  [theme=dark] .colab-df-quickchart:hover {\n",
              "    background-color: #434B5C;\n",
              "    box-shadow: 0px 1px 3px 1px rgba(0, 0, 0, 0.15);\n",
              "    filter: drop-shadow(0px 1px 2px rgba(0, 0, 0, 0.3));\n",
              "    fill: #FFFFFF;\n",
              "  }\n",
              "</style>\n",
              "\n",
              "    <script>\n",
              "      async function quickchart(key) {\n",
              "        const containerElement = document.querySelector('#' + key);\n",
              "        const charts = await google.colab.kernel.invokeFunction(\n",
              "            'suggestCharts', [key], {});\n",
              "      }\n",
              "    </script>\n",
              "\n",
              "      <script>\n",
              "\n",
              "function displayQuickchartButton(domScope) {\n",
              "  let quickchartButtonEl =\n",
              "    domScope.querySelector('#df-afbcdca8-295d-4d53-ad02-8a31cc5497cb button.colab-df-quickchart');\n",
              "  quickchartButtonEl.style.display =\n",
              "    google.colab.kernel.accessAllowed ? 'block' : 'none';\n",
              "}\n",
              "\n",
              "        displayQuickchartButton(document);\n",
              "      </script>\n",
              "      <style>\n",
              "    .colab-df-container {\n",
              "      display:flex;\n",
              "      flex-wrap:wrap;\n",
              "      gap: 12px;\n",
              "    }\n",
              "\n",
              "    .colab-df-convert {\n",
              "      background-color: #E8F0FE;\n",
              "      border: none;\n",
              "      border-radius: 50%;\n",
              "      cursor: pointer;\n",
              "      display: none;\n",
              "      fill: #1967D2;\n",
              "      height: 32px;\n",
              "      padding: 0 0 0 0;\n",
              "      width: 32px;\n",
              "    }\n",
              "\n",
              "    .colab-df-convert:hover {\n",
              "      background-color: #E2EBFA;\n",
              "      box-shadow: 0px 1px 2px rgba(60, 64, 67, 0.3), 0px 1px 3px 1px rgba(60, 64, 67, 0.15);\n",
              "      fill: #174EA6;\n",
              "    }\n",
              "\n",
              "    [theme=dark] .colab-df-convert {\n",
              "      background-color: #3B4455;\n",
              "      fill: #D2E3FC;\n",
              "    }\n",
              "\n",
              "    [theme=dark] .colab-df-convert:hover {\n",
              "      background-color: #434B5C;\n",
              "      box-shadow: 0px 1px 3px 1px rgba(0, 0, 0, 0.15);\n",
              "      filter: drop-shadow(0px 1px 2px rgba(0, 0, 0, 0.3));\n",
              "      fill: #FFFFFF;\n",
              "    }\n",
              "  </style>\n",
              "\n",
              "      <script>\n",
              "        const buttonEl =\n",
              "          document.querySelector('#df-07edc582-1b5e-4a00-ba42-bc4398df4245 button.colab-df-convert');\n",
              "        buttonEl.style.display =\n",
              "          google.colab.kernel.accessAllowed ? 'block' : 'none';\n",
              "\n",
              "        async function convertToInteractive(key) {\n",
              "          const element = document.querySelector('#df-07edc582-1b5e-4a00-ba42-bc4398df4245');\n",
              "          const dataTable =\n",
              "            await google.colab.kernel.invokeFunction('convertToInteractive',\n",
              "                                                     [key], {});\n",
              "          if (!dataTable) return;\n",
              "\n",
              "          const docLinkHtml = 'Like what you see? Visit the ' +\n",
              "            '<a target=\"_blank\" href=https://colab.research.google.com/notebooks/data_table.ipynb>data table notebook</a>'\n",
              "            + ' to learn more about interactive tables.';\n",
              "          element.innerHTML = '';\n",
              "          dataTable['output_type'] = 'display_data';\n",
              "          await google.colab.output.renderOutput(dataTable, element);\n",
              "          const docLink = document.createElement('div');\n",
              "          docLink.innerHTML = docLinkHtml;\n",
              "          element.appendChild(docLink);\n",
              "        }\n",
              "      </script>\n",
              "    </div>\n",
              "  </div>\n"
            ],
            "application/vnd.google.colaboratory.module+javascript": "\n      import \"https://ssl.gstatic.com/colaboratory/data_table/881c4a0d49046431/data_table.js\";\n\n      const table = window.createDataTable({\n        data: [[{\n            'v': 0,\n            'f': \"0\",\n        },\n\"dados/tratados/\"],\n [{\n            'v': 1,\n            'f': \"1\",\n        },\n\"dados/tratados/dataset_tratados_xlsx/\"],\n [{\n            'v': 2,\n            'f': \"2\",\n        },\n\"dados/tratados/dataset_tratados_xlsx/2_1_cap_instalada_por_regiao_e_uf_tratado.xlsx\"],\n [{\n            'v': 3,\n            'f': \"3\",\n        },\n\"dados/tratados/dataset_tratados_xlsx/2_2_cap_instalada_de_geracao_eletrica_por_fonte_mw.csv\"],\n [{\n            'v': 4,\n            'f': \"4\",\n        },\n\"dados/tratados/dataset_tratados_xlsx/2_2_cap_instalada_de_geracao_eletrica_por_fonte_mw.xlsx\"],\n [{\n            'v': 5,\n            'f': \"5\",\n        },\n\"dados/tratados/dataset_tratados_xlsx/2_3_geracao_eletrica_por_fonte_gwh_tratado.xlsx\"],\n [{\n            'v': 6,\n            'f': \"6\",\n        },\n\"dados/tratados/fator_capacidade_mwh_2015_2023.csv\"],\n [{\n            'v': 7,\n            'f': \"7\",\n        },\n\"dados/tratados/geracao_distribuida_tratado.csv\"],\n [{\n            'v': 8,\n            'f': \"8\",\n        },\n\"dados/tratados/iea_ponto_recarga_tratado.csv\"],\n [{\n            'v': 9,\n            'f': \"9\",\n        },\n\"dados/tratados/iea_veiculos_tratado.csv\"],\n [{\n            'v': 10,\n            'f': \"10\",\n        },\n\"dados/tratados/tratado_geracao_distribuida.csv\"]],\n        columns: [[\"number\", \"index\"], [\"string\", \"0\"]],\n        columnOptions: [{\"width\": \"1px\", \"className\": \"index_column\"}],\n        rowsPerPage: 25,\n        helpUrl: \"https://colab.research.google.com/notebooks/data_table.ipynb\",\n        suppressOutputScrolling: true,\n        minimumWidth: undefined,\n      });\n      \n      function appendQuickchartButton(parentElement) {\n        let quickchartButtonContainerElement = document.createElement('div');\n        quickchartButtonContainerElement.innerHTML = `\n    <div id=\"df-27e062bc-48d5-4f75-9f8a-6d3f6d9e5f48\">\n      <button class=\"colab-df-quickchart\" onclick=\"quickchart('df-27e062bc-48d5-4f75-9f8a-6d3f6d9e5f48')\"\n              title=\"Suggest charts.\"\n              style=\"display:none;\">\n\n<svg xmlns=\"http://www.w3.org/2000/svg\" height=\"24px\"viewBox=\"0 0 24 24\"\n     width=\"24px\">\n    <g>\n        <path d=\"M19 3H5c-1.1 0-2 .9-2 2v14c0 1.1.9 2 2 2h14c1.1 0 2-.9 2-2V5c0-1.1-.9-2-2-2zM9 17H7v-7h2v7zm4 0h-2V7h2v10zm4 0h-2v-4h2v4z\"/>\n    </g>\n</svg>\n      </button>\n    </div>\n\n<style>\n  .colab-df-quickchart {\n    background-color: #E8F0FE;\n    border: none;\n    border-radius: 50%;\n    cursor: pointer;\n    display: none;\n    fill: #1967D2;\n    height: 32px;\n    padding: 0 0 0 0;\n    width: 32px;\n  }\n\n  .colab-df-quickchart:hover {\n    background-color: #E2EBFA;\n    box-shadow: 0px 1px 2px rgba(60, 64, 67, 0.3), 0px 1px 3px 1px rgba(60, 64, 67, 0.15);\n    fill: #174EA6;\n  }\n\n  [theme=dark] .colab-df-quickchart {\n    background-color: #3B4455;\n    fill: #D2E3FC;\n  }\n\n  [theme=dark] .colab-df-quickchart:hover {\n    background-color: #434B5C;\n    box-shadow: 0px 1px 3px 1px rgba(0, 0, 0, 0.15);\n    filter: drop-shadow(0px 1px 2px rgba(0, 0, 0, 0.3));\n    fill: #FFFFFF;\n  }\n</style>\n\n    <script>\n      async function quickchart(key) {\n        const containerElement = document.querySelector('#' + key);\n        const charts = await google.colab.kernel.invokeFunction(\n            'suggestCharts', [key], {});\n      }\n    </script>\n`;\n        parentElement.appendChild(quickchartButtonContainerElement);\n        \nfunction displayQuickchartButton(domScope) {\n  let quickchartButtonEl =\n    domScope.querySelector('#df-27e062bc-48d5-4f75-9f8a-6d3f6d9e5f48 button.colab-df-quickchart');\n  quickchartButtonEl.style.display =\n    google.colab.kernel.accessAllowed ? 'block' : 'none';\n}\n\n        displayQuickchartButton(parentElement);\n      }\n\n      appendQuickchartButton(table);\n    "
          },
          "metadata": {},
          "execution_count": 11
        }
      ]
    },
    {
      "cell_type": "markdown",
      "source": [
        "### Seleção do conjunto de dados"
      ],
      "metadata": {
        "id": "QH7YW34taBbR"
      }
    },
    {
      "cell_type": "code",
      "source": [
        "# Seleção do blob - CSV\n",
        "blobC1 = 'dados/tratados/fator_capacidade_mwh_2015_2023.csv'\n",
        "blobC2 = 'dados/tratados/tratado_geracao_distribuida.csv'\n",
        "blobC3 = 'dados/tratados/iea_ponto_recarga_tratado.csv'\n",
        "blobC4 = 'dados/tratados/iea_veiculos_tratado.csv'\n",
        "\n",
        "# Seleção do blob - EXCEL\n",
        "blobE1 = 'dados/tratados/dataset_tratados_xlsx/2_1_cap_instalada_por_regiao_e_uf_tratado.xlsx'\n",
        "blobE2 = \t'dados/tratados/dataset_tratados_xlsx/2_2_cap_instalada_de_geracao_eletrica_por_fonte_mw.xlsx'\n",
        "blobE3 = \t'dados/tratados/dataset_tratados_xlsx/2_3_geracao_eletrica_por_fonte_gwh_tratado.xlsx'"
      ],
      "metadata": {
        "id": "G8ObSJZmaeAL"
      },
      "execution_count": null,
      "outputs": []
    },
    {
      "cell_type": "code",
      "source": [
        "# Caminho gsutil do arquivo\n",
        "\n",
        "pathC = {\n",
        "        'fator_capacidade' : f'gs://{bucket_name}/{blobC1}',\n",
        "        'geracao_distribuida' : f'gs://{bucket_name}/{blobC2}',\n",
        "        'iea_recarga' : f'gs://{bucket_name}/{blobC3}',\n",
        "        'iea_veiculos' : f'gs://{bucket_name}/{blobC4}'\n",
        "}\n",
        "\n",
        "pathE = {\n",
        "        'instalada_regiao' : f'gs://{bucket_name}/{blobE1}',\n",
        "        'instalada_fonte' : f'gs://{bucket_name}/{blobE2}',\n",
        "        'geracao_fonte' : f'gs://{bucket_name}/{blobE3}'\n",
        "}"
      ],
      "metadata": {
        "id": "_f15se_jLs3O",
        "colab": {
          "base_uri": "https://localhost:8080/"
        },
        "outputId": "5bc30338-2f9c-46c0-97ff-1080e742ea2d"
      },
      "execution_count": null,
      "outputs": [
        {
          "output_type": "stream",
          "name": "stdout",
          "text": [
            "gs://projeto-final-ad2-e8/dados/tratados/iea_ponto_recarga_bruto.csv\n"
          ]
        }
      ]
    },
    {
      "cell_type": "markdown",
      "source": [
        "## Collection"
      ],
      "metadata": {
        "id": "ou_IzTfq4yPg"
      }
    },
    {
      "cell_type": "code",
      "source": [
        "# Criando instância client\n",
        "db = client['backup_tratados']\n",
        "\n",
        "# Criando coleções\n",
        "collection_csv = db['csv']\n",
        "collection_excel = db['excel']"
      ],
      "metadata": {
        "id": "b6LpBr6b44hb"
      },
      "execution_count": null,
      "outputs": []
    },
    {
      "cell_type": "markdown",
      "source": [
        "### Verificação"
      ],
      "metadata": {
        "id": "hosXMRiXEg57"
      }
    },
    {
      "cell_type": "code",
      "source": [
        "# Verificando valores no MongoDB\n",
        "doc_count_csv = collection_csv.count_documents({})\n",
        "doc_count_excel = collection_excel.count_documents({})\n",
        "\n",
        "print( f'\\n-CSV: {doc_count_csv} \\n-EXCEL: {doc_count_excel}')"
      ],
      "metadata": {
        "id": "taBeCO0_6b6u"
      },
      "execution_count": null,
      "outputs": []
    },
    {
      "cell_type": "markdown",
      "source": [
        "## Integração Google Cloud Storage - MongoDB"
      ],
      "metadata": {
        "id": "wgXTwxQXBMjK"
      }
    },
    {
      "cell_type": "markdown",
      "source": [
        "### Extração da bucket"
      ],
      "metadata": {
        "id": "1RUCtvRBEXmM"
      }
    },
    {
      "cell_type": "markdown",
      "source": [
        "#### CSV"
      ],
      "metadata": {
        "id": "8XcfkS118xSJ"
      }
    },
    {
      "cell_type": "code",
      "source": [
        "dictC = {}\n",
        "\n",
        "for k, v in pathC:\n",
        "  dfC = pd.read_csv(v)\n",
        "\n",
        "  dictC[k] = dfC\n",
        "\n",
        "print(dictC)"
      ],
      "metadata": {
        "id": "NZqEm8rfEXEm",
        "colab": {
          "base_uri": "https://localhost:8080/"
        },
        "outputId": "0b91ef3b-2d3e-48d9-e34e-443622e62687"
      },
      "execution_count": null,
      "outputs": [
        {
          "output_type": "stream",
          "name": "stdout",
          "text": [
            "Falha na leitura do DataFrame: gs://projeto-final-ad2-e8/dados/tratados/iea_ponto_recarga_bruto.csv!\n"
          ]
        }
      ]
    },
    {
      "cell_type": "markdown",
      "source": [
        "#### EXCEL"
      ],
      "metadata": {
        "id": "TNO_tv1h8xvw"
      }
    },
    {
      "cell_type": "code",
      "source": [
        "dictE = {}\n",
        "\n",
        "for k, v in pathE:\n",
        "  dfE = pd.read_excel(v)\n",
        "\n",
        "  dictE[k] = dfE\n",
        "\n",
        "print(dictE)"
      ],
      "metadata": {
        "id": "cOy59X6_oo7l"
      },
      "execution_count": null,
      "outputs": []
    },
    {
      "cell_type": "markdown",
      "source": [
        "### Carregamento na coleção"
      ],
      "metadata": {
        "id": "8hpjeOytDGkp"
      }
    },
    {
      "cell_type": "code",
      "source": [
        "for k, v in dictC:\n",
        "  df_dict = v.to_dict(\"records\")\n",
        "\n",
        "  collection_csv.insert_many(df_dict)"
      ],
      "metadata": {
        "id": "MMRhN2ntC1qJ"
      },
      "execution_count": null,
      "outputs": []
    },
    {
      "cell_type": "code",
      "source": [
        "for k, v in dictE:\n",
        "  df_dict = v.to_dict(\"records\")\n",
        "\n",
        "  collection_excel.insert_many(df_dict)"
      ],
      "metadata": {
        "id": "hnx693afD9fN"
      },
      "execution_count": null,
      "outputs": []
    },
    {
      "cell_type": "markdown",
      "source": [
        "#### Verificação"
      ],
      "metadata": {
        "id": "TWE5_W7LETpB"
      }
    },
    {
      "cell_type": "code",
      "source": [
        "for k, v in dictC:\n",
        "  df_dict = v.to_dict(\"records\")\n",
        "\n",
        "  collection_csv.insert_many(df_dict)"
      ],
      "metadata": {
        "id": "ydqix5RuEW5A"
      },
      "execution_count": null,
      "outputs": []
    },
    {
      "cell_type": "markdown",
      "source": [
        "# Status"
      ],
      "metadata": {
        "id": "F8KbZcdyErLV"
      }
    },
    {
      "cell_type": "code",
      "source": [
        "print(\"BACKUP CONCLUÍDO COM SUCESSO!!!\")"
      ],
      "metadata": {
        "id": "QmDQnku4Eqt5"
      },
      "execution_count": null,
      "outputs": []
    }
  ]
}